{
 "cells": [
  {
   "metadata": {},
   "cell_type": "markdown",
   "source": [
    "# Lab 1: language modeling\n",
    "__Author : Benjamin Ternot__"
   ],
   "id": "253664bca1c34a4d"
  },
  {
   "metadata": {},
   "cell_type": "markdown",
   "source": "# Imports and utils",
   "id": "c047c98fc59c21ee"
  },
  {
   "metadata": {
    "ExecuteTime": {
     "end_time": "2025-02-04T10:14:13.325764Z",
     "start_time": "2025-02-04T10:14:10.744551Z"
    }
   },
   "cell_type": "code",
   "source": [
    "import itertools\n",
    "import os\n",
    "\n",
    "from IPython.display import display, HTML\n",
    "import math\n",
    "import matplotlib.pyplot as plt\n",
    "import numpy as np\n",
    "import torch\n",
    "from torch import nn\n",
    "from tqdm import tqdm\n",
    "\n",
    "%matplotlib ipympl"
   ],
   "id": "fe7e256ede6a940a",
   "outputs": [],
   "execution_count": 1
  },
  {
   "metadata": {
    "ExecuteTime": {
     "end_time": "2025-02-04T10:14:13.338910Z",
     "start_time": "2025-02-04T10:14:13.333033Z"
    }
   },
   "cell_type": "code",
   "source": [
    "def display_answer(title, answer):\n",
    "    if isinstance(answer, list):\n",
    "        string_display = f\"\"\"<div class=\"alert alert-block alert-success\"> <h1>{title}:</h1><ul>\"\"\"\n",
    "        for a in answer:\n",
    "            string_display += f\"<li>{a}</li>\"\n",
    "        string_display += \"</ul></div>\"\n",
    "    elif isinstance(answer, str):\n",
    "        string_display = f\"\"\"<div class=\"alert alert-block alert-success\"> <h1>{title}:</h1>{answer} </div>\"\"\"\n",
    "    else:\n",
    "        raise ValueError(\"Answer should be a string or a list of strings.\")\n",
    "    display(HTML(string_display))"
   ],
   "id": "51e05aa09d01e7a2",
   "outputs": [],
   "execution_count": 2
  },
  {
   "cell_type": "code",
   "id": "7863ccaa-86c7-47fd-84f3-89ff94ecfc79",
   "metadata": {
    "ExecuteTime": {
     "end_time": "2025-02-04T10:14:13.576374Z",
     "start_time": "2025-02-04T10:14:13.504248Z"
    }
   },
   "source": [
    "# Cell A\n",
    "# load data\n",
    "github_path = \"https://raw.githubusercontent.com/najoungkim/COGS/main/data\"\n",
    "data = {}\n",
    "for name in ['train', 'dev', 'test', 'gen']:\n",
    "    url = os.path.join(github_path, '{}.tsv'.format(name))\n",
    "    filepath = '{}.tsv'.format(name)\n",
    "    if not os.path.isfile(filepath):\n",
    "        os.system('wget {}'.format(url))\n",
    "    assert os.path.isfile(filepath)\n",
    "    lines = open(filepath, 'r')\n",
    "    lines = map(lambda x: x.strip(), lines)\n",
    "    lines = map(lambda x: x.split('\\t')[0], lines)\n",
    "    data[name] = list(lines)\n",
    "\n",
    "# look at the data\n",
    "for name in ['train', 'dev', 'test', 'gen']:\n",
    "    print('=== {} ({} sentences)==='.format(name.upper(), len(data[name])))\n",
    "    print('\\n'.join(data[name][:10]))"
   ],
   "outputs": [
    {
     "name": "stdout",
     "output_type": "stream",
     "text": [
      "=== TRAIN (24155 sentences)===\n",
      "A rose was helped by a dog .\n",
      "The sailor dusted a boy .\n",
      "Emma rolled a teacher .\n",
      "Evelyn rolled the girl .\n",
      "A cake was forwarded to Levi by Charlotte .\n",
      "The captain ate .\n",
      "The girl needed to cook .\n",
      "A cake rolled .\n",
      "The cookie was passed to Emma .\n",
      "Emma ate the ring beside a bed .\n",
      "=== DEV (3000 sentences)===\n",
      "Liam hoped that a box was burned by a girl .\n",
      "The donkey lended the cookie to a mother .\n",
      "A melon was given to a girl by the guard .\n",
      "A donut was given to a butterfly .\n",
      "A rose was mailed to Isabella .\n",
      "The girl offered the weapon beside a machine to a chicken .\n",
      "A donut was touched by Emma .\n",
      "Liam painted a box on a table beside the chair .\n",
      "Emma ate a hammer .\n",
      "A drink was juggled .\n",
      "=== TEST (3000 sentences)===\n",
      "Mila liked that the cake was offered to Emma .\n",
      "A coach supported that the cake was snapped .\n",
      "The moose wanted to read .\n",
      "A box was given to the cat by Aiden .\n",
      "Emma cleaned the boy .\n",
      "The dog painted the boy .\n",
      "The sailor cleaned .\n",
      "The customer held the priest in a box .\n",
      "Ella ate Emma .\n",
      "Nora was fed the gumball .\n",
      "=== GEN (21000 sentences)===\n",
      "Paula painted a cake in a closet .\n",
      "Zoe thought that a hippo cleaned .\n",
      "The princess teleported a cookie to the goose .\n",
      "A cockroach gave a pretzel to Olivia .\n",
      "The girl hoped that the hippo painted .\n",
      "Emma declared that a cobra grew .\n",
      "William tolerated that Charlie fed the cake on the stage to the boy .\n",
      "Paula promised a chair beside the computer to Emma .\n",
      "The queen froze the strawberry in the cabinet beside the shoe on the chair in the box on a road on a rock on a bench in a cage beside the bed on a vessel on the table beside the book .\n",
      "Charlie loaned the cake in a house to the girl .\n"
     ]
    }
   ],
   "execution_count": 3
  },
  {
   "cell_type": "code",
   "id": "a2f0862c-a85f-4f7d-8cdb-afebbebe7fe0",
   "metadata": {
    "ExecuteTime": {
     "end_time": "2025-02-04T10:14:13.822108Z",
     "start_time": "2025-02-04T10:14:13.592521Z"
    }
   },
   "source": [
    "# Cell B\n",
    "# Tokenization\n",
    "# The final period is separated with a white space from the final word. This is a basic form of tokenization.\n",
    "# The same is done as a pre-processing step with all punctuation (comma, question mark...).\n",
    "# Turn sentences into lists of tokens: (here, token = word or punctuation mark; more generally, any sequence of ascii considered a unit)\n",
    "for name in data:\n",
    "    data[name] = list(map(lambda x: x.split(), data[name]))\n",
    "# Normalization\n",
    "# Here, uppercase vs lowercase is not so useful, and it just increases the size of the vocabulary (see below).\n",
    "# So, let's turn all words into lowercase. Other possible normalization includes stemming.\n",
    "# After this last stage of pre-processing, we have tokens.\n",
    "tokens = {}\n",
    "for name in data:\n",
    "    tokens[name] = list(map(lambda x: [y.lower() for y in x], data[name]))\n",
    "# Finally, add beginning-of-sentence and end-of-sentence tokens\n",
    "for name in tokens:\n",
    "    tokens[name] = list(map(lambda x: ['<bos>'] + x + ['<eos>'], tokens[name]))"
   ],
   "outputs": [],
   "execution_count": 4
  },
  {
   "cell_type": "code",
   "id": "6898ec0e-d384-4c7c-b446-99999288b662",
   "metadata": {
    "ExecuteTime": {
     "end_time": "2025-02-04T10:14:13.867714Z",
     "start_time": "2025-02-04T10:14:13.830277Z"
    }
   },
   "source": [
    "# Cell C\n",
    "# Vocabulary\n",
    "# Let's set up the alphabet (noted V during the lecture), usually called vocabulary to avoid confusion\n",
    "class Vocabulary:\n",
    "    def __init__(self):\n",
    "        self.vocab = set()\n",
    "    def add(self, word):\n",
    "        self.vocab.add(word)\n",
    "    def process(self, sentence):\n",
    "        assert isinstance(sentence, list) or isinstance(sentence, tuple)\n",
    "        assert all(isinstance(x, str) for x in sentence)\n",
    "        self.vocab.update(set(sentence))\n",
    "    def size(self):\n",
    "        return len(self.vocab)\n",
    "# Create the vocabulary from the training data\n",
    "vocabulary = Vocabulary()\n",
    "for sentence in tokens['train']:\n",
    "    vocabulary.process(sentence)\n",
    "# Q1: What is the size of the vocabulary?"
   ],
   "outputs": [],
   "execution_count": 5
  },
  {
   "metadata": {
    "ExecuteTime": {
     "end_time": "2025-02-04T10:14:13.882234Z",
     "start_time": "2025-02-04T10:14:13.875640Z"
    }
   },
   "cell_type": "code",
   "source": "display_answer(\"Q1\", f\"The size of the vocabulary is {vocabulary.size()}.\")",
   "id": "fdc91000eb97bded",
   "outputs": [
    {
     "data": {
      "text/plain": [
       "<IPython.core.display.HTML object>"
      ],
      "text/html": [
       "<div class=\"alert alert-block alert-success\"> <h1>Q1:</h1>The size of the vocabulary is 743. </div>"
      ]
     },
     "metadata": {},
     "output_type": "display_data"
    }
   ],
   "execution_count": 6
  },
  {
   "cell_type": "code",
   "id": "8129596d-5022-4cec-9abc-7bf758e19133",
   "metadata": {
    "ExecuteTime": {
     "end_time": "2025-02-04T10:14:13.930965Z",
     "start_time": "2025-02-04T10:14:13.912831Z"
    }
   },
   "source": [
    "# Cell D\n",
    "# n-gram model\n",
    "class Probability:\n",
    "    # special class to store small probabilities\n",
    "    def __init__(self, p, log_scale = False):\n",
    "        if log_scale:\n",
    "            assert p >= 0, p\n",
    "            self.value = p\n",
    "        else:\n",
    "            assert p <= 1, p\n",
    "            assert p >= 0, p\n",
    "            if p == 0:\n",
    "                self.value = float('inf')\n",
    "            else:\n",
    "                self.value = -math.log(p)\n",
    "\n",
    "    def get_p(self):\n",
    "        p = math.exp(-self.value)\n",
    "        assert p >= 0, p\n",
    "        assert p <= 1, p\n",
    "        return p\n",
    "\n",
    "    def multiply(self, p):\n",
    "        assert isinstance(p, Probability)\n",
    "        self.value += p.value\n",
    "        \n",
    "class NgramCounter:\n",
    "    def __init__(self, n, smoothing=0):\n",
    "        assert isinstance(n, int)\n",
    "        assert n > 0\n",
    "        assert isinstance(smoothing, int)\n",
    "        assert smoothing >= 0\n",
    "        self.n = n # the length of ngrams that we store\n",
    "        self.smoothing = smoothing\n",
    "        self.ngrams = {}\n",
    "        self.vocab = Vocabulary()\n",
    "\n",
    "    def count(self, ngram):\n",
    "        assert isinstance(ngram, tuple)\n",
    "        assert len(ngram) <= self.n\n",
    "        self.ngrams.setdefault(ngram, 0)\n",
    "        self.ngrams[ngram] += 1\n",
    "        self.vocab.process(ngram)\n",
    "\n",
    "    def shorten_history(self, history, max_length=None):\n",
    "        if max_length is None:\n",
    "            max_length = self.n-1\n",
    "        if max_length == 0:\n",
    "            return []\n",
    "        if len(history) > max_length:\n",
    "            history = history[-max_length:]\n",
    "        return history\n",
    "        \n",
    "    def process(self, tokens):\n",
    "        assert isinstance(tokens, list)\n",
    "        assert all(isinstance(x, str) for x in tokens)\n",
    "        for tt in range(len(tokens)):\n",
    "            for ll in range(1,self.n+1): # we need to count all lengths of ngrams\n",
    "                if tt+ll > len(tokens):\n",
    "                    break\n",
    "                ngram = tokens[tt:tt+ll]\n",
    "                self.count(tuple(ngram))\n",
    "\n",
    "    def get_count(self, ngram, history=False):\n",
    "        if isinstance(ngram, str):\n",
    "            count = self.ngrams.get((ngram,), 0)\n",
    "        else:\n",
    "            count = self.ngrams.get(tuple(ngram), 0)\n",
    "        if history:\n",
    "            count += self.smoothing*self.vocab.size()\n",
    "        else:\n",
    "            count += self.smoothing\n",
    "        return count\n",
    "\n",
    "    def get_unigram_count(self):\n",
    "        output = 0\n",
    "        for ngram, count in self.ngrams.items():\n",
    "            if len(ngram) == 1:\n",
    "                output += count\n",
    "        output += self.smoothing*self.vocab.size()\n",
    "        return output\n",
    "    \n",
    "    def conditional_probability(self, token, history):\n",
    "        # return p(token | history)\n",
    "        assert isinstance(token, str)\n",
    "        assert isinstance(history, list)\n",
    "        assert all(isinstance(x, str) for x in history)\n",
    "        history = self.shorten_history(history)\n",
    "        ngram = tuple(history) + (token,)\n",
    "        count = self.get_count(ngram)\n",
    "        assert count is not None, ngram\n",
    "        if len(history) == 0:\n",
    "            Z = self.get_unigram_count()\n",
    "            assert Z > 0, Z\n",
    "            return Probability(count/Z)\n",
    "        else:\n",
    "            Z = self.get_count(history, history=True)\n",
    "            assert Z > 0, '{}: {}'.format(history, Z)\n",
    "            return Probability(count/Z)\n",
    "    \n",
    "    def probability(self, tokens):\n",
    "        logprob = self.compute_logprob(tokens) \n",
    "        return logprob.get_p()\n",
    "\n",
    "    def compute_logprob(self, tokens):\n",
    "        probs = [None for _ in tokens]\n",
    "        for tt in range(len(tokens)):\n",
    "            history = tokens[:tt]\n",
    "            cp = self.conditional_probability(tokens[tt], history)\n",
    "            probs[tt] = cp\n",
    "        assert all(x is not None for x in probs)\n",
    "        logprob = sum(x.value for x in probs)\n",
    "        logprob = Probability(logprob, log_scale = True)\n",
    "        return logprob\n",
    "\n",
    "    def perplexity(self, tokens):\n",
    "        logprob = self.compute_logprob(tokens)\n",
    "        perplexity = Probability(logprob.value/len(tokens), log_scale = True)\n",
    "        return perplexity.value\n",
    "\n",
    "    def get_top_ngrams(self, length=None, n=10):\n",
    "        ngrams = sorted(self.ngrams.items(), key=lambda x: (-x[1], x[0]))\n",
    "        if length is not None:\n",
    "            ngrams = list(filter(lambda x: len(x[0]) == length, ngrams))\n",
    "        return ngrams[:n] "
   ],
   "outputs": [],
   "execution_count": 7
  },
  {
   "cell_type": "code",
   "id": "ca3ae972-3dee-409f-8931-ae39bb2d39cf",
   "metadata": {
    "ExecuteTime": {
     "end_time": "2025-02-04T10:14:15.776717Z",
     "start_time": "2025-02-04T10:14:13.934972Z"
    }
   },
   "source": [
    "# Cell E\n",
    "# build ngram model\n",
    "def fit(model, data):\n",
    "    for sentence in data:\n",
    "        model.process(sentence)\n",
    "ngram_model = NgramCounter(25)\n",
    "fit(ngram_model, tokens['train'])"
   ],
   "outputs": [],
   "execution_count": 8
  },
  {
   "cell_type": "code",
   "id": "fb4c47fa-6d20-4a2e-9ea1-ffc337a7a7c4",
   "metadata": {
    "ExecuteTime": {
     "end_time": "2025-02-04T10:14:15.792895Z",
     "start_time": "2025-02-04T10:14:15.788734Z"
    }
   },
   "source": [
    "# Cell F\n",
    "# Q2: What do you expect the following probabilities to be? Why?\n",
    "print(ngram_model.conditional_probability('<eos>', ['.']).get_p())\n",
    "print(ngram_model.conditional_probability('<eos>', ['<bos>']).get_p())"
   ],
   "outputs": [
    {
     "name": "stdout",
     "output_type": "stream",
     "text": [
      "1.0\n",
      "0.0\n"
     ]
    }
   ],
   "execution_count": 9
  },
  {
   "metadata": {
    "ExecuteTime": {
     "end_time": "2025-02-04T10:14:15.824747Z",
     "start_time": "2025-02-04T10:14:15.818740Z"
    }
   },
   "cell_type": "code",
   "source": [
    "display_answer(\n",
    "    \"Q2\",\n",
    "    [\n",
    "        \"The first probability is expected to be 1, because the end of sentence token is always the last token in a sentence, so it always follows a point.\",\n",
    "        \"The second probability is expected to be 0, because the beginning of sentence token is never followed by the end of sentence token.\"\n",
    "    ]\n",
    ")"
   ],
   "id": "ef40f72bde65f9d",
   "outputs": [
    {
     "data": {
      "text/plain": [
       "<IPython.core.display.HTML object>"
      ],
      "text/html": [
       "<div class=\"alert alert-block alert-success\"> <h1>Q2:</h1><ul><li>The first probability is expected to be 1, because the end of sentence token is always the last token in a sentence, so it always follows a point.</li><li>The second probability is expected to be 0, because the beginning of sentence token is never followed by the end of sentence token.</li></ul></div>"
      ]
     },
     "metadata": {},
     "output_type": "display_data"
    }
   ],
   "execution_count": 10
  },
  {
   "cell_type": "code",
   "id": "c5433f79-1ce3-4c85-bf43-ccf6d99e5266",
   "metadata": {
    "ExecuteTime": {
     "end_time": "2025-02-04T10:14:42.885484Z",
     "start_time": "2025-02-04T10:14:15.856586Z"
    }
   },
   "source": [
    "# Cell G\n",
    "# Look at the top ngrams\n",
    "for n in range(1,ngram_model.n+1):\n",
    "    print('=== {} ==='.format(n))\n",
    "    top_ngrams = ngram_model.get_top_ngrams(length=n)\n",
    "    for x in top_ngrams:\n",
    "        print('{}: {}'.format(*x))"
   ],
   "outputs": [
    {
     "name": "stdout",
     "output_type": "stream",
     "text": [
      "=== 1 ===\n",
      "('<bos>',): 24155\n",
      "('<eos>',): 24155\n",
      "('.',): 24012\n",
      "('the',): 20237\n",
      "('a',): 20153\n",
      "('was',): 11650\n",
      "('by',): 6985\n",
      "('to',): 5901\n",
      "('cake',): 4847\n",
      "('girl',): 4625\n",
      "=== 2 ===\n",
      "('.', '<eos>'): 24012\n",
      "('<bos>', 'a'): 8255\n",
      "('<bos>', 'the'): 8198\n",
      "('the', 'cake'): 2444\n",
      "('a', 'cake'): 2403\n",
      "('the', 'girl'): 2333\n",
      "('a', 'girl'): 2291\n",
      "('cake', 'was'): 2177\n",
      "('<bos>', 'emma'): 1999\n",
      "('by', 'the'): 1791\n",
      "=== 3 ===\n",
      "('girl', '.', '<eos>'): 1669\n",
      "('emma', '.', '<eos>'): 1537\n",
      "('the', 'cake', 'was'): 1118\n",
      "('a', 'cake', 'was'): 1059\n",
      "('<bos>', 'the', 'girl'): 1031\n",
      "('<bos>', 'a', 'girl'): 1020\n",
      "('<bos>', 'the', 'cake'): 981\n",
      "('<bos>', 'a', 'cake'): 924\n",
      "('by', 'emma', '.'): 922\n",
      "('was', 'given', 'to'): 866\n",
      "=== 4 ===\n",
      "('<bos>', 'the', 'cake', 'was'): 961\n",
      "('by', 'emma', '.', '<eos>'): 922\n",
      "('<bos>', 'a', 'cake', 'was'): 906\n",
      "('a', 'girl', '.', '<eos>'): 842\n",
      "('the', 'girl', '.', '<eos>'): 827\n",
      "('by', 'the', 'girl', '.'): 511\n",
      "('by', 'a', 'girl', '.'): 475\n",
      "('<bos>', 'a', 'donut', 'was'): 432\n",
      "('by', 'liam', '.', '<eos>'): 426\n",
      "('<bos>', 'the', 'donut', 'was'): 420\n",
      "=== 5 ===\n",
      "('by', 'the', 'girl', '.', '<eos>'): 511\n",
      "('by', 'a', 'girl', '.', '<eos>'): 475\n",
      "('to', 'a', 'girl', '.', '<eos>'): 236\n",
      "('by', 'a', 'boy', '.', '<eos>'): 228\n",
      "('to', 'the', 'girl', '.', '<eos>'): 214\n",
      "('in', 'the', 'house', '.', '<eos>'): 211\n",
      "('by', 'the', 'boy', '.', '<eos>'): 210\n",
      "('beside', 'a', 'table', '.', '<eos>'): 202\n",
      "('beside', 'the', 'table', '.', '<eos>'): 199\n",
      "('in', 'a', 'house', '.', '<eos>'): 182\n",
      "=== 6 ===\n",
      "('<bos>', 'the', 'cake', 'was', 'given', 'to'): 120\n",
      "('<bos>', 'a', 'cake', 'was', 'given', 'to'): 118\n",
      "('cake', 'in', 'the', 'house', '.', '<eos>'): 60\n",
      "('<bos>', 'a', 'cake', 'was', 'lended', 'to'): 52\n",
      "('<bos>', 'a', 'donut', 'was', 'given', 'to'): 49\n",
      "('cake', 'beside', 'the', 'table', '.', '<eos>'): 49\n",
      "('cake', 'on', 'the', 'table', '.', '<eos>'): 45\n",
      "('<bos>', 'the', 'cake', 'was', 'liked', 'by'): 44\n",
      "('cake', 'on', 'a', 'table', '.', '<eos>'): 43\n",
      "('cake', 'beside', 'a', 'table', '.', '<eos>'): 42\n",
      "=== 7 ===\n",
      "('<bos>', 'a', 'cake', 'was', 'given', 'to', 'a'): 37\n",
      "('the', 'cake', 'in', 'the', 'house', '.', '<eos>'): 37\n",
      "('<bos>', 'the', 'cake', 'was', 'given', 'to', 'the'): 33\n",
      "('was', 'rolled', 'by', 'the', 'girl', '.', '<eos>'): 29\n",
      "('a', 'cake', 'beside', 'the', 'table', '.', '<eos>'): 28\n",
      "('was', 'given', 'to', 'a', 'girl', '.', '<eos>'): 28\n",
      "('<bos>', 'the', 'cake', 'was', 'given', 'to', 'a'): 26\n",
      "('was', 'liked', 'by', 'a', 'girl', '.', '<eos>'): 26\n",
      "('was', 'liked', 'by', 'the', 'girl', '.', '<eos>'): 26\n",
      "('to', 'the', 'girl', 'by', 'emma', '.', '<eos>'): 25\n",
      "=== 8 ===\n",
      "('<bos>', 'the', 'cake', 'was', 'given', 'to', 'emma', 'by'): 15\n",
      "('<bos>', 'the', 'cake', 'was', 'given', 'to', 'the', 'girl'): 9\n",
      "('was', 'given', 'a', 'cake', 'by', 'emma', '.', '<eos>'): 9\n",
      "('<bos>', 'a', 'cake', 'was', 'given', 'to', 'a', 'girl'): 8\n",
      "('<bos>', 'a', 'cake', 'was', 'lended', 'to', 'emma', 'by'): 8\n",
      "('a', 'cake', 'was', 'given', 'to', 'a', 'girl', 'by'): 8\n",
      "('given', 'to', 'a', 'girl', 'by', 'liam', '.', '<eos>'): 8\n",
      "('the', 'cake', 'was', 'given', 'to', 'the', 'girl', 'by'): 8\n",
      "('to', 'the', 'boy', 'by', 'a', 'girl', '.', '<eos>'): 8\n",
      "('was', 'given', 'to', 'a', 'girl', 'by', 'liam', '.'): 8\n",
      "=== 9 ===\n",
      "('<bos>', 'the', 'cake', 'was', 'given', 'to', 'the', 'girl', 'by'): 8\n",
      "('was', 'given', 'to', 'a', 'girl', 'by', 'liam', '.', '<eos>'): 8\n",
      "('<bos>', 'a', 'cake', 'was', 'given', 'to', 'a', 'girl', 'by'): 7\n",
      "('was', 'given', 'to', 'the', 'girl', 'by', 'emma', '.', '<eos>'): 6\n",
      "('<bos>', 'the', 'cake', 'was', 'given', 'to', 'emma', 'by', 'the'): 5\n",
      "('<bos>', 'a', 'cake', 'was', 'given', 'to', 'a', 'boy', 'by'): 4\n",
      "('<bos>', 'a', 'cake', 'was', 'given', 'to', 'a', 'cat', 'by'): 4\n",
      "('<bos>', 'a', 'cake', 'was', 'given', 'to', 'the', 'girl', 'by'): 4\n",
      "('<bos>', 'a', 'cake', 'was', 'offered', 'to', 'a', 'girl', 'by'): 4\n",
      "('<bos>', 'a', 'donut', 'was', 'given', 'to', 'the', 'girl', 'by'): 4\n",
      "=== 10 ===\n",
      "('<bos>', 'a', 'cake', 'was', 'given', 'to', 'a', 'boy', 'by', 'the'): 3\n",
      "('<bos>', 'the', 'cake', 'was', 'given', 'to', 'the', 'girl', 'by', 'the'): 3\n",
      "('was', 'given', 'to', 'a', 'cat', 'by', 'the', 'girl', '.', '<eos>'): 3\n",
      "('was', 'given', 'to', 'the', 'baby', 'by', 'the', 'girl', '.', '<eos>'): 3\n",
      "('<bos>', 'a', 'block', 'was', 'given', 'to', 'the', 'girl', 'by', 'a'): 2\n",
      "('<bos>', 'a', 'box', 'was', 'given', 'to', 'the', 'girl', 'by', 'the'): 2\n",
      "('<bos>', 'a', 'cake', 'was', 'given', 'to', 'a', 'girl', 'by', 'a'): 2\n",
      "('<bos>', 'a', 'cake', 'was', 'given', 'to', 'a', 'girl', 'by', 'the'): 2\n",
      "('<bos>', 'a', 'crayon', 'was', 'given', 'to', 'a', 'cat', 'by', 'the'): 2\n",
      "('<bos>', 'a', 'girl', 'was', 'given', 'a', 'cake', 'in', 'a', 'house'): 2\n",
      "=== 11 ===\n",
      "('<bos>', 'a', 'girl', 'was', 'given', 'the', 'cake', 'beside', 'a', 'table', 'by'): 2\n",
      "('<bos>', 'emma', 'liked', 'that', 'the', 'cake', 'was', 'given', 'to', 'a', 'girl'): 2\n",
      "('cake', 'was', 'lended', 'to', 'the', 'boy', 'by', 'the', 'girl', '.', '<eos>'): 2\n",
      "('emma', 'liked', 'that', 'the', 'cake', 'was', 'given', 'to', 'a', 'girl', 'by'): 2\n",
      "('gave', 'a', 'cake', 'on', 'the', 'table', 'to', 'the', 'boy', '.', '<eos>'): 2\n",
      "('given', 'the', 'cake', 'in', 'the', 'vehicle', 'by', 'the', 'girl', '.', '<eos>'): 2\n",
      "('the', 'cake', 'was', 'given', 'to', 'noah', 'by', 'a', 'girl', '.', '<eos>'): 2\n",
      "('the', 'donut', 'was', 'given', 'to', 'a', 'girl', 'by', 'liam', '.', '<eos>'): 2\n",
      "('was', 'given', 'a', 'cake', 'beside', 'a', 'table', 'by', 'olivia', '.', '<eos>'): 2\n",
      "('was', 'given', 'the', 'cake', 'in', 'the', 'vehicle', 'by', 'the', 'girl', '.'): 2\n",
      "=== 12 ===\n",
      "('<bos>', 'emma', 'liked', 'that', 'the', 'cake', 'was', 'given', 'to', 'a', 'girl', 'by'): 2\n",
      "('was', 'given', 'the', 'cake', 'in', 'the', 'vehicle', 'by', 'the', 'girl', '.', '<eos>'): 2\n",
      "('<bos>', 'a', 'baby', 'believed', 'that', 'a', 'cake', 'was', 'lended', 'to', 'the', 'boy'): 1\n",
      "('<bos>', 'a', 'baby', 'discovered', 'the', 'cake', 'on', 'the', 'stage', 'on', 'a', 'shelf'): 1\n",
      "('<bos>', 'a', 'baby', 'gave', 'a', 'jacket', 'on', 'the', 'stage', 'to', 'emma', '.'): 1\n",
      "('<bos>', 'a', 'baby', 'gave', 'emma', 'the', 'balloon', 'on', 'the', 'barrel', '.', '<eos>'): 1\n",
      "('<bos>', 'a', 'baby', 'gave', 'mia', 'a', 'cake', 'in', 'the', 'car', '.', '<eos>'): 1\n",
      "('<bos>', 'a', 'baby', 'gave', 'the', 'cake', 'on', 'a', 'stage', 'to', 'emma', '.'): 1\n",
      "('<bos>', 'a', 'baby', 'gave', 'the', 'cake', 'on', 'the', 'table', 'to', 'a', 'teacher'): 1\n",
      "('<bos>', 'a', 'baby', 'gave', 'the', 'donut', 'beside', 'a', 'desk', 'to', 'a', 'girl'): 1\n",
      "=== 13 ===\n",
      "('<bos>', 'a', 'baby', 'believed', 'that', 'a', 'cake', 'was', 'lended', 'to', 'the', 'boy', '.'): 1\n",
      "('<bos>', 'a', 'baby', 'discovered', 'the', 'cake', 'on', 'the', 'stage', 'on', 'a', 'shelf', '.'): 1\n",
      "('<bos>', 'a', 'baby', 'gave', 'a', 'jacket', 'on', 'the', 'stage', 'to', 'emma', '.', '<eos>'): 1\n",
      "('<bos>', 'a', 'baby', 'gave', 'the', 'cake', 'on', 'a', 'stage', 'to', 'emma', '.', '<eos>'): 1\n",
      "('<bos>', 'a', 'baby', 'gave', 'the', 'cake', 'on', 'the', 'table', 'to', 'a', 'teacher', '.'): 1\n",
      "('<bos>', 'a', 'baby', 'gave', 'the', 'donut', 'beside', 'a', 'desk', 'to', 'a', 'girl', '.'): 1\n",
      "('<bos>', 'a', 'baby', 'gave', 'the', 'donut', 'on', 'the', 'table', 'to', 'emma', '.', '<eos>'): 1\n",
      "('<bos>', 'a', 'baby', 'hoped', 'that', 'a', 'can', 'was', 'passed', 'to', 'a', 'girl', 'by'): 1\n",
      "('<bos>', 'a', 'baby', 'hoped', 'that', 'a', 'plate', 'was', 'given', 'to', 'isabella', '.', '<eos>'): 1\n",
      "('<bos>', 'a', 'baby', 'hoped', 'that', 'the', 'cat', 'gave', 'the', 'game', 'to', 'charlotte', '.'): 1\n",
      "=== 14 ===\n",
      "('<bos>', 'a', 'baby', 'believed', 'that', 'a', 'cake', 'was', 'lended', 'to', 'the', 'boy', '.', '<eos>'): 1\n",
      "('<bos>', 'a', 'baby', 'discovered', 'the', 'cake', 'on', 'the', 'stage', 'on', 'a', 'shelf', '.', '<eos>'): 1\n",
      "('<bos>', 'a', 'baby', 'gave', 'the', 'cake', 'on', 'the', 'table', 'to', 'a', 'teacher', '.', '<eos>'): 1\n",
      "('<bos>', 'a', 'baby', 'gave', 'the', 'donut', 'beside', 'a', 'desk', 'to', 'a', 'girl', '.', '<eos>'): 1\n",
      "('<bos>', 'a', 'baby', 'hoped', 'that', 'a', 'can', 'was', 'passed', 'to', 'a', 'girl', 'by', 'a'): 1\n",
      "('<bos>', 'a', 'baby', 'hoped', 'that', 'the', 'cat', 'gave', 'the', 'game', 'to', 'charlotte', '.', '<eos>'): 1\n",
      "('<bos>', 'a', 'baby', 'lended', 'the', 'donut', 'beside', 'a', 'table', 'to', 'a', 'champion', '.', '<eos>'): 1\n",
      "('<bos>', 'a', 'baby', 'lended', 'the', 'fig', 'on', 'a', 'chair', 'to', 'a', 'giraffe', '.', '<eos>'): 1\n",
      "('<bos>', 'a', 'baby', 'lended', 'the', 'melon', 'in', 'the', 'room', 'to', 'a', 'boy', '.', '<eos>'): 1\n",
      "('<bos>', 'a', 'baby', 'liked', 'that', 'a', 'cat', 'dreamed', 'that', 'penelope', 'was', 'slipped', 'a', 'cake'): 1\n",
      "=== 15 ===\n",
      "('<bos>', 'a', 'baby', 'hoped', 'that', 'a', 'can', 'was', 'passed', 'to', 'a', 'girl', 'by', 'a', 'boy'): 1\n",
      "('<bos>', 'a', 'baby', 'liked', 'that', 'a', 'cat', 'dreamed', 'that', 'penelope', 'was', 'slipped', 'a', 'cake', '.'): 1\n",
      "('<bos>', 'a', 'baby', 'liked', 'that', 'emma', 'was', 'sold', 'the', 'cake', 'in', 'a', 'shoe', 'by', 'a'): 1\n",
      "('<bos>', 'a', 'baby', 'noticed', 'that', 'a', 'teacher', 'gave', 'olivia', 'the', 'cookie', 'beside', 'a', 'table', '.'): 1\n",
      "('<bos>', 'a', 'baby', 'offered', 'a', 'boy', 'the', 'cake', 'beside', 'the', 'bed', 'beside', 'the', 'table', '.'): 1\n",
      "('<bos>', 'a', 'baby', 'proved', 'that', 'the', 'doctor', 'hoped', 'that', 'the', 'donut', 'was', 'wired', 'to', 'a'): 1\n",
      "('<bos>', 'a', 'baby', 'respected', 'that', 'olivia', 'was', 'offered', 'a', 'box', 'in', 'a', 'shoebox', '.', '<eos>'): 1\n",
      "('<bos>', 'a', 'baby', 'was', 'given', 'a', 'donut', 'on', 'the', 'bed', 'on', 'a', 'chair', 'by', 'the'): 1\n",
      "('<bos>', 'a', 'baby', 'was', 'given', 'the', 'cake', 'in', 'the', 'soup', 'by', 'a', 'boy', '.', '<eos>'): 1\n",
      "('<bos>', 'a', 'baby', 'was', 'given', 'the', 'cake', 'on', 'a', 'bed', 'by', 'a', 'girl', '.', '<eos>'): 1\n",
      "=== 16 ===\n",
      "('<bos>', 'a', 'baby', 'hoped', 'that', 'a', 'can', 'was', 'passed', 'to', 'a', 'girl', 'by', 'a', 'boy', '.'): 1\n",
      "('<bos>', 'a', 'baby', 'liked', 'that', 'a', 'cat', 'dreamed', 'that', 'penelope', 'was', 'slipped', 'a', 'cake', '.', '<eos>'): 1\n",
      "('<bos>', 'a', 'baby', 'liked', 'that', 'emma', 'was', 'sold', 'the', 'cake', 'in', 'a', 'shoe', 'by', 'a', 'girl'): 1\n",
      "('<bos>', 'a', 'baby', 'noticed', 'that', 'a', 'teacher', 'gave', 'olivia', 'the', 'cookie', 'beside', 'a', 'table', '.', '<eos>'): 1\n",
      "('<bos>', 'a', 'baby', 'offered', 'a', 'boy', 'the', 'cake', 'beside', 'the', 'bed', 'beside', 'the', 'table', '.', '<eos>'): 1\n",
      "('<bos>', 'a', 'baby', 'proved', 'that', 'the', 'doctor', 'hoped', 'that', 'the', 'donut', 'was', 'wired', 'to', 'a', 'teacher'): 1\n",
      "('<bos>', 'a', 'baby', 'was', 'given', 'a', 'donut', 'on', 'the', 'bed', 'on', 'a', 'chair', 'by', 'the', 'girl'): 1\n",
      "('<bos>', 'a', 'baby', 'was', 'given', 'the', 'cake', 'on', 'the', 'notebook', 'on', 'the', 'sofa', 'by', 'the', 'dog'): 1\n",
      "('<bos>', 'a', 'bear', 'liked', 'that', 'the', 'cat', 'was', 'brought', 'a', 'strawberry', 'in', 'the', 'refrigerator', 'by', 'a'): 1\n",
      "('<bos>', 'a', 'bear', 'respected', 'that', 'noah', 'liked', 'that', 'the', 'cake', 'was', 'drawn', 'by', 'a', 'girl', '.'): 1\n",
      "=== 17 ===\n",
      "('<bos>', 'a', 'baby', 'hoped', 'that', 'a', 'can', 'was', 'passed', 'to', 'a', 'girl', 'by', 'a', 'boy', '.', '<eos>'): 1\n",
      "('<bos>', 'a', 'baby', 'liked', 'that', 'emma', 'was', 'sold', 'the', 'cake', 'in', 'a', 'shoe', 'by', 'a', 'girl', '.'): 1\n",
      "('<bos>', 'a', 'baby', 'proved', 'that', 'the', 'doctor', 'hoped', 'that', 'the', 'donut', 'was', 'wired', 'to', 'a', 'teacher', '.'): 1\n",
      "('<bos>', 'a', 'baby', 'was', 'given', 'a', 'donut', 'on', 'the', 'bed', 'on', 'a', 'chair', 'by', 'the', 'girl', '.'): 1\n",
      "('<bos>', 'a', 'baby', 'was', 'given', 'the', 'cake', 'on', 'the', 'notebook', 'on', 'the', 'sofa', 'by', 'the', 'dog', '.'): 1\n",
      "('<bos>', 'a', 'bear', 'liked', 'that', 'the', 'cat', 'was', 'brought', 'a', 'strawberry', 'in', 'the', 'refrigerator', 'by', 'a', 'girl'): 1\n",
      "('<bos>', 'a', 'bear', 'respected', 'that', 'noah', 'liked', 'that', 'the', 'cake', 'was', 'drawn', 'by', 'a', 'girl', '.', '<eos>'): 1\n",
      "('<bos>', 'a', 'boy', 'believed', 'that', 'a', 'frog', 'liked', 'that', 'the', 'child', 'returned', 'a', 'girl', 'a', 'needle', 'beside'): 1\n",
      "('<bos>', 'a', 'boy', 'confessed', 'that', 'olivia', 'returned', 'the', 'girl', 'the', 'donut', 'on', 'the', 'tripod', 'in', 'the', 'house'): 1\n",
      "('<bos>', 'a', 'boy', 'hoped', 'that', 'luna', 'imagined', 'that', 'a', 'girl', 'was', 'lended', 'a', 'donut', 'by', 'the', 'sailor'): 1\n",
      "=== 18 ===\n",
      "('<bos>', 'a', 'baby', 'liked', 'that', 'emma', 'was', 'sold', 'the', 'cake', 'in', 'a', 'shoe', 'by', 'a', 'girl', '.', '<eos>'): 1\n",
      "('<bos>', 'a', 'baby', 'proved', 'that', 'the', 'doctor', 'hoped', 'that', 'the', 'donut', 'was', 'wired', 'to', 'a', 'teacher', '.', '<eos>'): 1\n",
      "('<bos>', 'a', 'baby', 'was', 'given', 'a', 'donut', 'on', 'the', 'bed', 'on', 'a', 'chair', 'by', 'the', 'girl', '.', '<eos>'): 1\n",
      "('<bos>', 'a', 'baby', 'was', 'given', 'the', 'cake', 'on', 'the', 'notebook', 'on', 'the', 'sofa', 'by', 'the', 'dog', '.', '<eos>'): 1\n",
      "('<bos>', 'a', 'bear', 'liked', 'that', 'the', 'cat', 'was', 'brought', 'a', 'strawberry', 'in', 'the', 'refrigerator', 'by', 'a', 'girl', '.'): 1\n",
      "('<bos>', 'a', 'boy', 'believed', 'that', 'a', 'frog', 'liked', 'that', 'the', 'child', 'returned', 'a', 'girl', 'a', 'needle', 'beside', 'the'): 1\n",
      "('<bos>', 'a', 'boy', 'confessed', 'that', 'olivia', 'returned', 'the', 'girl', 'the', 'donut', 'on', 'the', 'tripod', 'in', 'the', 'house', '.'): 1\n",
      "('<bos>', 'a', 'boy', 'hoped', 'that', 'luna', 'imagined', 'that', 'a', 'girl', 'was', 'lended', 'a', 'donut', 'by', 'the', 'sailor', '.'): 1\n",
      "('<bos>', 'a', 'boy', 'noticed', 'that', 'a', 'dog', 'sold', 'the', 'chalk', 'in', 'the', 'house', 'to', 'the', 'girl', '.', '<eos>'): 1\n",
      "('<bos>', 'a', 'boy', 'was', 'rented', 'the', 'cake', 'in', 'a', 'tent', 'on', 'the', 'leaflet', 'by', 'a', 'cat', '.', '<eos>'): 1\n",
      "=== 19 ===\n",
      "('<bos>', 'a', 'bear', 'liked', 'that', 'the', 'cat', 'was', 'brought', 'a', 'strawberry', 'in', 'the', 'refrigerator', 'by', 'a', 'girl', '.', '<eos>'): 1\n",
      "('<bos>', 'a', 'boy', 'believed', 'that', 'a', 'frog', 'liked', 'that', 'the', 'child', 'returned', 'a', 'girl', 'a', 'needle', 'beside', 'the', 'clock'): 1\n",
      "('<bos>', 'a', 'boy', 'confessed', 'that', 'olivia', 'returned', 'the', 'girl', 'the', 'donut', 'on', 'the', 'tripod', 'in', 'the', 'house', '.', '<eos>'): 1\n",
      "('<bos>', 'a', 'boy', 'hoped', 'that', 'luna', 'imagined', 'that', 'a', 'girl', 'was', 'lended', 'a', 'donut', 'by', 'the', 'sailor', '.', '<eos>'): 1\n",
      "('<bos>', 'a', 'chicken', 'liked', 'that', 'a', 'girl', 'was', 'sold', 'a', 'cake', 'beside', 'the', 'seat', 'by', 'a', 'chief', '.', '<eos>'): 1\n",
      "('<bos>', 'a', 'dog', 'believed', 'that', 'a', 'girl', 'passed', 'the', 'giraffe', 'the', 'basket', 'beside', 'a', 'road', 'in', 'a', 'wardrobe', '.'): 1\n",
      "('<bos>', 'a', 'dog', 'respected', 'that', 'emma', 'rented', 'the', 'biscuit', 'in', 'a', 'pot', 'beside', 'a', 'nest', 'to', 'the', 'boy', '.'): 1\n",
      "('<bos>', 'a', 'friend', 'hoped', 'that', 'a', 'butterfly', 'hoped', 'that', 'a', 'monkey', 'cooked', 'a', 'girl', 'beside', 'a', 'table', '.', '<eos>'): 1\n",
      "('<bos>', 'a', 'girl', 'admired', 'that', 'a', 'baby', 'wished', 'that', 'a', 'donut', 'was', 'lended', 'to', 'the', 'frog', 'by', 'ryan', '.'): 1\n",
      "('<bos>', 'a', 'girl', 'hoped', 'that', 'a', 'hero', 'brought', 'the', 'cake', 'on', 'the', 'cabinet', 'beside', 'a', 'trainee', 'to', 'noah', '.'): 1\n",
      "=== 20 ===\n",
      "('<bos>', 'a', 'boy', 'believed', 'that', 'a', 'frog', 'liked', 'that', 'the', 'child', 'returned', 'a', 'girl', 'a', 'needle', 'beside', 'the', 'clock', '.'): 1\n",
      "('<bos>', 'a', 'dog', 'believed', 'that', 'a', 'girl', 'passed', 'the', 'giraffe', 'the', 'basket', 'beside', 'a', 'road', 'in', 'a', 'wardrobe', '.', '<eos>'): 1\n",
      "('<bos>', 'a', 'dog', 'respected', 'that', 'emma', 'rented', 'the', 'biscuit', 'in', 'a', 'pot', 'beside', 'a', 'nest', 'to', 'the', 'boy', '.', '<eos>'): 1\n",
      "('<bos>', 'a', 'girl', 'admired', 'that', 'a', 'baby', 'wished', 'that', 'a', 'donut', 'was', 'lended', 'to', 'the', 'frog', 'by', 'ryan', '.', '<eos>'): 1\n",
      "('<bos>', 'a', 'girl', 'hoped', 'that', 'a', 'hero', 'brought', 'the', 'cake', 'on', 'the', 'cabinet', 'beside', 'a', 'trainee', 'to', 'noah', '.', '<eos>'): 1\n",
      "('<bos>', 'a', 'girl', 'liked', 'that', 'the', 'prince', 'gave', 'the', 'pancake', 'beside', 'the', 'bed', 'beside', 'the', 'mirror', 'to', 'emma', '.', '<eos>'): 1\n",
      "('<bos>', 'aiden', 'believed', 'that', 'a', 'mouse', 'hoped', 'that', 'olivia', 'examined', 'a', 'glue', 'beside', 'the', 'stage', 'beside', 'a', 'duck', '.', '<eos>'): 1\n",
      "('<bos>', 'emma', 'liked', 'that', 'a', 'girl', 'liked', 'that', 'the', 'cat', 'was', 'rented', 'a', 'cake', 'on', 'a', 'chair', 'on', 'the', 'computer'): 1\n",
      "('<bos>', 'emma', 'liked', 'that', 'the', 'boy', 'imagined', 'that', 'the', 'prince', 'was', 'forwarded', 'a', 'shoe', 'in', 'a', 'box', 'by', 'olivia', '.'): 1\n",
      "('<bos>', 'emma', 'tolerated', 'that', 'a', 'baby', 'liked', 'that', 'the', 'frog', 'offered', 'the', 'donkey', 'a', 'purse', 'on', 'a', 'pillow', '.', '<eos>'): 1\n",
      "=== 21 ===\n",
      "('<bos>', 'a', 'boy', 'believed', 'that', 'a', 'frog', 'liked', 'that', 'the', 'child', 'returned', 'a', 'girl', 'a', 'needle', 'beside', 'the', 'clock', '.', '<eos>'): 1\n",
      "('<bos>', 'emma', 'liked', 'that', 'a', 'girl', 'liked', 'that', 'the', 'cat', 'was', 'rented', 'a', 'cake', 'on', 'a', 'chair', 'on', 'the', 'computer', 'by'): 1\n",
      "('<bos>', 'emma', 'liked', 'that', 'the', 'boy', 'imagined', 'that', 'the', 'prince', 'was', 'forwarded', 'a', 'shoe', 'in', 'a', 'box', 'by', 'olivia', '.', '<eos>'): 1\n",
      "('<bos>', 'the', 'frog', 'hoped', 'that', 'the', 'girl', 'declared', 'that', 'the', 'boy', 'was', 'given', 'a', 'cake', 'beside', 'a', 'table', 'by', 'olivia', '.'): 1\n",
      "('<bos>', 'the', 'giraffe', 'liked', 'that', 'olivia', 'noticed', 'that', 'the', 'butterfly', 'was', 'given', 'the', 'drink', 'in', 'the', 'garden', 'on', 'a', 'table', '.'): 1\n",
      "('emma', 'liked', 'that', 'a', 'girl', 'liked', 'that', 'the', 'cat', 'was', 'rented', 'a', 'cake', 'on', 'a', 'chair', 'on', 'the', 'computer', 'by', 'michael'): 1\n",
      "('liked', 'that', 'a', 'girl', 'liked', 'that', 'the', 'cat', 'was', 'rented', 'a', 'cake', 'on', 'a', 'chair', 'on', 'the', 'computer', 'by', 'michael', '.'): 1\n",
      "('that', 'a', 'girl', 'liked', 'that', 'the', 'cat', 'was', 'rented', 'a', 'cake', 'on', 'a', 'chair', 'on', 'the', 'computer', 'by', 'michael', '.', '<eos>'): 1\n",
      "('the', 'frog', 'hoped', 'that', 'the', 'girl', 'declared', 'that', 'the', 'boy', 'was', 'given', 'a', 'cake', 'beside', 'a', 'table', 'by', 'olivia', '.', '<eos>'): 1\n",
      "('the', 'giraffe', 'liked', 'that', 'olivia', 'noticed', 'that', 'the', 'butterfly', 'was', 'given', 'the', 'drink', 'in', 'the', 'garden', 'on', 'a', 'table', '.', '<eos>'): 1\n",
      "=== 22 ===\n",
      "('<bos>', 'emma', 'liked', 'that', 'a', 'girl', 'liked', 'that', 'the', 'cat', 'was', 'rented', 'a', 'cake', 'on', 'a', 'chair', 'on', 'the', 'computer', 'by', 'michael'): 1\n",
      "('<bos>', 'the', 'frog', 'hoped', 'that', 'the', 'girl', 'declared', 'that', 'the', 'boy', 'was', 'given', 'a', 'cake', 'beside', 'a', 'table', 'by', 'olivia', '.', '<eos>'): 1\n",
      "('<bos>', 'the', 'giraffe', 'liked', 'that', 'olivia', 'noticed', 'that', 'the', 'butterfly', 'was', 'given', 'the', 'drink', 'in', 'the', 'garden', 'on', 'a', 'table', '.', '<eos>'): 1\n",
      "('emma', 'liked', 'that', 'a', 'girl', 'liked', 'that', 'the', 'cat', 'was', 'rented', 'a', 'cake', 'on', 'a', 'chair', 'on', 'the', 'computer', 'by', 'michael', '.'): 1\n",
      "('liked', 'that', 'a', 'girl', 'liked', 'that', 'the', 'cat', 'was', 'rented', 'a', 'cake', 'on', 'a', 'chair', 'on', 'the', 'computer', 'by', 'michael', '.', '<eos>'): 1\n",
      "=== 23 ===\n",
      "('<bos>', 'emma', 'liked', 'that', 'a', 'girl', 'liked', 'that', 'the', 'cat', 'was', 'rented', 'a', 'cake', 'on', 'a', 'chair', 'on', 'the', 'computer', 'by', 'michael', '.'): 1\n",
      "('emma', 'liked', 'that', 'a', 'girl', 'liked', 'that', 'the', 'cat', 'was', 'rented', 'a', 'cake', 'on', 'a', 'chair', 'on', 'the', 'computer', 'by', 'michael', '.', '<eos>'): 1\n",
      "=== 24 ===\n",
      "('<bos>', 'emma', 'liked', 'that', 'a', 'girl', 'liked', 'that', 'the', 'cat', 'was', 'rented', 'a', 'cake', 'on', 'a', 'chair', 'on', 'the', 'computer', 'by', 'michael', '.', '<eos>'): 1\n",
      "=== 25 ===\n"
     ]
    }
   ],
   "execution_count": 11
  },
  {
   "cell_type": "code",
   "id": "7ffada06-85eb-4c72-a82a-242b29f4fc55",
   "metadata": {
    "ExecuteTime": {
     "end_time": "2025-02-04T10:14:44.001747Z",
     "start_time": "2025-02-04T10:14:42.895583Z"
    }
   },
   "source": [
    "# Cell H\n",
    "# Zipf's law https://en.wikipedia.org/wiki/Zipf's_law\n",
    "# Q3: Run this code to produce a plot. What does this plot show? What is on the x-axis, what is on the y-axis?\n",
    "# Q4: According to this plot, is the ngram assumption justified? If you don't remember what the ngram assumption is, ask Nils.\n",
    "def get_ngram_frequencies(n):\n",
    "    frequencies = filter(lambda x: len(x[0]) == n, ngram_model.ngrams.items())\n",
    "    frequencies = map(lambda x: x[1], frequencies)\n",
    "    y = sorted(frequencies, reverse = True)\n",
    "    x = np.arange(len(y))\n",
    "    if len(x) == 0:\n",
    "        return None, None\n",
    "    else:\n",
    "        return x, y\n",
    "\n",
    "fig, ax = plt.subplots()\n",
    "ax.set_xscale('log')\n",
    "ax.set_yscale('log')\n",
    "for n in range(1,11):\n",
    "    x, y = get_ngram_frequencies(n)\n",
    "    if x is None:\n",
    "        continue\n",
    "    ax.plot(x, y, label=n)\n",
    "ax.legend()\n",
    "plt.show()"
   ],
   "outputs": [
    {
     "data": {
      "text/plain": [
       "Canvas(toolbar=Toolbar(toolitems=[('Home', 'Reset original view', 'home', 'home'), ('Back', 'Back to previous …"
      ],
      "image/png": "[encoded data removed]",
      "text/html": [
       "\n",
       "            <div style=\"display: inline-block;\">\n",
       "                <div class=\"jupyter-widgets widget-label\" style=\"text-align: center;\">\n",
       "                    Figure\n",
       "                </div>\n",
       "                <img src='data:image/png;base64,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' width=640.0/>\n",
       "            </div>\n",
       "        "
      ],
      "application/vnd.jupyter.widget-view+json": {
       "version_major": 2,
       "version_minor": 0,
       "model_id": "246b23c2e86f4dc59d01aeeb197f68ab"
      }
     },
     "metadata": {},
     "output_type": "display_data"
    }
   ],
   "execution_count": 12
  },
  {
   "metadata": {
    "ExecuteTime": {
     "end_time": "2025-02-04T10:14:44.034827Z",
     "start_time": "2025-02-04T10:14:44.025278Z"
    }
   },
   "cell_type": "code",
   "source": [
    "display_answer(\n",
    "    \"Q3\",\n",
    "    \"The plot shows the frequency of n-grams in the dataset. The x-axis represents the rank of the n-grams, and the y-axis represents the frequency of the n-grams.\"\n",
    ")\n",
    "display_answer(\n",
    "    \"Q4\",\n",
    "    \"The plot shows that the ngram assumption may not be justified in our dataset, as the frequencies of n-grams do not follow a Zipf's law distribution (we don't see straight lines in the log-log plot).\"\n",
    ")"
   ],
   "id": "81d267fb7ff2238b",
   "outputs": [
    {
     "data": {
      "text/plain": [
       "<IPython.core.display.HTML object>"
      ],
      "text/html": [
       "<div class=\"alert alert-block alert-success\"> <h1>Q3:</h1>The plot shows the frequency of n-grams in the dataset. The x-axis represents the rank of the n-grams, and the y-axis represents the frequency of the n-grams. </div>"
      ]
     },
     "metadata": {},
     "output_type": "display_data"
    },
    {
     "data": {
      "text/plain": [
       "<IPython.core.display.HTML object>"
      ],
      "text/html": [
       "<div class=\"alert alert-block alert-success\"> <h1>Q4:</h1>The plot shows that the ngram assumption may not be justified in our dataset, as the frequencies of n-grams do not follow a Zipf's law distribution (we don't see straight lines in the log-log plot). </div>"
      ]
     },
     "metadata": {},
     "output_type": "display_data"
    }
   ],
   "execution_count": 13
  },
  {
   "cell_type": "code",
   "id": "bdcdebc7-b6de-4b59-bc1a-b73e17637680",
   "metadata": {
    "ExecuteTime": {
     "end_time": "2025-02-04T10:14:44.337560Z",
     "start_time": "2025-02-04T10:14:44.075116Z"
    }
   },
   "source": [
    "# Cell I\n",
    "# Perplexity\n",
    "def dataset_perplexity(model, data, progress=False, details=False):\n",
    "    output = 0\n",
    "    samples = [] if details else None\n",
    "    it = tqdm(data) if progress else data\n",
    "    for sentence in it:\n",
    "        perplexity_ = model.perplexity(sentence)\n",
    "        output += perplexity_\n",
    "        if samples is not None:\n",
    "            samples.append((sentence, perplexity_))\n",
    "    output /= len(data)\n",
    "    if details:\n",
    "        return output, sorted(samples, key=lambda x: x[1])\n",
    "    else:\n",
    "        return output\n",
    "# Q5: Why does this throw an error?\n",
    "perplexity = dataset_perplexity(ngram_model, tokens['dev'])"
   ],
   "outputs": [
    {
     "ename": "AssertionError",
     "evalue": "['<bos>', 'liam', 'hoped', 'that', 'a', 'box']: 0",
     "output_type": "error",
     "traceback": [
      "\u001B[1;31m---------------------------------------------------------------------------\u001B[0m",
      "\u001B[1;31mAssertionError\u001B[0m                            Traceback (most recent call last)",
      "Cell \u001B[1;32mIn[14], line 18\u001B[0m\n\u001B[0;32m     16\u001B[0m         \u001B[38;5;28;01mreturn\u001B[39;00m output\n\u001B[0;32m     17\u001B[0m \u001B[38;5;66;03m# Q5: Why does this throw an error?\u001B[39;00m\n\u001B[1;32m---> 18\u001B[0m perplexity \u001B[38;5;241m=\u001B[39m \u001B[43mdataset_perplexity\u001B[49m\u001B[43m(\u001B[49m\u001B[43mngram_model\u001B[49m\u001B[43m,\u001B[49m\u001B[43m \u001B[49m\u001B[43mtokens\u001B[49m\u001B[43m[\u001B[49m\u001B[38;5;124;43m'\u001B[39;49m\u001B[38;5;124;43mdev\u001B[39;49m\u001B[38;5;124;43m'\u001B[39;49m\u001B[43m]\u001B[49m\u001B[43m)\u001B[49m\n",
      "Cell \u001B[1;32mIn[14], line 8\u001B[0m, in \u001B[0;36mdataset_perplexity\u001B[1;34m(model, data, progress, details)\u001B[0m\n\u001B[0;32m      6\u001B[0m it \u001B[38;5;241m=\u001B[39m tqdm(data) \u001B[38;5;28;01mif\u001B[39;00m progress \u001B[38;5;28;01melse\u001B[39;00m data\n\u001B[0;32m      7\u001B[0m \u001B[38;5;28;01mfor\u001B[39;00m sentence \u001B[38;5;129;01min\u001B[39;00m it:\n\u001B[1;32m----> 8\u001B[0m     perplexity_ \u001B[38;5;241m=\u001B[39m \u001B[43mmodel\u001B[49m\u001B[38;5;241;43m.\u001B[39;49m\u001B[43mperplexity\u001B[49m\u001B[43m(\u001B[49m\u001B[43msentence\u001B[49m\u001B[43m)\u001B[49m\n\u001B[0;32m      9\u001B[0m     output \u001B[38;5;241m+\u001B[39m\u001B[38;5;241m=\u001B[39m perplexity_\n\u001B[0;32m     10\u001B[0m     \u001B[38;5;28;01mif\u001B[39;00m samples \u001B[38;5;129;01mis\u001B[39;00m \u001B[38;5;129;01mnot\u001B[39;00m \u001B[38;5;28;01mNone\u001B[39;00m:\n",
      "Cell \u001B[1;32mIn[7], line 117\u001B[0m, in \u001B[0;36mNgramCounter.perplexity\u001B[1;34m(self, tokens)\u001B[0m\n\u001B[0;32m    116\u001B[0m \u001B[38;5;28;01mdef\u001B[39;00m\u001B[38;5;250m \u001B[39m\u001B[38;5;21mperplexity\u001B[39m(\u001B[38;5;28mself\u001B[39m, tokens):\n\u001B[1;32m--> 117\u001B[0m     logprob \u001B[38;5;241m=\u001B[39m \u001B[38;5;28;43mself\u001B[39;49m\u001B[38;5;241;43m.\u001B[39;49m\u001B[43mcompute_logprob\u001B[49m\u001B[43m(\u001B[49m\u001B[43mtokens\u001B[49m\u001B[43m)\u001B[49m\n\u001B[0;32m    118\u001B[0m     perplexity \u001B[38;5;241m=\u001B[39m Probability(logprob\u001B[38;5;241m.\u001B[39mvalue\u001B[38;5;241m/\u001B[39m\u001B[38;5;28mlen\u001B[39m(tokens), log_scale \u001B[38;5;241m=\u001B[39m \u001B[38;5;28;01mTrue\u001B[39;00m)\n\u001B[0;32m    119\u001B[0m     \u001B[38;5;28;01mreturn\u001B[39;00m perplexity\u001B[38;5;241m.\u001B[39mvalue\n",
      "Cell \u001B[1;32mIn[7], line 109\u001B[0m, in \u001B[0;36mNgramCounter.compute_logprob\u001B[1;34m(self, tokens)\u001B[0m\n\u001B[0;32m    107\u001B[0m \u001B[38;5;28;01mfor\u001B[39;00m tt \u001B[38;5;129;01min\u001B[39;00m \u001B[38;5;28mrange\u001B[39m(\u001B[38;5;28mlen\u001B[39m(tokens)):\n\u001B[0;32m    108\u001B[0m     history \u001B[38;5;241m=\u001B[39m tokens[:tt]\n\u001B[1;32m--> 109\u001B[0m     cp \u001B[38;5;241m=\u001B[39m \u001B[38;5;28;43mself\u001B[39;49m\u001B[38;5;241;43m.\u001B[39;49m\u001B[43mconditional_probability\u001B[49m\u001B[43m(\u001B[49m\u001B[43mtokens\u001B[49m\u001B[43m[\u001B[49m\u001B[43mtt\u001B[49m\u001B[43m]\u001B[49m\u001B[43m,\u001B[49m\u001B[43m \u001B[49m\u001B[43mhistory\u001B[49m\u001B[43m)\u001B[49m\n\u001B[0;32m    110\u001B[0m     probs[tt] \u001B[38;5;241m=\u001B[39m cp\n\u001B[0;32m    111\u001B[0m \u001B[38;5;28;01massert\u001B[39;00m \u001B[38;5;28mall\u001B[39m(x \u001B[38;5;129;01mis\u001B[39;00m \u001B[38;5;129;01mnot\u001B[39;00m \u001B[38;5;28;01mNone\u001B[39;00m \u001B[38;5;28;01mfor\u001B[39;00m x \u001B[38;5;129;01min\u001B[39;00m probs)\n",
      "Cell \u001B[1;32mIn[7], line 98\u001B[0m, in \u001B[0;36mNgramCounter.conditional_probability\u001B[1;34m(self, token, history)\u001B[0m\n\u001B[0;32m     96\u001B[0m \u001B[38;5;28;01melse\u001B[39;00m:\n\u001B[0;32m     97\u001B[0m     Z \u001B[38;5;241m=\u001B[39m \u001B[38;5;28mself\u001B[39m\u001B[38;5;241m.\u001B[39mget_count(history, history\u001B[38;5;241m=\u001B[39m\u001B[38;5;28;01mTrue\u001B[39;00m)\n\u001B[1;32m---> 98\u001B[0m     \u001B[38;5;28;01massert\u001B[39;00m Z \u001B[38;5;241m>\u001B[39m \u001B[38;5;241m0\u001B[39m, \u001B[38;5;124m'\u001B[39m\u001B[38;5;132;01m{}\u001B[39;00m\u001B[38;5;124m: \u001B[39m\u001B[38;5;132;01m{}\u001B[39;00m\u001B[38;5;124m'\u001B[39m\u001B[38;5;241m.\u001B[39mformat(history, Z)\n\u001B[0;32m     99\u001B[0m     \u001B[38;5;28;01mreturn\u001B[39;00m Probability(count\u001B[38;5;241m/\u001B[39mZ)\n",
      "\u001B[1;31mAssertionError\u001B[0m: ['<bos>', 'liam', 'hoped', 'that', 'a', 'box']: 0"
     ]
    }
   ],
   "execution_count": 14
  },
  {
   "metadata": {
    "ExecuteTime": {
     "end_time": "2025-02-04T10:15:45.934979Z",
     "start_time": "2025-02-04T10:15:45.929160Z"
    }
   },
   "cell_type": "code",
   "source": [
    "display_answer(\n",
    "    \"Q5\",\n",
    "    \"The error occurred because the <code>NgramCounter</code> was initialized without smoothing, which caused some n-grams to have a probability of zero.\"\n",
    ")"
   ],
   "id": "314fcbb53fa7c393",
   "outputs": [
    {
     "data": {
      "text/plain": [
       "<IPython.core.display.HTML object>"
      ],
      "text/html": [
       "<div class=\"alert alert-block alert-success\"> <h1>Q5:</h1>The error occurred because the <code>NgramCounter</code> was initialized without smoothing, which caused some n-grams to have a probability of zero. </div>"
      ]
     },
     "metadata": {},
     "output_type": "display_data"
    }
   ],
   "execution_count": 15
  },
  {
   "cell_type": "code",
   "id": "e1dc2e31-8bef-40b6-af4a-233aeb6a9d9a",
   "metadata": {
    "ExecuteTime": {
     "end_time": "2025-02-04T10:16:50.439555Z",
     "start_time": "2025-02-04T10:15:45.970163Z"
    }
   },
   "source": [
    "# Cell J\n",
    "# Try again, but with \"smoothing = 1\"\n",
    "# \"smoothing\" adds counts to unknown ngrams. No probability is equal to 0 anymore,\n",
    "# but we give probability mass away that could be used for known ngrams.\n",
    "ngram_model = NgramCounter(25, smoothing=1)\n",
    "fit(ngram_model, tokens['train'])\n",
    "perplexity = dataset_perplexity(ngram_model, tokens['dev'], progress=True)\n",
    "print(perplexity)"
   ],
   "outputs": [
    {
     "name": "stderr",
     "output_type": "stream",
     "text": [
      "100%|██████████| 3000/3000 [01:02<00:00, 48.04it/s]"
     ]
    },
    {
     "name": "stdout",
     "output_type": "stream",
     "text": [
      "5.034350787496002\n"
     ]
    },
    {
     "name": "stderr",
     "output_type": "stream",
     "text": [
      "\n"
     ]
    }
   ],
   "execution_count": 16
  },
  {
   "cell_type": "code",
   "id": "0a050a61-f214-43d4-97c0-3b9c4db10f4c",
   "metadata": {
    "ExecuteTime": {
     "end_time": "2025-02-04T10:18:02.878251Z",
     "start_time": "2025-02-04T10:16:50.537902Z"
    }
   },
   "source": [
    "# Cell K\n",
    "# small grid search: find the best possible length for ngrams, and the best possible smoothing value\n",
    "# while this runs, get up and stretch your legs\n",
    "import itertools\n",
    "n_values = [1,2,3,4]\n",
    "smoothing_values = [1,2,4]\n",
    "params = list(itertools.product(*[n_values, smoothing_values]))\n",
    "for param in itertools.product(*[n_values, smoothing_values]):\n",
    "    n, smoothing = param\n",
    "    ngram_model = NgramCounter(n, smoothing=smoothing)\n",
    "    fit(ngram_model, tokens['train'])\n",
    "    perplexity = dataset_perplexity(ngram_model, tokens['dev'])\n",
    "    print('n={}, smoothing={}, perplexity={}'.format(n, smoothing, perplexity))\n",
    "# Q6: Why doesn't the dev perplexity keep decreasing as n increases?"
   ],
   "outputs": [
    {
     "name": "stdout",
     "output_type": "stream",
     "text": [
      "n=1, smoothing=1, perplexity=3.945324735268181\n",
      "n=1, smoothing=2, perplexity=3.9457556107640963\n",
      "n=1, smoothing=4, perplexity=3.946914983054919\n",
      "n=2, smoothing=1, perplexity=2.8664946354863146\n",
      "n=2, smoothing=2, perplexity=3.017926706992085\n",
      "n=2, smoothing=4, perplexity=3.2023672810157295\n",
      "n=3, smoothing=1, perplexity=3.5740829970905956\n",
      "n=3, smoothing=2, perplexity=3.838071246341628\n",
      "n=3, smoothing=4, perplexity=4.11857556451489\n",
      "n=4, smoothing=1, perplexity=4.227705632549121\n",
      "n=4, smoothing=2, perplexity=4.45331717241929\n",
      "n=4, smoothing=4, perplexity=4.673877224641809\n"
     ]
    }
   ],
   "execution_count": 17
  },
  {
   "metadata": {
    "ExecuteTime": {
     "end_time": "2025-02-04T10:18:02.930473Z",
     "start_time": "2025-02-04T10:18:02.923950Z"
    }
   },
   "cell_type": "code",
   "source": [
    "display_answer(\n",
    "    \"Q6\",\n",
    "    \"The perplexity doesn't keep decreasing as n increases because the model becomes more complex and starts to overfit the training data.\"\n",
    ")"
   ],
   "id": "25a2550447036f82",
   "outputs": [
    {
     "data": {
      "text/plain": [
       "<IPython.core.display.HTML object>"
      ],
      "text/html": [
       "<div class=\"alert alert-block alert-success\"> <h1>Q6:</h1>The perplexity doesn't keep decreasing as n increases because the model becomes more complex and starts to overfit the training data. </div>"
      ]
     },
     "metadata": {},
     "output_type": "display_data"
    }
   ],
   "execution_count": 18
  },
  {
   "cell_type": "code",
   "id": "a0c869fb-7952-4f87-bdf9-2987c5ae4032",
   "metadata": {
    "ExecuteTime": {
     "end_time": "2025-02-04T10:18:03.629638Z",
     "start_time": "2025-02-04T10:18:02.971072Z"
    }
   },
   "source": [
    "# Cell L\n",
    "# Q7: What are the best values for n and smoothing?\n",
    "best_n = 2\n",
    "best_smoothing = 1\n",
    "# Q8: How many parameters does the best ngram model have? Explain how you compute this quantity.\n",
    "best_ngram_model = NgramCounter(best_n, smoothing=best_smoothing)\n",
    "fit(best_ngram_model, tokens['train'])"
   ],
   "outputs": [],
   "execution_count": 19
  },
  {
   "metadata": {
    "ExecuteTime": {
     "end_time": "2025-02-04T10:18:03.651125Z",
     "start_time": "2025-02-04T10:18:03.643094Z"
    }
   },
   "cell_type": "code",
   "source": [
    "display_answer(\n",
    "    \"Q7\",\n",
    "    f\"The best values for n and smoothing are {best_n} and {best_smoothing}, respectively.\"\n",
    ")\n",
    "display_answer(\n",
    "    \"Q8\",\n",
    "    [\n",
    "        f\"The best ngram model has {len(best_ngram_model.ngrams):,d} parameters.\".replace(\",\", \" \"),\n",
    "        \"We can compute it by counting the number of unique n-grams in the training data because each n-gram has a parameter associated with it.\"\n",
    "    ]\n",
    ")"
   ],
   "id": "826ee8e77e7ac9e5",
   "outputs": [
    {
     "data": {
      "text/plain": [
       "<IPython.core.display.HTML object>"
      ],
      "text/html": [
       "<div class=\"alert alert-block alert-success\"> <h1>Q7:</h1>The best values for n and smoothing are 2 and 1, respectively. </div>"
      ]
     },
     "metadata": {},
     "output_type": "display_data"
    },
    {
     "data": {
      "text/plain": [
       "<IPython.core.display.HTML object>"
      ],
      "text/html": [
       "<div class=\"alert alert-block alert-success\"> <h1>Q8:</h1><ul><li>The best ngram model has 11 831 parameters.</li><li>We can compute it by counting the number of unique n-grams in the training data because each n-gram has a parameter associated with it.</li></ul></div>"
      ]
     },
     "metadata": {},
     "output_type": "display_data"
    }
   ],
   "execution_count": 20
  },
  {
   "cell_type": "code",
   "id": "85a62cd5-e667-4983-b9e1-d5c936f914e6",
   "metadata": {
    "ExecuteTime": {
     "end_time": "2025-02-04T10:18:30.175178Z",
     "start_time": "2025-02-04T10:18:03.678094Z"
    }
   },
   "source": [
    "# Cell M\n",
    "# Build the best model on train and dev using the parameters for n and smoothing found in cell L.\n",
    "# Then compute its perplexity on test and gen.\n",
    "# Q9: What do you notice?\n",
    "best_n = 2\n",
    "best_smoothing = 1\n",
    "ngram_model = NgramCounter(best_n, smoothing=best_smoothing)\n",
    "fit(ngram_model, tokens['train']+tokens['dev'])\n",
    "for split in ['train', 'dev', 'test', 'gen']:\n",
    "    perplexity = dataset_perplexity(ngram_model, tokens[split], progress=True)\n",
    "    print('{}: {}'.format(split, perplexity))"
   ],
   "outputs": [
    {
     "name": "stderr",
     "output_type": "stream",
     "text": [
      "100%|██████████| 24155/24155 [00:11<00:00, 2028.72it/s]\n"
     ]
    },
    {
     "name": "stdout",
     "output_type": "stream",
     "text": [
      "train: 2.8175040322146168\n"
     ]
    },
    {
     "name": "stderr",
     "output_type": "stream",
     "text": [
      "100%|██████████| 3000/3000 [00:01<00:00, 2041.74it/s]\n"
     ]
    },
    {
     "name": "stdout",
     "output_type": "stream",
     "text": [
      "dev: 2.804659967615997\n"
     ]
    },
    {
     "name": "stderr",
     "output_type": "stream",
     "text": [
      "100%|██████████| 3000/3000 [00:01<00:00, 2034.29it/s]\n"
     ]
    },
    {
     "name": "stdout",
     "output_type": "stream",
     "text": [
      "test: 2.835451687996139\n"
     ]
    },
    {
     "name": "stderr",
     "output_type": "stream",
     "text": [
      "100%|██████████| 21000/21000 [00:11<00:00, 1906.80it/s]"
     ]
    },
    {
     "name": "stdout",
     "output_type": "stream",
     "text": [
      "gen: 3.770502495632339\n"
     ]
    },
    {
     "name": "stderr",
     "output_type": "stream",
     "text": [
      "\n"
     ]
    }
   ],
   "execution_count": 21
  },
  {
   "metadata": {
    "ExecuteTime": {
     "end_time": "2025-02-04T10:18:30.192477Z",
     "start_time": "2025-02-04T10:18:30.186925Z"
    }
   },
   "cell_type": "code",
   "source": [
    "display_answer(\n",
    "    \"Q9\",\n",
    "    \"We notice that the perplexity on the 'gen' split is higher compared to the other splits, indicating that the model is not generalizing as well. It may be due to differences in the data distribution between the 'gen' split and the other splits, because perplexity on other splits don't show overfitting.\"\n",
    ")"
   ],
   "id": "2bdcca2e636e9118",
   "outputs": [
    {
     "data": {
      "text/plain": [
       "<IPython.core.display.HTML object>"
      ],
      "text/html": [
       "<div class=\"alert alert-block alert-success\"> <h1>Q9:</h1>We notice that the perplexity on the 'gen' split is higher compared to the other splits, indicating that the model is not generalizing as well. It may be due to differences in the data distribution between the 'gen' split and the other splits, because perplexity on other splits don't show overfitting. </div>"
      ]
     },
     "metadata": {},
     "output_type": "display_data"
    }
   ],
   "execution_count": 22
  },
  {
   "cell_type": "code",
   "id": "87b855a5-11f8-40ba-b6a6-3be869cbb551",
   "metadata": {
    "ExecuteTime": {
     "end_time": "2025-02-04T10:18:30.240261Z",
     "start_time": "2025-02-04T10:18:30.219297Z"
    }
   },
   "source": [
    "# Cell N\n",
    "# RNN LM\n",
    "# Q10: How does this RNN LM deal with words outside of its vocabulary?\n",
    "\n",
    "# redefine this helper class\n",
    "class Vocabulary:\n",
    "    def __init__(self, words=set()):\n",
    "        self.vocab = set(words)\n",
    "        self.unk = '<unk>'\n",
    "        self.bos = '<bos>'\n",
    "        self.eos = '<eos>'\n",
    "        self.vocab.add(self.unk)\n",
    "        self.vocab.add(self.bos)\n",
    "        self.vocab.add(self.eos)\n",
    "        self.vocab = sorted(self.vocab)\n",
    "        \n",
    "    def add(self, word):\n",
    "        if word not in self.vocab:\n",
    "            self.vocab.append(word)\n",
    "        \n",
    "    def process(self, sentence):\n",
    "        assert isinstance(sentence, list) or isinstance(sentence, tuple)\n",
    "        assert all(isinstance(x, str) for x in sentence)\n",
    "        for word in sentence:\n",
    "            self.add(word)\n",
    "        \n",
    "    def size(self):\n",
    "        return len(self.vocab)\n",
    "\n",
    "    def word_to_int(self, word):\n",
    "        assert isinstance(word, str)\n",
    "        if word in self.vocab:\n",
    "            key = word\n",
    "        else:\n",
    "            key = self.unk\n",
    "        return self.vocab.index(key)\n",
    "\n",
    "    def sentence_to_int(self, sentence):\n",
    "        output = [None for _ in sentence]\n",
    "        for ii, token in enumerate(sentence):\n",
    "            output[ii] = self.word_to_int(token)\n",
    "        return output\n",
    "        \n",
    "class RNNLM(nn.Module):\n",
    "    def __init__(self, vocab=None, n_layers=2, n_units=512):\n",
    "        super(RNNLM, self).__init__()\n",
    "        assert isinstance(n_layers, int)\n",
    "        assert n_layers > 0\n",
    "        self.n_layers = n_layers\n",
    "        assert isinstance(n_units, int)\n",
    "        assert n_units > 0\n",
    "        self.n_units = n_units\n",
    "        assert isinstance(vocab, Vocabulary)\n",
    "        self.vocab = vocab\n",
    "        self.padding = self.vocab.size()\n",
    "        # model parameters\n",
    "        # dense word embeddings\n",
    "        self.embeddings = nn.Embedding(self.vocab.size()+1, self.n_units, padding_idx=self.padding)\n",
    "        # recurrent neural network\n",
    "        self.rnn = nn.LSTM(self.n_units, self.n_units, num_layers=self.n_layers, batch_first=True)\n",
    "        # final projection layer\n",
    "        self.projection = nn.Sequential(\n",
    "            nn.Linear(self.n_units, self.vocab.size()),\n",
    "            nn.LogSoftmax(2)\n",
    "        )\n",
    "\n",
    "    def forward(self, batch):\n",
    "        assert isinstance(batch, list), batch\n",
    "        assert all(isinstance(x, list) for x in batch), batch\n",
    "        assert all(all(isinstance(x, str) for x in sentence) for sentence in batch)\n",
    "        assert all(x[0] == self.vocab.bos for x in batch)\n",
    "        assert all(x[-1] == self.vocab.eos for x in batch)        \n",
    "        # turn into indices\n",
    "        indices = [self.vocab.sentence_to_int(x) for x in batch]\n",
    "        # pad\n",
    "        max_len = max(len(x) for x in indices)\n",
    "        indices = [x if len(x) == max_len else x+[self.padding]*(max_len-len(x)) for x in indices]\n",
    "        # turn into tensor\n",
    "        indices = torch.tensor(indices)\n",
    "        # feed through model\n",
    "        word_embeddings = self.embeddings(indices)\n",
    "        rnn_outputs, _ = self.rnn(word_embeddings)\n",
    "        logits = self.projection(rnn_outputs)\n",
    "        return logits, indices\n",
    "\n",
    "    def perplexity(self, sentence):\n",
    "        assert isinstance(sentence, list), sentence\n",
    "        assert all(isinstance(x, str) for x in sentence)\n",
    "        assert sentence[0] == self.vocab.bos, sentence\n",
    "        assert sentence[-1] == self.vocab.eos, sentence\n",
    "        logits, indices = self.forward([sentence])\n",
    "        logits = logits[0,:-1,:]\n",
    "        indices = indices[0,1:]\n",
    "        # there is probably a better way for the following\n",
    "        perplexity = 0\n",
    "        for tt, index in enumerate(indices.numpy().tolist()):\n",
    "            perplexity += logits[tt,index].item()\n",
    "        perplexity = -perplexity/len(sentence)\n",
    "        return perplexity\n",
    "\n",
    "    def batch_perplexity(self, batch):\n",
    "        assert isinstance(batch, list), batch\n",
    "        assert all(isinstance(x, list) for x in batch), batch\n",
    "        assert len(batch) > 0\n",
    "        perplexities = [ self.perplexity(sentence) for sentence in batch ]\n",
    "        return sum(perplexities)/len(perplexities)\n",
    "            \n",
    "    def number_parameters(self):\n",
    "        return sum(p.numel() for p in self.parameters() if p.requires_grad)\n",
    "\n",
    "class Trainer:\n",
    "    def __init__(self, model, data, batch_size=128):\n",
    "        self.model = model\n",
    "        self.data = data\n",
    "        self.optimizer = torch.optim.Adam(self.model.parameters())\n",
    "        assert isinstance(batch_size, int)\n",
    "        assert batch_size>0\n",
    "        self.batch_size = batch_size\n",
    "        self.loss_function = nn.CrossEntropyLoss(ignore_index=self.model.padding, size_average=True)\n",
    "\n",
    "    def step(self, split, position, grad=False):\n",
    "        start = position\n",
    "        end = min(start + self.batch_size, len(self.data[split]))\n",
    "        batch = self.data[split][start:end]\n",
    "        logits, indices = self.model.forward(batch)\n",
    "        targets = indices[:,1:]\n",
    "        logits = logits[:,:-1,:]\n",
    "        assert logits.size(0) == targets.size(0)\n",
    "        assert logits.size(1) == targets.size(1)\n",
    "        logits = torch.reshape(logits, (-1, self.model.vocab.size()))\n",
    "        targets = torch.reshape(targets, (-1,))\n",
    "        loss = self.loss_function(logits, targets)\n",
    "        if grad:\n",
    "            self.optimizer.zero_grad()\n",
    "            loss.backward()\n",
    "            nn.utils.clip_grad_norm_(self.model.parameters(), 5)\n",
    "            self.optimizer.step()\n",
    "        return loss\n",
    "\n",
    "    def train(self, num_epochs, verbose=False):\n",
    "        for epoch in range(num_epochs):\n",
    "            train_loss = 0\n",
    "            num_steps = 0\n",
    "            it = tqdm(range(0, len(self.data['train']), self.batch_size)) if verbose \\\n",
    "                else range(0, len(self.data['train']), self.batch_size)\n",
    "            for position in it:\n",
    "                loss_ = self.step('train', position, grad=True)\n",
    "                train_loss += loss_.item()\n",
    "                num_steps += 1\n",
    "            train_loss /= num_steps\n",
    "            dev_loss = 0\n",
    "            num_steps = 0\n",
    "            it = tqdm(range(0, len(self.data['dev']), self.batch_size)) if verbose \\\n",
    "                else range(0, len(self.data['dev']), self.batch_size)\n",
    "            for position in it:\n",
    "                loss_ = self.step('dev', position, grad=False)\n",
    "                dev_loss += loss_\n",
    "                num_steps += 1\n",
    "            dev_loss /= num_steps\n",
    "            print('epoch {}/{}; train loss {}; dev loss {}'.format(epoch+1, num_epochs, train_loss, dev_loss))"
   ],
   "outputs": [],
   "execution_count": 23
  },
  {
   "metadata": {
    "ExecuteTime": {
     "end_time": "2025-02-04T10:18:30.258129Z",
     "start_time": "2025-02-04T10:18:30.251946Z"
    }
   },
   "cell_type": "code",
   "source": [
    "display_answer(\n",
    "    \"Q10\",\n",
    "    \"The RNN LM deals with words outside of its vocabulary by mapping them to a special '&#60;unk&#62;' token.\"\n",
    ")"
   ],
   "id": "f011fe6f0c676b94",
   "outputs": [
    {
     "data": {
      "text/plain": [
       "<IPython.core.display.HTML object>"
      ],
      "text/html": [
       "<div class=\"alert alert-block alert-success\"> <h1>Q10:</h1>The RNN LM deals with words outside of its vocabulary by mapping them to a special '&#60;unk&#62;' token. </div>"
      ]
     },
     "metadata": {},
     "output_type": "display_data"
    }
   ],
   "execution_count": 24
  },
  {
   "cell_type": "code",
   "id": "0234259c-716f-447c-9d0e-087ddd303aea",
   "metadata": {
    "ExecuteTime": {
     "end_time": "2025-02-04T10:23:38.363447Z",
     "start_time": "2025-02-04T10:18:30.282666Z"
    }
   },
   "source": [
    "# Cell O\n",
    "# Train RNN LM\n",
    "vocabulary = Vocabulary()\n",
    "for sentence in tokens['train']:\n",
    "    vocabulary.process(sentence)\n",
    "rnn_lm = RNNLM(vocab=vocabulary, n_layers=1, n_units=7)\n",
    "print(rnn_lm)\n",
    "print('number of parameters: {}'.format(rnn_lm.number_parameters()))\n",
    "trainer = Trainer(rnn_lm, tokens)\n",
    "print('get up and stretch your legs while this runs')\n",
    "trainer.train(100)\n",
    "# Q11: How do the number of parameters of this model compare to the number of parameters of the best ngram model?"
   ],
   "outputs": [
    {
     "name": "stdout",
     "output_type": "stream",
     "text": [
      "RNNLM(\n",
      "  (embeddings): Embedding(745, 7, padding_idx=744)\n",
      "  (rnn): LSTM(7, 7, batch_first=True)\n",
      "  (projection): Sequential(\n",
      "    (0): Linear(in_features=7, out_features=744, bias=True)\n",
      "    (1): LogSoftmax(dim=2)\n",
      "  )\n",
      ")\n",
      "number of parameters: 11615\n"
     ]
    },
    {
     "name": "stderr",
     "output_type": "stream",
     "text": [
      "C:\\Users\\benji\\Documents\\Git-repositories\\Telecom-Paris\\3A\\IA-327-Large-Scale-Generative-Models-for-NLP-Speech\\venv-IA-327-LS-Models-NLP\\Lib\\site-packages\\torch\\nn\\_reduction.py:51: UserWarning: size_average and reduce args will be deprecated, please use reduction='mean' instead.\n",
      "  warnings.warn(warning.format(ret))\n"
     ]
    },
    {
     "name": "stdout",
     "output_type": "stream",
     "text": [
      "get up and stretch your legs while this runs\n",
      "epoch 1/100; train loss 5.9511562554293835; dev loss 4.947105884552002\n",
      "epoch 2/100; train loss 4.366066174532371; dev loss 4.0488786697387695\n",
      "epoch 3/100; train loss 3.9311606089274087; dev loss 3.846472978591919\n",
      "epoch 4/100; train loss 3.740139190482084; dev loss 3.65179443359375\n",
      "epoch 5/100; train loss 3.540664034545737; dev loss 3.441706895828247\n",
      "epoch 6/100; train loss 3.3522989762523188; dev loss 3.2835147380828857\n",
      "epoch 7/100; train loss 3.2151646033796686; dev loss 3.162282943725586\n",
      "epoch 8/100; train loss 3.10142633019301; dev loss 3.0539369583129883\n",
      "epoch 9/100; train loss 2.9982707424769326; dev loss 2.9596798419952393\n",
      "epoch 10/100; train loss 2.9125489620935348; dev loss 2.883281946182251\n",
      "epoch 11/100; train loss 2.8405799146682496; dev loss 2.81592059135437\n",
      "epoch 12/100; train loss 2.76604616074335; dev loss 2.741894483566284\n",
      "epoch 13/100; train loss 2.6984771509019154; dev loss 2.6780283451080322\n",
      "epoch 14/100; train loss 2.6353738938689864; dev loss 2.6163489818573\n",
      "epoch 15/100; train loss 2.576046039187719; dev loss 2.5585572719573975\n",
      "epoch 16/100; train loss 2.522446110135033; dev loss 2.5085601806640625\n",
      "epoch 17/100; train loss 2.474534273147583; dev loss 2.461989164352417\n",
      "epoch 18/100; train loss 2.4321850468872714; dev loss 2.4235074520111084\n",
      "epoch 19/100; train loss 2.397564144992324; dev loss 2.391897439956665\n",
      "epoch 20/100; train loss 2.36860762954389; dev loss 2.364990472793579\n",
      "epoch 21/100; train loss 2.3434116688985673; dev loss 2.3412728309631348\n",
      "epoch 22/100; train loss 2.3211276846587974; dev loss 2.320358991622925\n",
      "epoch 23/100; train loss 2.3013641645037937; dev loss 2.30161452293396\n",
      "epoch 24/100; train loss 2.2839676614791626; dev loss 2.2855703830718994\n",
      "epoch 25/100; train loss 2.2691218878226307; dev loss 2.2717792987823486\n",
      "epoch 26/100; train loss 2.2561463540193265; dev loss 2.2596280574798584\n",
      "epoch 27/100; train loss 2.244475069500151; dev loss 2.24853253364563\n",
      "epoch 28/100; train loss 2.233787219991129; dev loss 2.238532066345215\n",
      "epoch 29/100; train loss 2.2242412415761796; dev loss 2.2296080589294434\n",
      "epoch 30/100; train loss 2.215564499456416; dev loss 2.2214343547821045\n",
      "epoch 31/100; train loss 2.207524951803621; dev loss 2.2138073444366455\n",
      "epoch 32/100; train loss 2.2000039658218467; dev loss 2.2066662311553955\n",
      "epoch 33/100; train loss 2.19295603762228; dev loss 2.199951171875\n",
      "epoch 34/100; train loss 2.1863266954977045; dev loss 2.193593740463257\n",
      "epoch 35/100; train loss 2.18007824660609; dev loss 2.1875648498535156\n",
      "epoch 36/100; train loss 2.1741853201830827; dev loss 2.181851625442505\n",
      "epoch 37/100; train loss 2.168616839817592; dev loss 2.1764156818389893\n",
      "epoch 38/100; train loss 2.1633317218255743; dev loss 2.1712427139282227\n",
      "epoch 39/100; train loss 2.1582934932103233; dev loss 2.1663272380828857\n",
      "epoch 40/100; train loss 2.153500234008466; dev loss 2.161712884902954\n",
      "epoch 41/100; train loss 2.1489864455329046; dev loss 2.1574199199676514\n",
      "epoch 42/100; train loss 2.144761915560122; dev loss 2.1534087657928467\n",
      "epoch 43/100; train loss 2.140778970466089; dev loss 2.1495440006256104\n",
      "epoch 44/100; train loss 2.1368704510744285; dev loss 2.1456639766693115\n",
      "epoch 45/100; train loss 2.1331360125667835; dev loss 2.14199161529541\n",
      "epoch 46/100; train loss 2.1295540421097368; dev loss 2.1384332180023193\n",
      "epoch 47/100; train loss 2.1260883429693798; dev loss 2.1350982189178467\n",
      "epoch 48/100; train loss 2.1227572380550326; dev loss 2.131985902786255\n",
      "epoch 49/100; train loss 2.119565005024905; dev loss 2.1290318965911865\n",
      "epoch 50/100; train loss 2.116492581745935; dev loss 2.1261918544769287\n",
      "epoch 51/100; train loss 2.1135573778202925; dev loss 2.1234586238861084\n",
      "epoch 52/100; train loss 2.110727940917646; dev loss 2.1208136081695557\n",
      "epoch 53/100; train loss 2.1080034662176064; dev loss 2.1182589530944824\n",
      "epoch 54/100; train loss 2.1053765261614763; dev loss 2.1157891750335693\n",
      "epoch 55/100; train loss 2.1028383465671037; dev loss 2.1134049892425537\n",
      "epoch 56/100; train loss 2.100381702342361; dev loss 2.1110987663269043\n",
      "epoch 57/100; train loss 2.0980005295819075; dev loss 2.1088662147521973\n",
      "epoch 58/100; train loss 2.0956870664364446; dev loss 2.1066951751708984\n",
      "epoch 59/100; train loss 2.093428708888866; dev loss 2.1045753955841064\n",
      "epoch 60/100; train loss 2.0912094582956304; dev loss 2.1024906635284424\n",
      "epoch 61/100; train loss 2.089025931383567; dev loss 2.100447416305542\n",
      "epoch 62/100; train loss 2.0868872978069164; dev loss 2.0984418392181396\n",
      "epoch 63/100; train loss 2.0847675131742287; dev loss 2.0964415073394775\n",
      "epoch 64/100; train loss 2.0826011517691234; dev loss 2.0943963527679443\n",
      "epoch 65/100; train loss 2.0803599584670294; dev loss 2.0923633575439453\n",
      "epoch 66/100; train loss 2.078158466904252; dev loss 2.0904316902160645\n",
      "epoch 67/100; train loss 2.0760615294572538; dev loss 2.088594436645508\n",
      "epoch 68/100; train loss 2.074079750076173; dev loss 2.0868377685546875\n",
      "epoch 69/100; train loss 2.072198786432781; dev loss 2.0851376056671143\n",
      "epoch 70/100; train loss 2.070394302171374; dev loss 2.083489179611206\n",
      "epoch 71/100; train loss 2.068656740365205; dev loss 2.0818963050842285\n",
      "epoch 72/100; train loss 2.0669999677668174; dev loss 2.0803983211517334\n",
      "epoch 73/100; train loss 2.065432790095213; dev loss 2.07898211479187\n",
      "epoch 74/100; train loss 2.063947590570601; dev loss 2.077651262283325\n",
      "epoch 75/100; train loss 2.062537524435255; dev loss 2.0763790607452393\n",
      "epoch 76/100; train loss 2.061195758915452; dev loss 2.075174331665039\n",
      "epoch 77/100; train loss 2.059915522418956; dev loss 2.0740082263946533\n",
      "epoch 78/100; train loss 2.058684640460544; dev loss 2.072888135910034\n",
      "epoch 79/100; train loss 2.0574931221664268; dev loss 2.071782350540161\n",
      "epoch 80/100; train loss 2.0563274590426652; dev loss 2.0707004070281982\n",
      "epoch 81/100; train loss 2.055188040884714; dev loss 2.069627523422241\n",
      "epoch 82/100; train loss 2.0540815560275285; dev loss 2.068603754043579\n",
      "epoch 83/100; train loss 2.053026861614651; dev loss 2.0676233768463135\n",
      "epoch 84/100; train loss 2.0520112325274753; dev loss 2.066694974899292\n",
      "epoch 85/100; train loss 2.051039778366291; dev loss 2.0657923221588135\n",
      "epoch 86/100; train loss 2.0500946019692394; dev loss 2.0649197101593018\n",
      "epoch 87/100; train loss 2.0491847777492787; dev loss 2.064065933227539\n",
      "epoch 88/100; train loss 2.0482917147338706; dev loss 2.06322979927063\n",
      "epoch 89/100; train loss 2.0474324138076216; dev loss 2.0624282360076904\n",
      "epoch 90/100; train loss 2.0465901736859924; dev loss 2.061643123626709\n",
      "epoch 91/100; train loss 2.045785320498956; dev loss 2.060899019241333\n",
      "epoch 92/100; train loss 2.0449953943333297; dev loss 2.0601630210876465\n",
      "epoch 93/100; train loss 2.0442410631785317; dev loss 2.059476613998413\n",
      "epoch 94/100; train loss 2.0434980676287697; dev loss 2.0587918758392334\n",
      "epoch 95/100; train loss 2.042788167479177; dev loss 2.0581514835357666\n",
      "epoch 96/100; train loss 2.042086550798366; dev loss 2.0575077533721924\n",
      "epoch 97/100; train loss 2.041414814651328; dev loss 2.0569088459014893\n",
      "epoch 98/100; train loss 2.0407499100165394; dev loss 2.056305170059204\n",
      "epoch 99/100; train loss 2.0401106095187878; dev loss 2.0557193756103516\n",
      "epoch 100/100; train loss 2.0394830281141574; dev loss 2.0551559925079346\n"
     ]
    }
   ],
   "execution_count": 25
  },
  {
   "metadata": {
    "ExecuteTime": {
     "end_time": "2025-02-04T10:23:38.435553Z",
     "start_time": "2025-02-04T10:23:38.425914Z"
    }
   },
   "cell_type": "code",
   "source": [
    "display_answer(\n",
    "    \"Q11\",\n",
    "    f\"The number of parameters of this model is slightly smaller than the number of parameters of the best ngram model. It has {rnn_lm.number_parameters():,d} parameters.\".replace(\",\", \" \")\n",
    ")"
   ],
   "id": "f1dbf5c9a72c2f44",
   "outputs": [
    {
     "data": {
      "text/plain": [
       "<IPython.core.display.HTML object>"
      ],
      "text/html": [
       "<div class=\"alert alert-block alert-success\"> <h1>Q11:</h1>The number of parameters of this model is slightly smaller than the number of parameters of the best ngram model. It has 11 615 parameters. </div>"
      ]
     },
     "metadata": {},
     "output_type": "display_data"
    }
   ],
   "execution_count": 26
  },
  {
   "cell_type": "code",
   "id": "049f5242-b956-4b8b-9726-bffc0810c965",
   "metadata": {
    "ExecuteTime": {
     "end_time": "2025-02-04T10:24:06.761400Z",
     "start_time": "2025-02-04T10:23:38.501541Z"
    }
   },
   "source": [
    "# Cell P\n",
    "# Q12: How does the following compare to the best ngram model?\n",
    "for split in ['train', 'dev', 'test', 'gen']:\n",
    "    perplexity = dataset_perplexity(rnn_lm, tokens[split], progress=True)\n",
    "    print('{}: {}'.format(split, perplexity))"
   ],
   "outputs": [
    {
     "name": "stderr",
     "output_type": "stream",
     "text": [
      "100%|██████████| 24155/24155 [00:12<00:00, 1940.22it/s]\n"
     ]
    },
    {
     "name": "stdout",
     "output_type": "stream",
     "text": [
      "train: 1.8447486560251172\n"
     ]
    },
    {
     "name": "stderr",
     "output_type": "stream",
     "text": [
      "100%|██████████| 3000/3000 [00:01<00:00, 1562.37it/s]\n"
     ]
    },
    {
     "name": "stdout",
     "output_type": "stream",
     "text": [
      "dev: 1.8481835597674918\n"
     ]
    },
    {
     "name": "stderr",
     "output_type": "stream",
     "text": [
      "100%|██████████| 3000/3000 [00:01<00:00, 1973.24it/s]\n"
     ]
    },
    {
     "name": "stdout",
     "output_type": "stream",
     "text": [
      "test: 1.8447306219911472\n"
     ]
    },
    {
     "name": "stderr",
     "output_type": "stream",
     "text": [
      "100%|██████████| 21000/21000 [00:12<00:00, 1699.61it/s]"
     ]
    },
    {
     "name": "stdout",
     "output_type": "stream",
     "text": [
      "gen: 3.37295404105317\n"
     ]
    },
    {
     "name": "stderr",
     "output_type": "stream",
     "text": [
      "\n"
     ]
    }
   ],
   "execution_count": 27
  },
  {
   "metadata": {
    "ExecuteTime": {
     "end_time": "2025-02-04T10:24:06.781149Z",
     "start_time": "2025-02-04T10:24:06.774824Z"
    }
   },
   "cell_type": "code",
   "source": [
    "display_answer(\n",
    "    \"Q12\",\n",
    "    [\n",
    "        \"The perplexity of the RNN LM is lower than that of the best ngram model on all splits, indicating that the RNN LM performs better than the ngram model.\",\n",
    "        \"The results are significantly better on the 'train', 'dev' and 'test' splits, but also slightly on 'gen' which suggests that the RNN LM generalizes better than the ngram model.\"\n",
    "    ]\n",
    ")"
   ],
   "id": "c38f073b9c931fbe",
   "outputs": [
    {
     "data": {
      "text/plain": [
       "<IPython.core.display.HTML object>"
      ],
      "text/html": [
       "<div class=\"alert alert-block alert-success\"> <h1>Q12:</h1><ul><li>The perplexity of the RNN LM is lower than that of the best ngram model on all splits, indicating that the RNN LM performs better than the ngram model.</li><li>The results are significantly better on the 'train', 'dev' and 'test' splits, but also slightly on 'gen' which suggests that the RNN LM generalizes better than the ngram model.</li></ul></div>"
      ]
     },
     "metadata": {},
     "output_type": "display_data"
    }
   ],
   "execution_count": 28
  },
  {
   "cell_type": "code",
   "id": "a766cbea-af09-4fa8-a11e-1c9e8047e51e",
   "metadata": {
    "ExecuteTime": {
     "end_time": "2025-02-04T10:24:06.818694Z",
     "start_time": "2025-02-04T10:24:06.814182Z"
    }
   },
   "source": [
    "# Cell Q\n",
    "# Note that we underexploited at least 3 things:\n",
    "# 1. The training time. The dev loss keeps decreasing, even after 200 epochs of training.\n",
    "# See this by running trainer.train(100)\n",
    "# 2. The RNN size. This RNN is *tiny* compared to what you'd use in practice. Here we just made it comparable to the best ngram model.\n",
    "# 3. The data. Once we know at what epoch our RNN converges, we can train on train+dev, using the optimal epoch number as our stopping criterion.\n",
    "# Q13: What else could we have done to further push the dev loss down?"
   ],
   "outputs": [],
   "execution_count": 29
  },
  {
   "metadata": {
    "ExecuteTime": {
     "end_time": "2025-02-04T10:24:06.841457Z",
     "start_time": "2025-02-04T10:24:06.835945Z"
    }
   },
   "cell_type": "code",
   "source": [
    "display_answer(\n",
    "    \"Q13\",\n",
    "    [\n",
    "        \"Regularization Techniques: We could implement regularization techniques such as dropout or L2 regularization, in order to limit overfitting in our model.\",\n",
    "        \"Hyperparameter Tuning: We could also experiment with different hyperparameters (learning rate, batch size, number of layers, ...)\"\n",
    "    ]\n",
    ")"
   ],
   "id": "96398fab0352c256",
   "outputs": [
    {
     "data": {
      "text/plain": [
       "<IPython.core.display.HTML object>"
      ],
      "text/html": [
       "<div class=\"alert alert-block alert-success\"> <h1>Q13:</h1><ul><li>Regularization Techniques: We could implement regularization techniques such as dropout or L2 regularization, in order to limit overfitting in our model.</li><li>Hyperparameter Tuning: We could also experiment with different hyperparameters (learning rate, batch size, number of layers, ...)</li></ul></div>"
      ]
     },
     "metadata": {},
     "output_type": "display_data"
    }
   ],
   "execution_count": 30
  },
  {
   "cell_type": "code",
   "id": "2dc6865e-7e2c-466a-9c9e-eb68b8d46a50",
   "metadata": {
    "ExecuteTime": {
     "end_time": "2025-02-04T10:29:54.184036Z",
     "start_time": "2025-02-04T10:24:06.871185Z"
    }
   },
   "source": [
    "# Cell R\n",
    "# Train larger RNN LM\n",
    "vocabulary = Vocabulary()\n",
    "for sentence in tokens['train']:\n",
    "    vocabulary.process(sentence)\n",
    "rnn_lm_large = RNNLM(vocab=vocabulary, n_layers=2, n_units=512)\n",
    "print(rnn_lm_large)\n",
    "print('number of parameters: {}'.format(rnn_lm_large.number_parameters()))\n",
    "trainer_large = Trainer(rnn_lm_large, tokens)\n",
    "print('get up and stretch your legs while this runs')\n",
    "trainer_large.train(5)"
   ],
   "outputs": [
    {
     "name": "stdout",
     "output_type": "stream",
     "text": [
      "RNNLM(\n",
      "  (embeddings): Embedding(745, 512, padding_idx=744)\n",
      "  (rnn): LSTM(512, 512, num_layers=2, batch_first=True)\n",
      "  (projection): Sequential(\n",
      "    (0): Linear(in_features=512, out_features=744, bias=True)\n",
      "    (1): LogSoftmax(dim=2)\n",
      "  )\n",
      ")\n",
      "number of parameters: 4965608\n",
      "get up and stretch your legs while this runs\n",
      "epoch 1/5; train loss 2.593303295039626; dev loss 2.0697133541107178\n",
      "epoch 2/5; train loss 2.038931160376816; dev loss 2.0238945484161377\n",
      "epoch 3/5; train loss 2.012812167248398; dev loss 2.014455795288086\n",
      "epoch 4/5; train loss 2.0015096746424517; dev loss 2.0120656490325928\n",
      "epoch 5/5; train loss 1.9935937035020697; dev loss 2.0109994411468506\n"
     ]
    }
   ],
   "execution_count": 31
  },
  {
   "cell_type": "code",
   "id": "905d36f9-ef30-42bd-8a52-2ecb292e005a",
   "metadata": {
    "scrolled": true,
    "ExecuteTime": {
     "end_time": "2025-02-04T10:33:33.389045Z",
     "start_time": "2025-02-04T10:29:54.228629Z"
    }
   },
   "source": [
    "# Cell S\n",
    "# Q14: How does the following compare to the other models?\n",
    "for split in ['train', 'dev', 'test', 'gen']:\n",
    "    perplexity = dataset_perplexity(rnn_lm_large, tokens[split], progress=True)\n",
    "    print('{}: {}'.format(split, perplexity))"
   ],
   "outputs": [
    {
     "name": "stderr",
     "output_type": "stream",
     "text": [
      "100%|██████████| 24155/24155 [01:38<00:00, 245.91it/s]\n"
     ]
    },
    {
     "name": "stdout",
     "output_type": "stream",
     "text": [
      "train: 1.7998593254047763\n"
     ]
    },
    {
     "name": "stderr",
     "output_type": "stream",
     "text": [
      "100%|██████████| 3000/3000 [00:12<00:00, 240.53it/s]\n"
     ]
    },
    {
     "name": "stdout",
     "output_type": "stream",
     "text": [
      "dev: 1.817448458932665\n"
     ]
    },
    {
     "name": "stderr",
     "output_type": "stream",
     "text": [
      "100%|██████████| 3000/3000 [00:12<00:00, 243.62it/s]\n"
     ]
    },
    {
     "name": "stdout",
     "output_type": "stream",
     "text": [
      "test: 1.810469899956988\n"
     ]
    },
    {
     "name": "stderr",
     "output_type": "stream",
     "text": [
      "100%|██████████| 21000/21000 [01:36<00:00, 218.46it/s]"
     ]
    },
    {
     "name": "stdout",
     "output_type": "stream",
     "text": [
      "gen: 2.9895488239485464\n"
     ]
    },
    {
     "name": "stderr",
     "output_type": "stream",
     "text": [
      "\n"
     ]
    }
   ],
   "execution_count": 32
  },
  {
   "metadata": {
    "ExecuteTime": {
     "end_time": "2025-02-04T10:33:33.458684Z",
     "start_time": "2025-02-04T10:33:33.451811Z"
    }
   },
   "cell_type": "code",
   "source": [
    "display_answer(\n",
    "    \"Q14\",\n",
    "    [\n",
    "        \"The perplexity of the larger RNN LM is quite the same than that of the smaller RNN LM on 'train', 'dev' and 'test' splits\",\n",
    "        \"However, the perplexity on the 'gen' split is lower, indicating that the larger RNN LM generalize even better as the smaller RNN LM did.\"\n",
    "    ]\n",
    ")"
   ],
   "id": "d480efeb86642f9b",
   "outputs": [
    {
     "data": {
      "text/plain": [
       "<IPython.core.display.HTML object>"
      ],
      "text/html": [
       "<div class=\"alert alert-block alert-success\"> <h1>Q14:</h1><ul><li>The perplexity of the larger RNN LM is quite the same than that of the smaller RNN LM on 'train', 'dev' and 'test' splits</li><li>However, the perplexity on the 'gen' split is lower, indicating that the larger RNN LM generalize even better as the smaller RNN LM did.</li></ul></div>"
      ]
     },
     "metadata": {},
     "output_type": "display_data"
    }
   ],
   "execution_count": 33
  },
  {
   "cell_type": "code",
   "id": "762d8e78-cc7b-4523-ae19-ce446affa1f8",
   "metadata": {
    "ExecuteTime": {
     "end_time": "2025-02-04T10:35:57.944978Z",
     "start_time": "2025-02-04T10:33:33.566313Z"
    }
   },
   "source": [
    "# Cell T\n",
    "# Look at some high and low perplexity samples\n",
    "# Look at overall distribution of perplexity\n",
    "# Q15: What do you notice? Is there a phrase that describes this mismatch between distributions?\n",
    "fig, ax = plt.subplots(1,3)\n",
    "for ii, (name, model) in enumerate([('ngram', ngram_model), ('rnn', rnn_lm), ('rnn large', rnn_lm_large)]):\n",
    "    for split in ['gen', 'test']:\n",
    "        perplexity, samples = dataset_perplexity(model, tokens[split], progress=True, details=True)\n",
    "        print('{} on {}:'.format(name, split))\n",
    "        print('  perplexity: {}'.format(perplexity))\n",
    "        print('  low perplexity:')\n",
    "        low_p = ('    '+' '.join(x[0]) + ' -- {}'.format(x[1]) for x in samples[:5])\n",
    "        print('\\n'.join(low_p))\n",
    "        print('  high perplexity:')\n",
    "        high_p = ('    '+' '.join(x[0]) + ' -- {}'.format(x[1]) for x in samples[-5:])\n",
    "        print('\\n'.join(high_p))\n",
    "        y = sorted((x[1] for x in samples), reverse=True)\n",
    "        assert all(z>0 for z in y)\n",
    "        x = np.arange(len(y))\n",
    "        #ax.plot(x, y, label='{}-{}'.format(name,split))\n",
    "        ax[ii].hist(y, bins=100, density=True, label='{}-{}'.format(name,split))\n",
    "for ii,_ in enumerate(ax):\n",
    "    ax[ii].legend()"
   ],
   "outputs": [
    {
     "name": "stderr",
     "output_type": "stream",
     "text": [
      "100%|██████████| 21000/21000 [00:16<00:00, 1272.83it/s]\n"
     ]
    },
    {
     "name": "stdout",
     "output_type": "stream",
     "text": [
      "ngram on gen:\n",
      "  perplexity: 3.770502495632339\n",
      "  low perplexity:\n",
      "    <bos> the girl in a box was given a cake . <eos> -- 1.9547718504713487\n",
      "    <bos> the donut on the box was eaten by the girl on a table . <eos> -- 2.0409767526976643\n",
      "    <bos> the donut beside the table was given to emma . <eos> -- 2.32142372733305\n",
      "    <bos> a girl on the box was lended the balloon beside a table . <eos> -- 2.3282984587208677\n",
      "    <bos> the cake in the room was given to liam . <eos> -- 2.377783496726387\n",
      "  high perplexity:\n",
      "    <bos> charlie awarded matthew a jigsaw . <eos> -- 5.434826022015368\n",
      "    <bos> charlie brought hazel the weapon . <eos> -- 5.443434029267842\n",
      "    <bos> lily gave grayson a hedgehog . <eos> -- 5.459891409819\n",
      "    <bos> david forwarded noah a shark . <eos> -- 5.4757450021315535\n",
      "    <bos> lily gave grayson a shark . <eos> -- 5.546534807388993\n"
     ]
    },
    {
     "name": "stderr",
     "output_type": "stream",
     "text": [
      "100%|██████████| 3000/3000 [00:02<00:00, 1441.36it/s]\n"
     ]
    },
    {
     "name": "stdout",
     "output_type": "stream",
     "text": [
      "ngram on test:\n",
      "  perplexity: 2.835451687996139\n",
      "  low perplexity:\n",
      "    <bos> a donut was given to emma . <eos> -- 1.5535016266099089\n",
      "    <bos> the cake was rolled by emma . <eos> -- 1.6013388855308628\n",
      "    <bos> the cake was rolled . <eos> -- 1.6088758526911702\n",
      "    <bos> a cake was liked by the girl . <eos> -- 1.6210054267492218\n",
      "    <bos> the cookie was given to emma . <eos> -- 1.6313994763531092\n",
      "  high perplexity:\n",
      "    <bos> joseph studied gabriel . <eos> -- 4.396597636527191\n",
      "    <bos> mateo lended the princess the flag . <eos> -- 4.484398557443335\n",
      "    <bos> the monkey served a penguin a leaf beside the baron . <eos> -- 4.503364231821037\n",
      "    <bos> brooklyn gave a plate beside a machine to bella . <eos> -- 4.560904332255828\n",
      "    <bos> stella gave david the sweetcorn . <eos> -- 4.998960534214915\n"
     ]
    },
    {
     "name": "stderr",
     "output_type": "stream",
     "text": [
      "100%|██████████| 21000/21000 [00:13<00:00, 1592.79it/s]\n"
     ]
    },
    {
     "name": "stdout",
     "output_type": "stream",
     "text": [
      "rnn on gen:\n",
      "  perplexity: 3.37295404105317\n",
      "  low perplexity:\n",
      "    <bos> the girl gave a cake on a stage in the house beside a table to a baby . <eos> -- 1.6749606328754454\n",
      "    <bos> the girl gave a cake on the rock beside a table on a bed to a boy . <eos> -- 1.6879459537754884\n",
      "    <bos> a girl liked that liam liked that a cat hoped that the cookie was adored . <eos> -- 1.7292585554306343\n",
      "    <bos> emma teleported the cake beside a table to the girl . <eos> -- 1.8441431044730752\n",
      "    <bos> a cat teleported the cake beside the table to a girl . <eos> -- 1.8443194431227832\n",
      "  high perplexity:\n",
      "    <bos> paula cooked the cake on a tree . <eos> -- 8.156274563260377\n",
      "    <bos> paula knew a cake in a room . <eos> -- 8.180638564378024\n",
      "    <bos> paula examined a cake on the table . <eos> -- 8.211706575006247\n",
      "    <bos> paula knew a donut in the teapot . <eos> -- 8.218619243660942\n",
      "    <bos> paula adored the donut on a seat . <eos> -- 8.733832415938377\n"
     ]
    },
    {
     "name": "stderr",
     "output_type": "stream",
     "text": [
      "100%|██████████| 3000/3000 [00:01<00:00, 1758.80it/s]\n"
     ]
    },
    {
     "name": "stdout",
     "output_type": "stream",
     "text": [
      "rnn on test:\n",
      "  perplexity: 1.8447306219911472\n",
      "  low perplexity:\n",
      "    <bos> a cake was liked by the girl . <eos> -- 0.886551656544907\n",
      "    <bos> a cake was given to emma by the girl . <eos> -- 0.8994875557521785\n",
      "    <bos> the cake was rolled by emma . <eos> -- 0.9208416967109466\n",
      "    <bos> the cake was given to a boy by a girl . <eos> -- 0.9213129808239711\n",
      "    <bos> a cake was helped by a girl . <eos> -- 0.9527585079602432\n",
      "  high perplexity:\n",
      "    <bos> the customer brought a box in a microwave to a priest . <eos> -- 3.3406965855829185\n",
      "    <bos> the donkey loved to walk . <eos> -- 3.356388148124097\n",
      "    <bos> samuel was promised the cake beside a gardner by emma . <eos> -- 3.466620536592717\n",
      "    <bos> emma served a block beside the sphere to anthony . <eos> -- 3.5464903118142197\n",
      "    <bos> joseph studied gabriel . <eos> -- 3.60808225486835\n"
     ]
    },
    {
     "name": "stderr",
     "output_type": "stream",
     "text": [
      "100%|██████████| 21000/21000 [01:38<00:00, 213.65it/s]\n"
     ]
    },
    {
     "name": "stdout",
     "output_type": "stream",
     "text": [
      "rnn large on gen:\n",
      "  perplexity: 2.9895488239485464\n",
      "  low perplexity:\n",
      "    <bos> the girl gave a cake on a stage in the house beside a table to a baby . <eos> -- 1.436018028295075\n",
      "    <bos> the girl gave a cake on the rock beside a table on a bed to a boy . <eos> -- 1.5248866888105113\n",
      "    <bos> a girl fed a box in the room in a cup on the table to the boy . <eos> -- 1.6866891190227762\n",
      "    <bos> the cockroach gave the cake in the house to emma . <eos> -- 1.6939066763415422\n",
      "    <bos> a girl liked that liam liked that a cat hoped that the cookie was adored . <eos> -- 1.7311731983015004\n",
      "  high perplexity:\n",
      "    <bos> avery gave jaxon lina . <eos> -- 6.180712190086654\n",
      "    <bos> hannah gave avery lina . <eos> -- 6.290167772061458\n",
      "    <bos> theodore gave claire lina . <eos> -- 6.300862126646929\n",
      "    <bos> daniel promised ellie lina . <eos> -- 6.313002779023789\n",
      "    <bos> leo rented lincoln lina . <eos> -- 6.349385225879295\n"
     ]
    },
    {
     "name": "stderr",
     "output_type": "stream",
     "text": [
      "100%|██████████| 3000/3000 [00:11<00:00, 255.54it/s]\n"
     ]
    },
    {
     "name": "stdout",
     "output_type": "stream",
     "text": [
      "rnn large on test:\n",
      "  perplexity: 1.810469899956988\n",
      "  low perplexity:\n",
      "    <bos> a cake was given to emma by the girl . <eos> -- 0.8789933505328614\n",
      "    <bos> the cake was given to a boy by a girl . <eos> -- 0.8866907094410496\n",
      "    <bos> a donut was given to a girl by emma . <eos> -- 0.9380428892309283\n",
      "    <bos> a cake was liked by the girl . <eos> -- 0.949066240493994\n",
      "    <bos> the cake was frozen by the girl . <eos> -- 0.9514349353114084\n",
      "  high perplexity:\n",
      "    <bos> grayson slid isabella . <eos> -- 3.0483319900765005\n",
      "    <bos> the chief worshipped aubrey . <eos> -- 3.0868799393190005\n",
      "    <bos> elijah admired camila . <eos> -- 3.1570367035941067\n",
      "    <bos> stella gave david the sweetcorn . <eos> -- 3.1971195311452902\n",
      "    <bos> joseph studied gabriel . <eos> -- 3.931639271477858\n"
     ]
    },
    {
     "data": {
      "text/plain": [
       "Canvas(toolbar=Toolbar(toolitems=[('Home', 'Reset original view', 'home', 'home'), ('Back', 'Back to previous …"
      ],
      "image/png": "[encoded data removed]",
      "text/html": [
       "\n",
       "            <div style=\"display: inline-block;\">\n",
       "                <div class=\"jupyter-widgets widget-label\" style=\"text-align: center;\">\n",
       "                    Figure\n",
       "                </div>\n",
       "                <img src='data:image/png;base64,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' width=640.0/>\n",
       "            </div>\n",
       "        "
      ],
      "application/vnd.jupyter.widget-view+json": {
       "version_major": 2,
       "version_minor": 0,
       "model_id": "d3aee8de65ae44fa8fd17cd3ec087337"
      }
     },
     "metadata": {},
     "output_type": "display_data"
    }
   ],
   "execution_count": 34
  },
  {
   "metadata": {
    "ExecuteTime": {
     "end_time": "2025-02-04T10:35:57.982079Z",
     "start_time": "2025-02-04T10:35:57.975312Z"
    }
   },
   "cell_type": "code",
   "source": [
    "display_answer(\n",
    "    \"Q15\",\n",
    "    [\n",
    "        \"We notice that sentences with low perplexity are generally simpler and follow common patterns, while sentences with high perplexity are more complex or contain rare words, making them harder for the models to predict accurately.\",\n",
    "        \"The mismatch between distributions can be described as a domain shift, where the 'test' data and the 'gen' data come from different distributions, leading to poorer model performance on the 'gen' data that is not well-represented by the training data.\"\n",
    "    ]\n",
    ")"
   ],
   "id": "9ac3f84cadd20274",
   "outputs": [
    {
     "data": {
      "text/plain": [
       "<IPython.core.display.HTML object>"
      ],
      "text/html": [
       "<div class=\"alert alert-block alert-success\"> <h1>Q15:</h1><ul><li>We notice that sentences with low perplexity are generally simpler and follow common patterns, while sentences with high perplexity are more complex or contain rare words, making them harder for the models to predict accurately.</li><li>The mismatch between distributions can be described as a domain shift, where the 'test' data and the 'gen' data come from different distributions, leading to poorer model performance on the 'gen' data that is not well-represented by the training data.</li></ul></div>"
      ]
     },
     "metadata": {},
     "output_type": "display_data"
    }
   ],
   "execution_count": 35
  }
 ],
 "metadata": {
  "kernelspec": {
   "display_name": "Python 3 (ipykernel)",
   "language": "python",
   "name": "python3"
  },
  "language_info": {
   "codemirror_mode": {
    "name": "ipython",
    "version": 3
   },
   "file_extension": ".py",
   "mimetype": "text/x-python",
   "name": "python",
   "nbconvert_exporter": "python",
   "pygments_lexer": "ipython3",
   "version": "3.11.7"
  }
 },
 "nbformat": 4,
 "nbformat_minor": 5
}
