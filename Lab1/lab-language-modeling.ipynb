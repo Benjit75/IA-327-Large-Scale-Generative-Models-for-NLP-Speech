{
 "cells": [
  {
   "metadata": {},
   "cell_type": "markdown",
   "source": [
    "# Lab 1: language modeling\n",
    "__Author : Benjamin Ternot__"
   ],
   "id": "253664bca1c34a4d"
  },
  {
   "metadata": {
    "ExecuteTime": {
     "end_time": "2025-02-03T15:04:32.765227Z",
     "start_time": "2025-02-03T15:04:32.758273Z"
    }
   },
   "cell_type": "code",
   "source": [
    "from IPython.display import display, HTML\n",
    "\n",
    "def display_answer(title, answer):\n",
    "    if isinstance(answer, list):\n",
    "        string_display = f\"\"\"<div class=\"alert alert-block alert-success\"> <h1>{title}:</h1><ul>\"\"\"\n",
    "        for a in answer:\n",
    "            string_display += f\"<li>{a}</li>\"\n",
    "        string_display += \"</ul></div>\"\n",
    "    elif isinstance(answer, str):\n",
    "        string_display = f\"\"\"<div class=\"alert alert-block alert-success\"> <h1>{title}:</h1>{answer} </div>\"\"\"\n",
    "    else:\n",
    "        raise ValueError(\"Answer should be a string or a list of strings.\")\n",
    "    display(HTML(string_display))"
   ],
   "id": "51e05aa09d01e7a2",
   "outputs": [],
   "execution_count": 1
  },
  {
   "cell_type": "code",
   "id": "7863ccaa-86c7-47fd-84f3-89ff94ecfc79",
   "metadata": {
    "ExecuteTime": {
     "end_time": "2025-02-03T15:04:32.861266Z",
     "start_time": "2025-02-03T15:04:32.775105Z"
    }
   },
   "source": [
    "# Cell A\n",
    "# load data\n",
    "import os\n",
    "github_path = \"https://raw.githubusercontent.com/najoungkim/COGS/main/data\"\n",
    "data = {}\n",
    "for name in ['train', 'dev', 'test', 'gen']:\n",
    "    url = os.path.join(github_path, '{}.tsv'.format(name))\n",
    "    filepath = '{}.tsv'.format(name)\n",
    "    if not os.path.isfile(filepath):\n",
    "        os.system('wget {}'.format(url))\n",
    "    assert os.path.isfile(filepath)\n",
    "    lines = open(filepath, 'r')\n",
    "    lines = map(lambda x: x.strip(), lines)\n",
    "    lines = map(lambda x: x.split('\\t')[0], lines)\n",
    "    data[name] = list(lines)\n",
    "\n",
    "# look at the data\n",
    "for name in ['train', 'dev', 'test', 'gen']:\n",
    "    print('=== {} ({} sentences)==='.format(name.upper(), len(data[name])))\n",
    "    print('\\n'.join(data[name][:10]))"
   ],
   "outputs": [
    {
     "name": "stdout",
     "output_type": "stream",
     "text": [
      "=== TRAIN (24155 sentences)===\n",
      "A rose was helped by a dog .\n",
      "The sailor dusted a boy .\n",
      "Emma rolled a teacher .\n",
      "Evelyn rolled the girl .\n",
      "A cake was forwarded to Levi by Charlotte .\n",
      "The captain ate .\n",
      "The girl needed to cook .\n",
      "A cake rolled .\n",
      "The cookie was passed to Emma .\n",
      "Emma ate the ring beside a bed .\n",
      "=== DEV (3000 sentences)===\n",
      "Liam hoped that a box was burned by a girl .\n",
      "The donkey lended the cookie to a mother .\n",
      "A melon was given to a girl by the guard .\n",
      "A donut was given to a butterfly .\n",
      "A rose was mailed to Isabella .\n",
      "The girl offered the weapon beside a machine to a chicken .\n",
      "A donut was touched by Emma .\n",
      "Liam painted a box on a table beside the chair .\n",
      "Emma ate a hammer .\n",
      "A drink was juggled .\n",
      "=== TEST (3000 sentences)===\n",
      "Mila liked that the cake was offered to Emma .\n",
      "A coach supported that the cake was snapped .\n",
      "The moose wanted to read .\n",
      "A box was given to the cat by Aiden .\n",
      "Emma cleaned the boy .\n",
      "The dog painted the boy .\n",
      "The sailor cleaned .\n",
      "The customer held the priest in a box .\n",
      "Ella ate Emma .\n",
      "Nora was fed the gumball .\n",
      "=== GEN (21000 sentences)===\n",
      "Paula painted a cake in a closet .\n",
      "Zoe thought that a hippo cleaned .\n",
      "The princess teleported a cookie to the goose .\n",
      "A cockroach gave a pretzel to Olivia .\n",
      "The girl hoped that the hippo painted .\n",
      "Emma declared that a cobra grew .\n",
      "William tolerated that Charlie fed the cake on the stage to the boy .\n",
      "Paula promised a chair beside the computer to Emma .\n",
      "The queen froze the strawberry in the cabinet beside the shoe on the chair in the box on a road on a rock on a bench in a cage beside the bed on a vessel on the table beside the book .\n",
      "Charlie loaned the cake in a house to the girl .\n"
     ]
    }
   ],
   "execution_count": 2
  },
  {
   "cell_type": "code",
   "id": "a2f0862c-a85f-4f7d-8cdb-afebbebe7fe0",
   "metadata": {
    "ExecuteTime": {
     "end_time": "2025-02-03T15:04:33.329182Z",
     "start_time": "2025-02-03T15:04:33.106661Z"
    }
   },
   "source": [
    "# Cell B\n",
    "# Tokenization\n",
    "# The final period is separated with a white space from the final word. This is a basic form of tokenization.\n",
    "# The same is done as a pre-processing step with all punctuation (comma, question mark...).\n",
    "# Turn sentences into lists of tokens: (here, token = word or punctuation mark; more generally, any sequence of ascii considered a unit)\n",
    "for name in data:\n",
    "    data[name] = list(map(lambda x: x.split(), data[name]))\n",
    "# Normalization\n",
    "# Here, uppercase vs lowercase is not so useful, and it just increases the size of the vocabulary (see below).\n",
    "# So, let's turn all words into lowercase. Other possible normalization includes stemming.\n",
    "# After this last stage of pre-processing, we have tokens.\n",
    "tokens = {}\n",
    "for name in data:\n",
    "    tokens[name] = list(map(lambda x: [y.lower() for y in x], data[name]))\n",
    "# Finally, add beginning-of-sentence and end-of-sentence tokens\n",
    "for name in tokens:\n",
    "    tokens[name] = list(map(lambda x: ['<bos>'] + x + ['<eos>'], tokens[name]))"
   ],
   "outputs": [],
   "execution_count": 3
  },
  {
   "cell_type": "code",
   "id": "6898ec0e-d384-4c7c-b446-99999288b662",
   "metadata": {
    "ExecuteTime": {
     "end_time": "2025-02-03T15:04:33.399145Z",
     "start_time": "2025-02-03T15:04:33.342952Z"
    }
   },
   "source": [
    "# Cell C\n",
    "# Vocabulary\n",
    "# Let's set up the alphabet (noted V during the lecture), usually called vocabulary to avoid confusion\n",
    "class Vocabulary:\n",
    "    def __init__(self):\n",
    "        self.vocab = set()\n",
    "    def add(self, word):\n",
    "        self.vocab.add(word)\n",
    "    def process(self, sentence):\n",
    "        assert isinstance(sentence, list) or isinstance(sentence, tuple)\n",
    "        assert all(isinstance(x, str) for x in sentence)\n",
    "        self.vocab.update(set(sentence))\n",
    "    def size(self):\n",
    "        return len(self.vocab)\n",
    "# Create the vocabulary from the training data\n",
    "vocabulary = Vocabulary()\n",
    "for sentence in tokens['train']:\n",
    "    vocabulary.process(sentence)\n",
    "# Q1: What is the size of the vocabulary?"
   ],
   "outputs": [],
   "execution_count": 4
  },
  {
   "metadata": {
    "ExecuteTime": {
     "end_time": "2025-02-03T15:04:33.423174Z",
     "start_time": "2025-02-03T15:04:33.412142Z"
    }
   },
   "cell_type": "code",
   "source": "display_answer(\"Q1\", f\"The size of the vocabulary is {vocabulary.size()}.\")",
   "id": "fdc91000eb97bded",
   "outputs": [
    {
     "data": {
      "text/plain": [
       "<IPython.core.display.HTML object>"
      ],
      "text/html": [
       "<div class=\"alert alert-block alert-success\"> <h1>Q1:</h1>The size of the vocabulary is 743. </div>"
      ]
     },
     "metadata": {},
     "output_type": "display_data"
    }
   ],
   "execution_count": 5
  },
  {
   "cell_type": "code",
   "id": "8129596d-5022-4cec-9abc-7bf758e19133",
   "metadata": {
    "ExecuteTime": {
     "end_time": "2025-02-03T15:04:33.465742Z",
     "start_time": "2025-02-03T15:04:33.448399Z"
    }
   },
   "source": [
    "# Cell D\n",
    "# n-gram model\n",
    "import math\n",
    "\n",
    "class Probability:\n",
    "    # special class to store small probabilities\n",
    "    def __init__(self, p, log_scale = False):\n",
    "        if log_scale:\n",
    "            assert p >= 0, p\n",
    "            self.value = p\n",
    "        else:\n",
    "            assert p <= 1, p\n",
    "            assert p >= 0, p\n",
    "            if p == 0:\n",
    "                self.value = float('inf')\n",
    "            else:\n",
    "                self.value = -math.log(p)\n",
    "\n",
    "    def get_p(self):\n",
    "        p = math.exp(-self.value)\n",
    "        assert p >= 0, p\n",
    "        assert p <= 1, p\n",
    "        return p\n",
    "\n",
    "    def multiply(self, p):\n",
    "        assert isinstance(p, Probability)\n",
    "        self.value += p.value\n",
    "        \n",
    "class NgramCounter:\n",
    "    def __init__(self, n, smoothing=0):\n",
    "        assert isinstance(n, int)\n",
    "        assert n > 0\n",
    "        assert isinstance(smoothing, int)\n",
    "        assert smoothing >= 0\n",
    "        self.n = n # the length of ngrams that we store\n",
    "        self.smoothing = smoothing\n",
    "        self.ngrams = {}\n",
    "        self.vocab = Vocabulary()\n",
    "\n",
    "    def count(self, ngram):\n",
    "        assert isinstance(ngram, tuple)\n",
    "        assert len(ngram) <= self.n\n",
    "        self.ngrams.setdefault(ngram, 0)\n",
    "        self.ngrams[ngram] += 1\n",
    "        self.vocab.process(ngram)\n",
    "\n",
    "    def shorten_history(self, history, max_length=None):\n",
    "        if max_length is None:\n",
    "            max_length = self.n-1\n",
    "        if max_length == 0:\n",
    "            return []\n",
    "        if len(history) > max_length:\n",
    "            history = history[-max_length:]\n",
    "        return history\n",
    "        \n",
    "    def process(self, tokens):\n",
    "        assert isinstance(tokens, list)\n",
    "        assert all(isinstance(x, str) for x in tokens)\n",
    "        for tt in range(len(tokens)):\n",
    "            for ll in range(1,self.n+1): # we need to count all lengths of ngrams\n",
    "                if tt+ll > len(tokens):\n",
    "                    break\n",
    "                ngram = tokens[tt:tt+ll]\n",
    "                self.count(tuple(ngram))\n",
    "\n",
    "    def get_count(self, ngram, history=False):\n",
    "        if isinstance(ngram, str):\n",
    "            count = self.ngrams.get((ngram,), 0)\n",
    "        else:\n",
    "            count = self.ngrams.get(tuple(ngram), 0)\n",
    "        if history:\n",
    "            count += self.smoothing*self.vocab.size()\n",
    "        else:\n",
    "            count += self.smoothing\n",
    "        return count\n",
    "\n",
    "    def get_unigram_count(self):\n",
    "        output = 0\n",
    "        for ngram, count in self.ngrams.items():\n",
    "            if len(ngram) == 1:\n",
    "                output += count\n",
    "        output += self.smoothing*self.vocab.size()\n",
    "        return output\n",
    "    \n",
    "    def conditional_probability(self, token, history):\n",
    "        # return p(token | history)\n",
    "        assert isinstance(token, str)\n",
    "        assert isinstance(history, list)\n",
    "        assert all(isinstance(x, str) for x in history)\n",
    "        history = self.shorten_history(history)\n",
    "        ngram = tuple(history) + (token,)\n",
    "        count = self.get_count(ngram)\n",
    "        assert count is not None, ngram\n",
    "        if len(history) == 0:\n",
    "            Z = self.get_unigram_count()\n",
    "            assert Z > 0, Z\n",
    "            return Probability(count/Z)\n",
    "        else:\n",
    "            Z = self.get_count(history, history=True)\n",
    "            assert Z > 0, '{}: {}'.format(history, Z)\n",
    "            return Probability(count/Z)\n",
    "    \n",
    "    def probability(self, tokens):\n",
    "        logprob = self.compute_logprob(tokens) \n",
    "        return logprob.get_p()\n",
    "\n",
    "    def compute_logprob(self, tokens):\n",
    "        probs = [None for _ in tokens]\n",
    "        for tt in range(len(tokens)):\n",
    "            history = tokens[:tt]\n",
    "            cp = self.conditional_probability(tokens[tt], history)\n",
    "            probs[tt] = cp\n",
    "        assert all(x is not None for x in probs)\n",
    "        logprob = sum(x.value for x in probs)\n",
    "        logprob = Probability(logprob, log_scale = True)\n",
    "        return logprob\n",
    "\n",
    "    def perplexity(self, tokens):\n",
    "        logprob = self.compute_logprob(tokens)\n",
    "        perplexity = Probability(logprob.value/len(tokens), log_scale = True)\n",
    "        return perplexity.value\n",
    "\n",
    "    def get_top_ngrams(self, length=None, n=10):\n",
    "        ngrams = sorted(self.ngrams.items(), key=lambda x: (-x[1], x[0]))\n",
    "        if length is not None:\n",
    "            ngrams = list(filter(lambda x: len(x[0]) == length, ngrams))\n",
    "        return ngrams[:n] "
   ],
   "outputs": [],
   "execution_count": 6
  },
  {
   "cell_type": "code",
   "id": "ca3ae972-3dee-409f-8931-ae39bb2d39cf",
   "metadata": {
    "ExecuteTime": {
     "end_time": "2025-02-03T15:04:36.142052Z",
     "start_time": "2025-02-03T15:04:33.476683Z"
    }
   },
   "source": [
    "# Cell E\n",
    "# build ngram model\n",
    "def fit(model, data):\n",
    "    for sentence in data:\n",
    "        model.process(sentence)\n",
    "ngram_model = NgramCounter(25)\n",
    "fit(ngram_model, tokens['train'])"
   ],
   "outputs": [],
   "execution_count": 7
  },
  {
   "cell_type": "code",
   "id": "fb4c47fa-6d20-4a2e-9ea1-ffc337a7a7c4",
   "metadata": {
    "ExecuteTime": {
     "end_time": "2025-02-03T15:04:36.159435Z",
     "start_time": "2025-02-03T15:04:36.154144Z"
    }
   },
   "source": [
    "# Cell F\n",
    "# Q2: What do you expect the following probabilities to be? Why?\n",
    "print(ngram_model.conditional_probability('<eos>', ['.']).get_p())\n",
    "print(ngram_model.conditional_probability('<eos>', ['<bos>']).get_p())"
   ],
   "outputs": [
    {
     "name": "stdout",
     "output_type": "stream",
     "text": [
      "1.0\n",
      "0.0\n"
     ]
    }
   ],
   "execution_count": 8
  },
  {
   "metadata": {
    "ExecuteTime": {
     "end_time": "2025-02-03T15:04:36.194213Z",
     "start_time": "2025-02-03T15:04:36.186936Z"
    }
   },
   "cell_type": "code",
   "source": [
    "display_answer(\n",
    "    \"Q2\",\n",
    "    [\n",
    "        \"The first probability is expected to be 1, because the end of sentence token is always the last token in a sentence.\",\n",
    "        \"The second probability is expected to be 0, because the beginning of sentence token is never followed by the end of sentence token.\"\n",
    "    ]\n",
    ")"
   ],
   "id": "ef40f72bde65f9d",
   "outputs": [
    {
     "data": {
      "text/plain": [
       "<IPython.core.display.HTML object>"
      ],
      "text/html": [
       "<div class=\"alert alert-block alert-success\"> <h1>Q2:</h1><ul><li>The first probability is expected to be 1, because the end of sentence token is always the last token in a sentence.</li><li>The second probability is expected to be 0, because the beginning of sentence token is never followed by the end of sentence token.</li></ul></div>"
      ]
     },
     "metadata": {},
     "output_type": "display_data"
    }
   ],
   "execution_count": 9
  },
  {
   "cell_type": "code",
   "id": "c5433f79-1ce3-4c85-bf43-ccf6d99e5266",
   "metadata": {
    "ExecuteTime": {
     "end_time": "2025-02-03T15:05:14.149625Z",
     "start_time": "2025-02-03T15:04:36.227287Z"
    }
   },
   "source": [
    "# Cell G\n",
    "# Look at the top ngrams\n",
    "for n in range(1,ngram_model.n+1):\n",
    "    print('=== {} ==='.format(n))\n",
    "    top_ngrams = ngram_model.get_top_ngrams(length=n)\n",
    "    for x in top_ngrams:\n",
    "        print('{}: {}'.format(*x))"
   ],
   "outputs": [
    {
     "name": "stdout",
     "output_type": "stream",
     "text": [
      "=== 1 ===\n",
      "('<bos>',): 24155\n",
      "('<eos>',): 24155\n",
      "('.',): 24012\n",
      "('the',): 20237\n",
      "('a',): 20153\n",
      "('was',): 11650\n",
      "('by',): 6985\n",
      "('to',): 5901\n",
      "('cake',): 4847\n",
      "('girl',): 4625\n",
      "=== 2 ===\n",
      "('.', '<eos>'): 24012\n",
      "('<bos>', 'a'): 8255\n",
      "('<bos>', 'the'): 8198\n",
      "('the', 'cake'): 2444\n",
      "('a', 'cake'): 2403\n",
      "('the', 'girl'): 2333\n",
      "('a', 'girl'): 2291\n",
      "('cake', 'was'): 2177\n",
      "('<bos>', 'emma'): 1999\n",
      "('by', 'the'): 1791\n",
      "=== 3 ===\n",
      "('girl', '.', '<eos>'): 1669\n",
      "('emma', '.', '<eos>'): 1537\n",
      "('the', 'cake', 'was'): 1118\n",
      "('a', 'cake', 'was'): 1059\n",
      "('<bos>', 'the', 'girl'): 1031\n",
      "('<bos>', 'a', 'girl'): 1020\n",
      "('<bos>', 'the', 'cake'): 981\n",
      "('<bos>', 'a', 'cake'): 924\n",
      "('by', 'emma', '.'): 922\n",
      "('was', 'given', 'to'): 866\n",
      "=== 4 ===\n",
      "('<bos>', 'the', 'cake', 'was'): 961\n",
      "('by', 'emma', '.', '<eos>'): 922\n",
      "('<bos>', 'a', 'cake', 'was'): 906\n",
      "('a', 'girl', '.', '<eos>'): 842\n",
      "('the', 'girl', '.', '<eos>'): 827\n",
      "('by', 'the', 'girl', '.'): 511\n",
      "('by', 'a', 'girl', '.'): 475\n",
      "('<bos>', 'a', 'donut', 'was'): 432\n",
      "('by', 'liam', '.', '<eos>'): 426\n",
      "('<bos>', 'the', 'donut', 'was'): 420\n",
      "=== 5 ===\n",
      "('by', 'the', 'girl', '.', '<eos>'): 511\n",
      "('by', 'a', 'girl', '.', '<eos>'): 475\n",
      "('to', 'a', 'girl', '.', '<eos>'): 236\n",
      "('by', 'a', 'boy', '.', '<eos>'): 228\n",
      "('to', 'the', 'girl', '.', '<eos>'): 214\n",
      "('in', 'the', 'house', '.', '<eos>'): 211\n",
      "('by', 'the', 'boy', '.', '<eos>'): 210\n",
      "('beside', 'a', 'table', '.', '<eos>'): 202\n",
      "('beside', 'the', 'table', '.', '<eos>'): 199\n",
      "('in', 'a', 'house', '.', '<eos>'): 182\n",
      "=== 6 ===\n",
      "('<bos>', 'the', 'cake', 'was', 'given', 'to'): 120\n",
      "('<bos>', 'a', 'cake', 'was', 'given', 'to'): 118\n",
      "('cake', 'in', 'the', 'house', '.', '<eos>'): 60\n",
      "('<bos>', 'a', 'cake', 'was', 'lended', 'to'): 52\n",
      "('<bos>', 'a', 'donut', 'was', 'given', 'to'): 49\n",
      "('cake', 'beside', 'the', 'table', '.', '<eos>'): 49\n",
      "('cake', 'on', 'the', 'table', '.', '<eos>'): 45\n",
      "('<bos>', 'the', 'cake', 'was', 'liked', 'by'): 44\n",
      "('cake', 'on', 'a', 'table', '.', '<eos>'): 43\n",
      "('cake', 'beside', 'a', 'table', '.', '<eos>'): 42\n",
      "=== 7 ===\n",
      "('<bos>', 'a', 'cake', 'was', 'given', 'to', 'a'): 37\n",
      "('the', 'cake', 'in', 'the', 'house', '.', '<eos>'): 37\n",
      "('<bos>', 'the', 'cake', 'was', 'given', 'to', 'the'): 33\n",
      "('was', 'rolled', 'by', 'the', 'girl', '.', '<eos>'): 29\n",
      "('a', 'cake', 'beside', 'the', 'table', '.', '<eos>'): 28\n",
      "('was', 'given', 'to', 'a', 'girl', '.', '<eos>'): 28\n",
      "('<bos>', 'the', 'cake', 'was', 'given', 'to', 'a'): 26\n",
      "('was', 'liked', 'by', 'a', 'girl', '.', '<eos>'): 26\n",
      "('was', 'liked', 'by', 'the', 'girl', '.', '<eos>'): 26\n",
      "('to', 'the', 'girl', 'by', 'emma', '.', '<eos>'): 25\n",
      "=== 8 ===\n",
      "('<bos>', 'the', 'cake', 'was', 'given', 'to', 'emma', 'by'): 15\n",
      "('<bos>', 'the', 'cake', 'was', 'given', 'to', 'the', 'girl'): 9\n",
      "('was', 'given', 'a', 'cake', 'by', 'emma', '.', '<eos>'): 9\n",
      "('<bos>', 'a', 'cake', 'was', 'given', 'to', 'a', 'girl'): 8\n",
      "('<bos>', 'a', 'cake', 'was', 'lended', 'to', 'emma', 'by'): 8\n",
      "('a', 'cake', 'was', 'given', 'to', 'a', 'girl', 'by'): 8\n",
      "('given', 'to', 'a', 'girl', 'by', 'liam', '.', '<eos>'): 8\n",
      "('the', 'cake', 'was', 'given', 'to', 'the', 'girl', 'by'): 8\n",
      "('to', 'the', 'boy', 'by', 'a', 'girl', '.', '<eos>'): 8\n",
      "('was', 'given', 'to', 'a', 'girl', 'by', 'liam', '.'): 8\n",
      "=== 9 ===\n",
      "('<bos>', 'the', 'cake', 'was', 'given', 'to', 'the', 'girl', 'by'): 8\n",
      "('was', 'given', 'to', 'a', 'girl', 'by', 'liam', '.', '<eos>'): 8\n",
      "('<bos>', 'a', 'cake', 'was', 'given', 'to', 'a', 'girl', 'by'): 7\n",
      "('was', 'given', 'to', 'the', 'girl', 'by', 'emma', '.', '<eos>'): 6\n",
      "('<bos>', 'the', 'cake', 'was', 'given', 'to', 'emma', 'by', 'the'): 5\n",
      "('<bos>', 'a', 'cake', 'was', 'given', 'to', 'a', 'boy', 'by'): 4\n",
      "('<bos>', 'a', 'cake', 'was', 'given', 'to', 'a', 'cat', 'by'): 4\n",
      "('<bos>', 'a', 'cake', 'was', 'given', 'to', 'the', 'girl', 'by'): 4\n",
      "('<bos>', 'a', 'cake', 'was', 'offered', 'to', 'a', 'girl', 'by'): 4\n",
      "('<bos>', 'a', 'donut', 'was', 'given', 'to', 'the', 'girl', 'by'): 4\n",
      "=== 10 ===\n",
      "('<bos>', 'a', 'cake', 'was', 'given', 'to', 'a', 'boy', 'by', 'the'): 3\n",
      "('<bos>', 'the', 'cake', 'was', 'given', 'to', 'the', 'girl', 'by', 'the'): 3\n",
      "('was', 'given', 'to', 'a', 'cat', 'by', 'the', 'girl', '.', '<eos>'): 3\n",
      "('was', 'given', 'to', 'the', 'baby', 'by', 'the', 'girl', '.', '<eos>'): 3\n",
      "('<bos>', 'a', 'block', 'was', 'given', 'to', 'the', 'girl', 'by', 'a'): 2\n",
      "('<bos>', 'a', 'box', 'was', 'given', 'to', 'the', 'girl', 'by', 'the'): 2\n",
      "('<bos>', 'a', 'cake', 'was', 'given', 'to', 'a', 'girl', 'by', 'a'): 2\n",
      "('<bos>', 'a', 'cake', 'was', 'given', 'to', 'a', 'girl', 'by', 'the'): 2\n",
      "('<bos>', 'a', 'crayon', 'was', 'given', 'to', 'a', 'cat', 'by', 'the'): 2\n",
      "('<bos>', 'a', 'girl', 'was', 'given', 'a', 'cake', 'in', 'a', 'house'): 2\n",
      "=== 11 ===\n",
      "('<bos>', 'a', 'girl', 'was', 'given', 'the', 'cake', 'beside', 'a', 'table', 'by'): 2\n",
      "('<bos>', 'emma', 'liked', 'that', 'the', 'cake', 'was', 'given', 'to', 'a', 'girl'): 2\n",
      "('cake', 'was', 'lended', 'to', 'the', 'boy', 'by', 'the', 'girl', '.', '<eos>'): 2\n",
      "('emma', 'liked', 'that', 'the', 'cake', 'was', 'given', 'to', 'a', 'girl', 'by'): 2\n",
      "('gave', 'a', 'cake', 'on', 'the', 'table', 'to', 'the', 'boy', '.', '<eos>'): 2\n",
      "('given', 'the', 'cake', 'in', 'the', 'vehicle', 'by', 'the', 'girl', '.', '<eos>'): 2\n",
      "('the', 'cake', 'was', 'given', 'to', 'noah', 'by', 'a', 'girl', '.', '<eos>'): 2\n",
      "('the', 'donut', 'was', 'given', 'to', 'a', 'girl', 'by', 'liam', '.', '<eos>'): 2\n",
      "('was', 'given', 'a', 'cake', 'beside', 'a', 'table', 'by', 'olivia', '.', '<eos>'): 2\n",
      "('was', 'given', 'the', 'cake', 'in', 'the', 'vehicle', 'by', 'the', 'girl', '.'): 2\n",
      "=== 12 ===\n",
      "('<bos>', 'emma', 'liked', 'that', 'the', 'cake', 'was', 'given', 'to', 'a', 'girl', 'by'): 2\n",
      "('was', 'given', 'the', 'cake', 'in', 'the', 'vehicle', 'by', 'the', 'girl', '.', '<eos>'): 2\n",
      "('<bos>', 'a', 'baby', 'believed', 'that', 'a', 'cake', 'was', 'lended', 'to', 'the', 'boy'): 1\n",
      "('<bos>', 'a', 'baby', 'discovered', 'the', 'cake', 'on', 'the', 'stage', 'on', 'a', 'shelf'): 1\n",
      "('<bos>', 'a', 'baby', 'gave', 'a', 'jacket', 'on', 'the', 'stage', 'to', 'emma', '.'): 1\n",
      "('<bos>', 'a', 'baby', 'gave', 'emma', 'the', 'balloon', 'on', 'the', 'barrel', '.', '<eos>'): 1\n",
      "('<bos>', 'a', 'baby', 'gave', 'mia', 'a', 'cake', 'in', 'the', 'car', '.', '<eos>'): 1\n",
      "('<bos>', 'a', 'baby', 'gave', 'the', 'cake', 'on', 'a', 'stage', 'to', 'emma', '.'): 1\n",
      "('<bos>', 'a', 'baby', 'gave', 'the', 'cake', 'on', 'the', 'table', 'to', 'a', 'teacher'): 1\n",
      "('<bos>', 'a', 'baby', 'gave', 'the', 'donut', 'beside', 'a', 'desk', 'to', 'a', 'girl'): 1\n",
      "=== 13 ===\n",
      "('<bos>', 'a', 'baby', 'believed', 'that', 'a', 'cake', 'was', 'lended', 'to', 'the', 'boy', '.'): 1\n",
      "('<bos>', 'a', 'baby', 'discovered', 'the', 'cake', 'on', 'the', 'stage', 'on', 'a', 'shelf', '.'): 1\n",
      "('<bos>', 'a', 'baby', 'gave', 'a', 'jacket', 'on', 'the', 'stage', 'to', 'emma', '.', '<eos>'): 1\n",
      "('<bos>', 'a', 'baby', 'gave', 'the', 'cake', 'on', 'a', 'stage', 'to', 'emma', '.', '<eos>'): 1\n",
      "('<bos>', 'a', 'baby', 'gave', 'the', 'cake', 'on', 'the', 'table', 'to', 'a', 'teacher', '.'): 1\n",
      "('<bos>', 'a', 'baby', 'gave', 'the', 'donut', 'beside', 'a', 'desk', 'to', 'a', 'girl', '.'): 1\n",
      "('<bos>', 'a', 'baby', 'gave', 'the', 'donut', 'on', 'the', 'table', 'to', 'emma', '.', '<eos>'): 1\n",
      "('<bos>', 'a', 'baby', 'hoped', 'that', 'a', 'can', 'was', 'passed', 'to', 'a', 'girl', 'by'): 1\n",
      "('<bos>', 'a', 'baby', 'hoped', 'that', 'a', 'plate', 'was', 'given', 'to', 'isabella', '.', '<eos>'): 1\n",
      "('<bos>', 'a', 'baby', 'hoped', 'that', 'the', 'cat', 'gave', 'the', 'game', 'to', 'charlotte', '.'): 1\n",
      "=== 14 ===\n",
      "('<bos>', 'a', 'baby', 'believed', 'that', 'a', 'cake', 'was', 'lended', 'to', 'the', 'boy', '.', '<eos>'): 1\n",
      "('<bos>', 'a', 'baby', 'discovered', 'the', 'cake', 'on', 'the', 'stage', 'on', 'a', 'shelf', '.', '<eos>'): 1\n",
      "('<bos>', 'a', 'baby', 'gave', 'the', 'cake', 'on', 'the', 'table', 'to', 'a', 'teacher', '.', '<eos>'): 1\n",
      "('<bos>', 'a', 'baby', 'gave', 'the', 'donut', 'beside', 'a', 'desk', 'to', 'a', 'girl', '.', '<eos>'): 1\n",
      "('<bos>', 'a', 'baby', 'hoped', 'that', 'a', 'can', 'was', 'passed', 'to', 'a', 'girl', 'by', 'a'): 1\n",
      "('<bos>', 'a', 'baby', 'hoped', 'that', 'the', 'cat', 'gave', 'the', 'game', 'to', 'charlotte', '.', '<eos>'): 1\n",
      "('<bos>', 'a', 'baby', 'lended', 'the', 'donut', 'beside', 'a', 'table', 'to', 'a', 'champion', '.', '<eos>'): 1\n",
      "('<bos>', 'a', 'baby', 'lended', 'the', 'fig', 'on', 'a', 'chair', 'to', 'a', 'giraffe', '.', '<eos>'): 1\n",
      "('<bos>', 'a', 'baby', 'lended', 'the', 'melon', 'in', 'the', 'room', 'to', 'a', 'boy', '.', '<eos>'): 1\n",
      "('<bos>', 'a', 'baby', 'liked', 'that', 'a', 'cat', 'dreamed', 'that', 'penelope', 'was', 'slipped', 'a', 'cake'): 1\n",
      "=== 15 ===\n",
      "('<bos>', 'a', 'baby', 'hoped', 'that', 'a', 'can', 'was', 'passed', 'to', 'a', 'girl', 'by', 'a', 'boy'): 1\n",
      "('<bos>', 'a', 'baby', 'liked', 'that', 'a', 'cat', 'dreamed', 'that', 'penelope', 'was', 'slipped', 'a', 'cake', '.'): 1\n",
      "('<bos>', 'a', 'baby', 'liked', 'that', 'emma', 'was', 'sold', 'the', 'cake', 'in', 'a', 'shoe', 'by', 'a'): 1\n",
      "('<bos>', 'a', 'baby', 'noticed', 'that', 'a', 'teacher', 'gave', 'olivia', 'the', 'cookie', 'beside', 'a', 'table', '.'): 1\n",
      "('<bos>', 'a', 'baby', 'offered', 'a', 'boy', 'the', 'cake', 'beside', 'the', 'bed', 'beside', 'the', 'table', '.'): 1\n",
      "('<bos>', 'a', 'baby', 'proved', 'that', 'the', 'doctor', 'hoped', 'that', 'the', 'donut', 'was', 'wired', 'to', 'a'): 1\n",
      "('<bos>', 'a', 'baby', 'respected', 'that', 'olivia', 'was', 'offered', 'a', 'box', 'in', 'a', 'shoebox', '.', '<eos>'): 1\n",
      "('<bos>', 'a', 'baby', 'was', 'given', 'a', 'donut', 'on', 'the', 'bed', 'on', 'a', 'chair', 'by', 'the'): 1\n",
      "('<bos>', 'a', 'baby', 'was', 'given', 'the', 'cake', 'in', 'the', 'soup', 'by', 'a', 'boy', '.', '<eos>'): 1\n",
      "('<bos>', 'a', 'baby', 'was', 'given', 'the', 'cake', 'on', 'a', 'bed', 'by', 'a', 'girl', '.', '<eos>'): 1\n",
      "=== 16 ===\n",
      "('<bos>', 'a', 'baby', 'hoped', 'that', 'a', 'can', 'was', 'passed', 'to', 'a', 'girl', 'by', 'a', 'boy', '.'): 1\n",
      "('<bos>', 'a', 'baby', 'liked', 'that', 'a', 'cat', 'dreamed', 'that', 'penelope', 'was', 'slipped', 'a', 'cake', '.', '<eos>'): 1\n",
      "('<bos>', 'a', 'baby', 'liked', 'that', 'emma', 'was', 'sold', 'the', 'cake', 'in', 'a', 'shoe', 'by', 'a', 'girl'): 1\n",
      "('<bos>', 'a', 'baby', 'noticed', 'that', 'a', 'teacher', 'gave', 'olivia', 'the', 'cookie', 'beside', 'a', 'table', '.', '<eos>'): 1\n",
      "('<bos>', 'a', 'baby', 'offered', 'a', 'boy', 'the', 'cake', 'beside', 'the', 'bed', 'beside', 'the', 'table', '.', '<eos>'): 1\n",
      "('<bos>', 'a', 'baby', 'proved', 'that', 'the', 'doctor', 'hoped', 'that', 'the', 'donut', 'was', 'wired', 'to', 'a', 'teacher'): 1\n",
      "('<bos>', 'a', 'baby', 'was', 'given', 'a', 'donut', 'on', 'the', 'bed', 'on', 'a', 'chair', 'by', 'the', 'girl'): 1\n",
      "('<bos>', 'a', 'baby', 'was', 'given', 'the', 'cake', 'on', 'the', 'notebook', 'on', 'the', 'sofa', 'by', 'the', 'dog'): 1\n",
      "('<bos>', 'a', 'bear', 'liked', 'that', 'the', 'cat', 'was', 'brought', 'a', 'strawberry', 'in', 'the', 'refrigerator', 'by', 'a'): 1\n",
      "('<bos>', 'a', 'bear', 'respected', 'that', 'noah', 'liked', 'that', 'the', 'cake', 'was', 'drawn', 'by', 'a', 'girl', '.'): 1\n",
      "=== 17 ===\n",
      "('<bos>', 'a', 'baby', 'hoped', 'that', 'a', 'can', 'was', 'passed', 'to', 'a', 'girl', 'by', 'a', 'boy', '.', '<eos>'): 1\n",
      "('<bos>', 'a', 'baby', 'liked', 'that', 'emma', 'was', 'sold', 'the', 'cake', 'in', 'a', 'shoe', 'by', 'a', 'girl', '.'): 1\n",
      "('<bos>', 'a', 'baby', 'proved', 'that', 'the', 'doctor', 'hoped', 'that', 'the', 'donut', 'was', 'wired', 'to', 'a', 'teacher', '.'): 1\n",
      "('<bos>', 'a', 'baby', 'was', 'given', 'a', 'donut', 'on', 'the', 'bed', 'on', 'a', 'chair', 'by', 'the', 'girl', '.'): 1\n",
      "('<bos>', 'a', 'baby', 'was', 'given', 'the', 'cake', 'on', 'the', 'notebook', 'on', 'the', 'sofa', 'by', 'the', 'dog', '.'): 1\n",
      "('<bos>', 'a', 'bear', 'liked', 'that', 'the', 'cat', 'was', 'brought', 'a', 'strawberry', 'in', 'the', 'refrigerator', 'by', 'a', 'girl'): 1\n",
      "('<bos>', 'a', 'bear', 'respected', 'that', 'noah', 'liked', 'that', 'the', 'cake', 'was', 'drawn', 'by', 'a', 'girl', '.', '<eos>'): 1\n",
      "('<bos>', 'a', 'boy', 'believed', 'that', 'a', 'frog', 'liked', 'that', 'the', 'child', 'returned', 'a', 'girl', 'a', 'needle', 'beside'): 1\n",
      "('<bos>', 'a', 'boy', 'confessed', 'that', 'olivia', 'returned', 'the', 'girl', 'the', 'donut', 'on', 'the', 'tripod', 'in', 'the', 'house'): 1\n",
      "('<bos>', 'a', 'boy', 'hoped', 'that', 'luna', 'imagined', 'that', 'a', 'girl', 'was', 'lended', 'a', 'donut', 'by', 'the', 'sailor'): 1\n",
      "=== 18 ===\n",
      "('<bos>', 'a', 'baby', 'liked', 'that', 'emma', 'was', 'sold', 'the', 'cake', 'in', 'a', 'shoe', 'by', 'a', 'girl', '.', '<eos>'): 1\n",
      "('<bos>', 'a', 'baby', 'proved', 'that', 'the', 'doctor', 'hoped', 'that', 'the', 'donut', 'was', 'wired', 'to', 'a', 'teacher', '.', '<eos>'): 1\n",
      "('<bos>', 'a', 'baby', 'was', 'given', 'a', 'donut', 'on', 'the', 'bed', 'on', 'a', 'chair', 'by', 'the', 'girl', '.', '<eos>'): 1\n",
      "('<bos>', 'a', 'baby', 'was', 'given', 'the', 'cake', 'on', 'the', 'notebook', 'on', 'the', 'sofa', 'by', 'the', 'dog', '.', '<eos>'): 1\n",
      "('<bos>', 'a', 'bear', 'liked', 'that', 'the', 'cat', 'was', 'brought', 'a', 'strawberry', 'in', 'the', 'refrigerator', 'by', 'a', 'girl', '.'): 1\n",
      "('<bos>', 'a', 'boy', 'believed', 'that', 'a', 'frog', 'liked', 'that', 'the', 'child', 'returned', 'a', 'girl', 'a', 'needle', 'beside', 'the'): 1\n",
      "('<bos>', 'a', 'boy', 'confessed', 'that', 'olivia', 'returned', 'the', 'girl', 'the', 'donut', 'on', 'the', 'tripod', 'in', 'the', 'house', '.'): 1\n",
      "('<bos>', 'a', 'boy', 'hoped', 'that', 'luna', 'imagined', 'that', 'a', 'girl', 'was', 'lended', 'a', 'donut', 'by', 'the', 'sailor', '.'): 1\n",
      "('<bos>', 'a', 'boy', 'noticed', 'that', 'a', 'dog', 'sold', 'the', 'chalk', 'in', 'the', 'house', 'to', 'the', 'girl', '.', '<eos>'): 1\n",
      "('<bos>', 'a', 'boy', 'was', 'rented', 'the', 'cake', 'in', 'a', 'tent', 'on', 'the', 'leaflet', 'by', 'a', 'cat', '.', '<eos>'): 1\n",
      "=== 19 ===\n",
      "('<bos>', 'a', 'bear', 'liked', 'that', 'the', 'cat', 'was', 'brought', 'a', 'strawberry', 'in', 'the', 'refrigerator', 'by', 'a', 'girl', '.', '<eos>'): 1\n",
      "('<bos>', 'a', 'boy', 'believed', 'that', 'a', 'frog', 'liked', 'that', 'the', 'child', 'returned', 'a', 'girl', 'a', 'needle', 'beside', 'the', 'clock'): 1\n",
      "('<bos>', 'a', 'boy', 'confessed', 'that', 'olivia', 'returned', 'the', 'girl', 'the', 'donut', 'on', 'the', 'tripod', 'in', 'the', 'house', '.', '<eos>'): 1\n",
      "('<bos>', 'a', 'boy', 'hoped', 'that', 'luna', 'imagined', 'that', 'a', 'girl', 'was', 'lended', 'a', 'donut', 'by', 'the', 'sailor', '.', '<eos>'): 1\n",
      "('<bos>', 'a', 'chicken', 'liked', 'that', 'a', 'girl', 'was', 'sold', 'a', 'cake', 'beside', 'the', 'seat', 'by', 'a', 'chief', '.', '<eos>'): 1\n",
      "('<bos>', 'a', 'dog', 'believed', 'that', 'a', 'girl', 'passed', 'the', 'giraffe', 'the', 'basket', 'beside', 'a', 'road', 'in', 'a', 'wardrobe', '.'): 1\n",
      "('<bos>', 'a', 'dog', 'respected', 'that', 'emma', 'rented', 'the', 'biscuit', 'in', 'a', 'pot', 'beside', 'a', 'nest', 'to', 'the', 'boy', '.'): 1\n",
      "('<bos>', 'a', 'friend', 'hoped', 'that', 'a', 'butterfly', 'hoped', 'that', 'a', 'monkey', 'cooked', 'a', 'girl', 'beside', 'a', 'table', '.', '<eos>'): 1\n",
      "('<bos>', 'a', 'girl', 'admired', 'that', 'a', 'baby', 'wished', 'that', 'a', 'donut', 'was', 'lended', 'to', 'the', 'frog', 'by', 'ryan', '.'): 1\n",
      "('<bos>', 'a', 'girl', 'hoped', 'that', 'a', 'hero', 'brought', 'the', 'cake', 'on', 'the', 'cabinet', 'beside', 'a', 'trainee', 'to', 'noah', '.'): 1\n",
      "=== 20 ===\n",
      "('<bos>', 'a', 'boy', 'believed', 'that', 'a', 'frog', 'liked', 'that', 'the', 'child', 'returned', 'a', 'girl', 'a', 'needle', 'beside', 'the', 'clock', '.'): 1\n",
      "('<bos>', 'a', 'dog', 'believed', 'that', 'a', 'girl', 'passed', 'the', 'giraffe', 'the', 'basket', 'beside', 'a', 'road', 'in', 'a', 'wardrobe', '.', '<eos>'): 1\n",
      "('<bos>', 'a', 'dog', 'respected', 'that', 'emma', 'rented', 'the', 'biscuit', 'in', 'a', 'pot', 'beside', 'a', 'nest', 'to', 'the', 'boy', '.', '<eos>'): 1\n",
      "('<bos>', 'a', 'girl', 'admired', 'that', 'a', 'baby', 'wished', 'that', 'a', 'donut', 'was', 'lended', 'to', 'the', 'frog', 'by', 'ryan', '.', '<eos>'): 1\n",
      "('<bos>', 'a', 'girl', 'hoped', 'that', 'a', 'hero', 'brought', 'the', 'cake', 'on', 'the', 'cabinet', 'beside', 'a', 'trainee', 'to', 'noah', '.', '<eos>'): 1\n",
      "('<bos>', 'a', 'girl', 'liked', 'that', 'the', 'prince', 'gave', 'the', 'pancake', 'beside', 'the', 'bed', 'beside', 'the', 'mirror', 'to', 'emma', '.', '<eos>'): 1\n",
      "('<bos>', 'aiden', 'believed', 'that', 'a', 'mouse', 'hoped', 'that', 'olivia', 'examined', 'a', 'glue', 'beside', 'the', 'stage', 'beside', 'a', 'duck', '.', '<eos>'): 1\n",
      "('<bos>', 'emma', 'liked', 'that', 'a', 'girl', 'liked', 'that', 'the', 'cat', 'was', 'rented', 'a', 'cake', 'on', 'a', 'chair', 'on', 'the', 'computer'): 1\n",
      "('<bos>', 'emma', 'liked', 'that', 'the', 'boy', 'imagined', 'that', 'the', 'prince', 'was', 'forwarded', 'a', 'shoe', 'in', 'a', 'box', 'by', 'olivia', '.'): 1\n",
      "('<bos>', 'emma', 'tolerated', 'that', 'a', 'baby', 'liked', 'that', 'the', 'frog', 'offered', 'the', 'donkey', 'a', 'purse', 'on', 'a', 'pillow', '.', '<eos>'): 1\n",
      "=== 21 ===\n",
      "('<bos>', 'a', 'boy', 'believed', 'that', 'a', 'frog', 'liked', 'that', 'the', 'child', 'returned', 'a', 'girl', 'a', 'needle', 'beside', 'the', 'clock', '.', '<eos>'): 1\n",
      "('<bos>', 'emma', 'liked', 'that', 'a', 'girl', 'liked', 'that', 'the', 'cat', 'was', 'rented', 'a', 'cake', 'on', 'a', 'chair', 'on', 'the', 'computer', 'by'): 1\n",
      "('<bos>', 'emma', 'liked', 'that', 'the', 'boy', 'imagined', 'that', 'the', 'prince', 'was', 'forwarded', 'a', 'shoe', 'in', 'a', 'box', 'by', 'olivia', '.', '<eos>'): 1\n",
      "('<bos>', 'the', 'frog', 'hoped', 'that', 'the', 'girl', 'declared', 'that', 'the', 'boy', 'was', 'given', 'a', 'cake', 'beside', 'a', 'table', 'by', 'olivia', '.'): 1\n",
      "('<bos>', 'the', 'giraffe', 'liked', 'that', 'olivia', 'noticed', 'that', 'the', 'butterfly', 'was', 'given', 'the', 'drink', 'in', 'the', 'garden', 'on', 'a', 'table', '.'): 1\n",
      "('emma', 'liked', 'that', 'a', 'girl', 'liked', 'that', 'the', 'cat', 'was', 'rented', 'a', 'cake', 'on', 'a', 'chair', 'on', 'the', 'computer', 'by', 'michael'): 1\n",
      "('liked', 'that', 'a', 'girl', 'liked', 'that', 'the', 'cat', 'was', 'rented', 'a', 'cake', 'on', 'a', 'chair', 'on', 'the', 'computer', 'by', 'michael', '.'): 1\n",
      "('that', 'a', 'girl', 'liked', 'that', 'the', 'cat', 'was', 'rented', 'a', 'cake', 'on', 'a', 'chair', 'on', 'the', 'computer', 'by', 'michael', '.', '<eos>'): 1\n",
      "('the', 'frog', 'hoped', 'that', 'the', 'girl', 'declared', 'that', 'the', 'boy', 'was', 'given', 'a', 'cake', 'beside', 'a', 'table', 'by', 'olivia', '.', '<eos>'): 1\n",
      "('the', 'giraffe', 'liked', 'that', 'olivia', 'noticed', 'that', 'the', 'butterfly', 'was', 'given', 'the', 'drink', 'in', 'the', 'garden', 'on', 'a', 'table', '.', '<eos>'): 1\n",
      "=== 22 ===\n",
      "('<bos>', 'emma', 'liked', 'that', 'a', 'girl', 'liked', 'that', 'the', 'cat', 'was', 'rented', 'a', 'cake', 'on', 'a', 'chair', 'on', 'the', 'computer', 'by', 'michael'): 1\n",
      "('<bos>', 'the', 'frog', 'hoped', 'that', 'the', 'girl', 'declared', 'that', 'the', 'boy', 'was', 'given', 'a', 'cake', 'beside', 'a', 'table', 'by', 'olivia', '.', '<eos>'): 1\n",
      "('<bos>', 'the', 'giraffe', 'liked', 'that', 'olivia', 'noticed', 'that', 'the', 'butterfly', 'was', 'given', 'the', 'drink', 'in', 'the', 'garden', 'on', 'a', 'table', '.', '<eos>'): 1\n",
      "('emma', 'liked', 'that', 'a', 'girl', 'liked', 'that', 'the', 'cat', 'was', 'rented', 'a', 'cake', 'on', 'a', 'chair', 'on', 'the', 'computer', 'by', 'michael', '.'): 1\n",
      "('liked', 'that', 'a', 'girl', 'liked', 'that', 'the', 'cat', 'was', 'rented', 'a', 'cake', 'on', 'a', 'chair', 'on', 'the', 'computer', 'by', 'michael', '.', '<eos>'): 1\n",
      "=== 23 ===\n",
      "('<bos>', 'emma', 'liked', 'that', 'a', 'girl', 'liked', 'that', 'the', 'cat', 'was', 'rented', 'a', 'cake', 'on', 'a', 'chair', 'on', 'the', 'computer', 'by', 'michael', '.'): 1\n",
      "('emma', 'liked', 'that', 'a', 'girl', 'liked', 'that', 'the', 'cat', 'was', 'rented', 'a', 'cake', 'on', 'a', 'chair', 'on', 'the', 'computer', 'by', 'michael', '.', '<eos>'): 1\n",
      "=== 24 ===\n",
      "('<bos>', 'emma', 'liked', 'that', 'a', 'girl', 'liked', 'that', 'the', 'cat', 'was', 'rented', 'a', 'cake', 'on', 'a', 'chair', 'on', 'the', 'computer', 'by', 'michael', '.', '<eos>'): 1\n",
      "=== 25 ===\n"
     ]
    }
   ],
   "execution_count": 10
  },
  {
   "cell_type": "code",
   "id": "7ffada06-85eb-4c72-a82a-242b29f4fc55",
   "metadata": {
    "ExecuteTime": {
     "end_time": "2025-02-03T15:05:24.477963Z",
     "start_time": "2025-02-03T15:05:22.335818Z"
    }
   },
   "source": [
    "# Cell H\n",
    "# Zipf's law https://en.wikipedia.org/wiki/Zipf's_law\n",
    "# Q3: Run this code to produce a plot. What does this plot show? What is on the x-axis, what is on the y-axis?\n",
    "# Q4: According to this plot, is the ngram assumption justified? If you don't remember what the ngram assumption is, ask Nils.\n",
    "%matplotlib ipympl\n",
    "import matplotlib.pyplot as plt\n",
    "import numpy as np\n",
    "\n",
    "def get_ngram_frequencies(n):\n",
    "    frequencies = filter(lambda x: len(x[0]) == n, ngram_model.ngrams.items())\n",
    "    frequencies = map(lambda x: x[1], frequencies)\n",
    "    y = sorted(frequencies, reverse = True)\n",
    "    x = np.arange(len(y))\n",
    "    if len(x) == 0:\n",
    "        return None, None\n",
    "    else:\n",
    "        return x, y\n",
    "\n",
    "fig, ax = plt.subplots()\n",
    "ax.set_xscale('log')\n",
    "ax.set_yscale('log')\n",
    "for n in range(1,11):\n",
    "    x, y = get_ngram_frequencies(n)\n",
    "    if x is None:\n",
    "        continue\n",
    "    ax.plot(x, y, label=n)\n",
    "ax.legend()\n",
    "plt.show()"
   ],
   "outputs": [
    {
     "data": {
      "text/plain": [
       "Canvas(toolbar=Toolbar(toolitems=[('Home', 'Reset original view', 'home', 'home'), ('Back', 'Back to previous …"
      ],
      "image/png": "[encoded data removed]",
      "text/html": [
       "\n",
       "            <div style=\"display: inline-block;\">\n",
       "                <div class=\"jupyter-widgets widget-label\" style=\"text-align: center;\">\n",
       "                    Figure\n",
       "                </div>\n",
       "                <img src='data:image/png;base64,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' width=640.0/>\n",
       "            </div>\n",
       "        "
      ],
      "application/vnd.jupyter.widget-view+json": {
       "version_major": 2,
       "version_minor": 0,
       "model_id": "d530d5095a7d4d0ba7915be7a9180251"
      }
     },
     "metadata": {},
     "output_type": "display_data"
    }
   ],
   "execution_count": 11
  },
  {
   "metadata": {
    "ExecuteTime": {
     "end_time": "2025-02-03T15:24:22.971877Z",
     "start_time": "2025-02-03T15:24:22.962717Z"
    }
   },
   "cell_type": "code",
   "source": [
    "display_answer(\n",
    "    \"Q3\",\n",
    "    \"The plot shows the frequency of n-grams in the dataset. The x-axis represents the rank of the n-grams, and the y-axis represents the frequency of the n-grams.\"\n",
    ")\n",
    "display_answer(\n",
    "    \"Q4\",\n",
    "    \"The plot shows that the ngram assumption may not be justified in our dataset, as the frequencies of n-grams do not follow a Zipf's law distribution (we don't see straight lines in the log-log plot).\"\n",
    ")"
   ],
   "id": "81d267fb7ff2238b",
   "outputs": [
    {
     "data": {
      "text/plain": [
       "<IPython.core.display.HTML object>"
      ],
      "text/html": [
       "<div class=\"alert alert-block alert-success\"> <h1>Q3:</h1>The plot shows the frequency of n-grams in the dataset. The x-axis represents the rank of the n-grams, and the y-axis represents the frequency of the n-grams. </div>"
      ]
     },
     "metadata": {},
     "output_type": "display_data"
    },
    {
     "data": {
      "text/plain": [
       "<IPython.core.display.HTML object>"
      ],
      "text/html": [
       "<div class=\"alert alert-block alert-success\"> <h1>Q4:</h1>The plot shows that the ngram assumption may not be justified in our dataset, as the frequencies of n-grams do not follow a Zipf's law distribution (we don't see straight lines in the log-log plot). </div>"
      ]
     },
     "metadata": {},
     "output_type": "display_data"
    }
   ],
   "execution_count": 14
  },
  {
   "cell_type": "code",
   "id": "bdcdebc7-b6de-4b59-bc1a-b73e17637680",
   "metadata": {
    "ExecuteTime": {
     "end_time": "2025-02-03T15:28:00.389702Z",
     "start_time": "2025-02-03T15:28:00.313663Z"
    }
   },
   "source": [
    "# Cell I\n",
    "# Perplexity\n",
    "from tqdm import tqdm\n",
    "def dataset_perplexity(model, data, progress=False, details=False):\n",
    "    output = 0\n",
    "    samples = [] if details else None\n",
    "    it = tqdm(data) if progress else data\n",
    "    for sentence in it:\n",
    "        perplexity_ = model.perplexity(sentence)\n",
    "        output += perplexity_\n",
    "        if samples is not None:\n",
    "            samples.append((sentence, perplexity_))\n",
    "    output /= len(data)\n",
    "    if details:\n",
    "        return output, sorted(samples, key=lambda x: x[1])\n",
    "    else:\n",
    "        return output\n",
    "# Q5: Why does this throw an error?\n",
    "perplexity = dataset_perplexity(ngram_model, tokens['dev'])"
   ],
   "outputs": [
    {
     "ename": "AssertionError",
     "evalue": "['<bos>', 'liam', 'hoped', 'that', 'a', 'box']: 0",
     "output_type": "error",
     "traceback": [
      "\u001B[1;31m---------------------------------------------------------------------------\u001B[0m",
      "\u001B[1;31mAssertionError\u001B[0m                            Traceback (most recent call last)",
      "Cell \u001B[1;32mIn[18], line 19\u001B[0m\n\u001B[0;32m     17\u001B[0m         \u001B[38;5;28;01mreturn\u001B[39;00m output\n\u001B[0;32m     18\u001B[0m \u001B[38;5;66;03m# Q5: Why does this throw an error?\u001B[39;00m\n\u001B[1;32m---> 19\u001B[0m perplexity \u001B[38;5;241m=\u001B[39m \u001B[43mdataset_perplexity\u001B[49m\u001B[43m(\u001B[49m\u001B[43mngram_model\u001B[49m\u001B[43m,\u001B[49m\u001B[43m \u001B[49m\u001B[43mtokens\u001B[49m\u001B[43m[\u001B[49m\u001B[38;5;124;43m'\u001B[39;49m\u001B[38;5;124;43mdev\u001B[39;49m\u001B[38;5;124;43m'\u001B[39;49m\u001B[43m]\u001B[49m\u001B[43m)\u001B[49m\n",
      "Cell \u001B[1;32mIn[18], line 9\u001B[0m, in \u001B[0;36mdataset_perplexity\u001B[1;34m(model, data, progress, details)\u001B[0m\n\u001B[0;32m      7\u001B[0m it \u001B[38;5;241m=\u001B[39m tqdm(data) \u001B[38;5;28;01mif\u001B[39;00m progress \u001B[38;5;28;01melse\u001B[39;00m data\n\u001B[0;32m      8\u001B[0m \u001B[38;5;28;01mfor\u001B[39;00m sentence \u001B[38;5;129;01min\u001B[39;00m it:\n\u001B[1;32m----> 9\u001B[0m     perplexity_ \u001B[38;5;241m=\u001B[39m \u001B[43mmodel\u001B[49m\u001B[38;5;241;43m.\u001B[39;49m\u001B[43mperplexity\u001B[49m\u001B[43m(\u001B[49m\u001B[43msentence\u001B[49m\u001B[43m)\u001B[49m\n\u001B[0;32m     10\u001B[0m     output \u001B[38;5;241m+\u001B[39m\u001B[38;5;241m=\u001B[39m perplexity_\n\u001B[0;32m     11\u001B[0m     \u001B[38;5;28;01mif\u001B[39;00m samples \u001B[38;5;129;01mis\u001B[39;00m \u001B[38;5;129;01mnot\u001B[39;00m \u001B[38;5;28;01mNone\u001B[39;00m:\n",
      "Cell \u001B[1;32mIn[6], line 119\u001B[0m, in \u001B[0;36mNgramCounter.perplexity\u001B[1;34m(self, tokens)\u001B[0m\n\u001B[0;32m    118\u001B[0m \u001B[38;5;28;01mdef\u001B[39;00m\u001B[38;5;250m \u001B[39m\u001B[38;5;21mperplexity\u001B[39m(\u001B[38;5;28mself\u001B[39m, tokens):\n\u001B[1;32m--> 119\u001B[0m     logprob \u001B[38;5;241m=\u001B[39m \u001B[38;5;28;43mself\u001B[39;49m\u001B[38;5;241;43m.\u001B[39;49m\u001B[43mcompute_logprob\u001B[49m\u001B[43m(\u001B[49m\u001B[43mtokens\u001B[49m\u001B[43m)\u001B[49m\n\u001B[0;32m    120\u001B[0m     perplexity \u001B[38;5;241m=\u001B[39m Probability(logprob\u001B[38;5;241m.\u001B[39mvalue\u001B[38;5;241m/\u001B[39m\u001B[38;5;28mlen\u001B[39m(tokens), log_scale \u001B[38;5;241m=\u001B[39m \u001B[38;5;28;01mTrue\u001B[39;00m)\n\u001B[0;32m    121\u001B[0m     \u001B[38;5;28;01mreturn\u001B[39;00m perplexity\u001B[38;5;241m.\u001B[39mvalue\n",
      "Cell \u001B[1;32mIn[6], line 111\u001B[0m, in \u001B[0;36mNgramCounter.compute_logprob\u001B[1;34m(self, tokens)\u001B[0m\n\u001B[0;32m    109\u001B[0m \u001B[38;5;28;01mfor\u001B[39;00m tt \u001B[38;5;129;01min\u001B[39;00m \u001B[38;5;28mrange\u001B[39m(\u001B[38;5;28mlen\u001B[39m(tokens)):\n\u001B[0;32m    110\u001B[0m     history \u001B[38;5;241m=\u001B[39m tokens[:tt]\n\u001B[1;32m--> 111\u001B[0m     cp \u001B[38;5;241m=\u001B[39m \u001B[38;5;28;43mself\u001B[39;49m\u001B[38;5;241;43m.\u001B[39;49m\u001B[43mconditional_probability\u001B[49m\u001B[43m(\u001B[49m\u001B[43mtokens\u001B[49m\u001B[43m[\u001B[49m\u001B[43mtt\u001B[49m\u001B[43m]\u001B[49m\u001B[43m,\u001B[49m\u001B[43m \u001B[49m\u001B[43mhistory\u001B[49m\u001B[43m)\u001B[49m\n\u001B[0;32m    112\u001B[0m     probs[tt] \u001B[38;5;241m=\u001B[39m cp\n\u001B[0;32m    113\u001B[0m \u001B[38;5;28;01massert\u001B[39;00m \u001B[38;5;28mall\u001B[39m(x \u001B[38;5;129;01mis\u001B[39;00m \u001B[38;5;129;01mnot\u001B[39;00m \u001B[38;5;28;01mNone\u001B[39;00m \u001B[38;5;28;01mfor\u001B[39;00m x \u001B[38;5;129;01min\u001B[39;00m probs)\n",
      "Cell \u001B[1;32mIn[6], line 100\u001B[0m, in \u001B[0;36mNgramCounter.conditional_probability\u001B[1;34m(self, token, history)\u001B[0m\n\u001B[0;32m     98\u001B[0m \u001B[38;5;28;01melse\u001B[39;00m:\n\u001B[0;32m     99\u001B[0m     Z \u001B[38;5;241m=\u001B[39m \u001B[38;5;28mself\u001B[39m\u001B[38;5;241m.\u001B[39mget_count(history, history\u001B[38;5;241m=\u001B[39m\u001B[38;5;28;01mTrue\u001B[39;00m)\n\u001B[1;32m--> 100\u001B[0m     \u001B[38;5;28;01massert\u001B[39;00m Z \u001B[38;5;241m>\u001B[39m \u001B[38;5;241m0\u001B[39m, \u001B[38;5;124m'\u001B[39m\u001B[38;5;132;01m{}\u001B[39;00m\u001B[38;5;124m: \u001B[39m\u001B[38;5;132;01m{}\u001B[39;00m\u001B[38;5;124m'\u001B[39m\u001B[38;5;241m.\u001B[39mformat(history, Z)\n\u001B[0;32m    101\u001B[0m     \u001B[38;5;28;01mreturn\u001B[39;00m Probability(count\u001B[38;5;241m/\u001B[39mZ)\n",
      "\u001B[1;31mAssertionError\u001B[0m: ['<bos>', 'liam', 'hoped', 'that', 'a', 'box']: 0"
     ]
    }
   ],
   "execution_count": 18
  },
  {
   "metadata": {
    "ExecuteTime": {
     "end_time": "2025-02-03T15:33:22.919871Z",
     "start_time": "2025-02-03T15:33:22.913672Z"
    }
   },
   "cell_type": "code",
   "source": [
    "display_answer(\n",
    "    \"Q5\",\n",
    "    \"The error occurred because the <code>NgramCounter</code> was initialized without smoothing, which caused some n-grams to have a probability of zero.\"\n",
    ")"
   ],
   "id": "314fcbb53fa7c393",
   "outputs": [
    {
     "data": {
      "text/plain": [
       "<IPython.core.display.HTML object>"
      ],
      "text/html": [
       "<div class=\"alert alert-block alert-success\"> <h1>Q5:</h1>The error occurred because the <code>NgramCounter</code> was initialized without smoothing, which caused some n-grams to have a probability of zero. </div>"
      ]
     },
     "metadata": {},
     "output_type": "display_data"
    }
   ],
   "execution_count": 21
  },
  {
   "cell_type": "code",
   "id": "e1dc2e31-8bef-40b6-af4a-233aeb6a9d9a",
   "metadata": {
    "ExecuteTime": {
     "end_time": "2025-02-03T15:37:38.343996Z",
     "start_time": "2025-02-03T15:36:10.152118Z"
    }
   },
   "source": [
    "# Cell J\n",
    "# Try again, but with \"smoothing = 1\"\n",
    "# \"smoothing\" adds counts to unknown ngrams. No probability is equal to 0 anymore,\n",
    "# but we give probability mass away that could be used for known ngrams.\n",
    "ngram_model = NgramCounter(25, smoothing=1)\n",
    "fit(ngram_model, tokens['train'])\n",
    "perplexity = dataset_perplexity(ngram_model, tokens['dev'], progress=True)\n",
    "print(perplexity)"
   ],
   "outputs": [
    {
     "name": "stderr",
     "output_type": "stream",
     "text": [
      "100%|██████████| 3000/3000 [01:25<00:00, 35.21it/s]"
     ]
    },
    {
     "name": "stdout",
     "output_type": "stream",
     "text": [
      "5.034350787496002\n"
     ]
    },
    {
     "name": "stderr",
     "output_type": "stream",
     "text": [
      "\n"
     ]
    }
   ],
   "execution_count": 22
  },
  {
   "cell_type": "code",
   "id": "0a050a61-f214-43d4-97c0-3b9c4db10f4c",
   "metadata": {
    "ExecuteTime": {
     "end_time": "2025-02-03T15:39:39.590717Z",
     "start_time": "2025-02-03T15:37:54.552173Z"
    }
   },
   "source": [
    "# Cell K\n",
    "# small grid search: find the best possible length for ngrams, and the best possible smoothing value\n",
    "# while this runs, get up and stretch your legs\n",
    "import itertools\n",
    "n_values = [1,2,3,4]\n",
    "smoothing_values = [1,2,4]\n",
    "params = list(itertools.product(*[n_values, smoothing_values]))\n",
    "for param in itertools.product(*[n_values, smoothing_values]):\n",
    "    n, smoothing = param\n",
    "    ngram_model = NgramCounter(n, smoothing=smoothing)\n",
    "    fit(ngram_model, tokens['train'])\n",
    "    perplexity = dataset_perplexity(ngram_model, tokens['dev'])\n",
    "    print('n={}, smoothing={}, perplexity={}'.format(n, smoothing, perplexity))\n",
    "# Q6: Why doesn't the dev perplexity keep decreasing as n increases?"
   ],
   "outputs": [
    {
     "name": "stdout",
     "output_type": "stream",
     "text": [
      "n=1, smoothing=1, perplexity=3.945324735268181\n",
      "n=1, smoothing=2, perplexity=3.9457556107640963\n",
      "n=1, smoothing=4, perplexity=3.946914983054919\n",
      "n=2, smoothing=1, perplexity=2.8664946354863146\n",
      "n=2, smoothing=2, perplexity=3.017926706992085\n",
      "n=2, smoothing=4, perplexity=3.2023672810157295\n",
      "n=3, smoothing=1, perplexity=3.5740829970905956\n",
      "n=3, smoothing=2, perplexity=3.838071246341628\n",
      "n=3, smoothing=4, perplexity=4.11857556451489\n",
      "n=4, smoothing=1, perplexity=4.227705632549121\n",
      "n=4, smoothing=2, perplexity=4.45331717241929\n",
      "n=4, smoothing=4, perplexity=4.673877224641809\n"
     ]
    }
   ],
   "execution_count": 23
  },
  {
   "metadata": {},
   "cell_type": "code",
   "outputs": [],
   "execution_count": null,
   "source": [
    "display_answer(\n",
    "    \"Q6\",\n",
    "    \"The perplexity doesn't keep decreasing as n increases because the model becomes more complex and starts to overfit the training data.\"\n",
    ")"
   ],
   "id": "25a2550447036f82"
  },
  {
   "cell_type": "code",
   "id": "a0c869fb-7952-4f87-bdf9-2987c5ae4032",
   "metadata": {
    "ExecuteTime": {
     "end_time": "2025-02-03T15:45:25.218473Z",
     "start_time": "2025-02-03T15:45:24.451827Z"
    }
   },
   "source": [
    "# Cell L\n",
    "# Q7: What are the best values for n and smoothing?\n",
    "best_n = 2\n",
    "best_smoothing = 1\n",
    "# Q8: How many parameters does the best ngram model have? Explain how you compute this quantity.\n",
    "best_ngram_model = NgramCounter(best_n, smoothing=best_smoothing)\n",
    "fit(best_ngram_model, tokens['train'])"
   ],
   "outputs": [],
   "execution_count": 24
  },
  {
   "metadata": {
    "ExecuteTime": {
     "end_time": "2025-02-03T15:58:02.901772Z",
     "start_time": "2025-02-03T15:58:02.890Z"
    }
   },
   "cell_type": "code",
   "source": [
    "display_answer(\n",
    "    \"Q7\",\n",
    "    f\"The best values for n and smoothing are {best_n} and {best_smoothing}, respectively.\"\n",
    ")\n",
    "display_answer(\n",
    "    \"Q8\",\n",
    "    [\n",
    "        f\"The best ngram model has {len(best_ngram_model.ngrams):,d} parameters.\".replace(\",\", \" \"),\n",
    "        \"We can compute it by counting the number of unique n-grams in the training data because each n-gram has a parameter associated with it.\"\n",
    "    ]\n",
    ")"
   ],
   "id": "826ee8e77e7ac9e5",
   "outputs": [
    {
     "data": {
      "text/plain": [
       "<IPython.core.display.HTML object>"
      ],
      "text/html": [
       "<div class=\"alert alert-block alert-success\"> <h1>Q7:</h1>The best values for n and smoothing are 2 and 1, respectively. </div>"
      ]
     },
     "metadata": {},
     "output_type": "display_data"
    },
    {
     "data": {
      "text/plain": [
       "<IPython.core.display.HTML object>"
      ],
      "text/html": [
       "<div class=\"alert alert-block alert-success\"> <h1>Q8:</h1><ul><li>The best ngram model has 11 831 parameters.</li><li>We can compute it by counting the number of unique n-grams in the training data because each n-gram has a parameter associated with it.</li></ul></div>"
      ]
     },
     "metadata": {},
     "output_type": "display_data"
    }
   ],
   "execution_count": 32
  },
  {
   "cell_type": "code",
   "id": "85a62cd5-e667-4983-b9e1-d5c936f914e6",
   "metadata": {
    "ExecuteTime": {
     "end_time": "2025-02-03T15:58:57.990640Z",
     "start_time": "2025-02-03T15:58:22.257306Z"
    }
   },
   "source": [
    "# Cell M\n",
    "# Build the best model on train and dev using the parameters for n and smoothing found in cell L.\n",
    "# Then compute its perplexity on test and gen.\n",
    "# Q9: What do you notice?\n",
    "best_n = 2\n",
    "best_smoothing = 1\n",
    "ngram_model = NgramCounter(best_n, smoothing=best_smoothing)\n",
    "fit(ngram_model, tokens['train']+tokens['dev'])\n",
    "for split in ['train', 'dev', 'test', 'gen']:\n",
    "    perplexity = dataset_perplexity(ngram_model, tokens[split], progress=True)\n",
    "    print('{}: {}'.format(split, perplexity))"
   ],
   "outputs": [
    {
     "name": "stderr",
     "output_type": "stream",
     "text": [
      "100%|██████████| 24155/24155 [00:16<00:00, 1494.61it/s]\n"
     ]
    },
    {
     "name": "stdout",
     "output_type": "stream",
     "text": [
      "train: 2.8175040322146168\n"
     ]
    },
    {
     "name": "stderr",
     "output_type": "stream",
     "text": [
      "100%|██████████| 3000/3000 [00:02<00:00, 1496.23it/s]\n"
     ]
    },
    {
     "name": "stdout",
     "output_type": "stream",
     "text": [
      "dev: 2.804659967615997\n"
     ]
    },
    {
     "name": "stderr",
     "output_type": "stream",
     "text": [
      "100%|██████████| 3000/3000 [00:02<00:00, 1391.26it/s]\n"
     ]
    },
    {
     "name": "stdout",
     "output_type": "stream",
     "text": [
      "test: 2.835451687996139\n"
     ]
    },
    {
     "name": "stderr",
     "output_type": "stream",
     "text": [
      "100%|██████████| 21000/21000 [00:14<00:00, 1443.98it/s]"
     ]
    },
    {
     "name": "stdout",
     "output_type": "stream",
     "text": [
      "gen: 3.770502495632339\n"
     ]
    },
    {
     "name": "stderr",
     "output_type": "stream",
     "text": [
      "\n"
     ]
    }
   ],
   "execution_count": 33
  },
  {
   "metadata": {
    "ExecuteTime": {
     "end_time": "2025-02-03T16:05:08.307829Z",
     "start_time": "2025-02-03T16:05:08.299308Z"
    }
   },
   "cell_type": "code",
   "source": [
    "display_answer(\n",
    "    \"Q9\",\n",
    "    \"We notice that the perplexity on the 'gen' split is higher compared to the other splits, indicating that the model is not generalizing as well. It may be due to differences in the data distribution between the 'gen' split and the other splits, because perplexity on other splits don't show overfitting.\"\n",
    ")"
   ],
   "id": "2bdcca2e636e9118",
   "outputs": [
    {
     "data": {
      "text/plain": [
       "<IPython.core.display.HTML object>"
      ],
      "text/html": [
       "<div class=\"alert alert-block alert-success\"> <h1>Q9:</h1>We notice that the perplexity on the 'gen' split is higher compared to the other splits, indicating that the model is not generalizing as well. It may be due to differences in the data distribution between the 'gen' split and the other splits, because perplexity on other splits don't show overfitting. </div>"
      ]
     },
     "metadata": {},
     "output_type": "display_data"
    }
   ],
   "execution_count": 34
  },
  {
   "cell_type": "code",
   "id": "87b855a5-11f8-40ba-b6a6-3be869cbb551",
   "metadata": {
    "ExecuteTime": {
     "end_time": "2025-02-03T16:28:41.217171Z",
     "start_time": "2025-02-03T16:28:41.192133Z"
    }
   },
   "source": [
    "# Cell N\n",
    "# RNN LM\n",
    "# Q10: How does this RNN LM deal with words outside of its vocabulary?\n",
    "import torch\n",
    "from torch import nn\n",
    "import itertools\n",
    "\n",
    "# redefine this helper class\n",
    "class Vocabulary:\n",
    "    def __init__(self, words=set()):\n",
    "        self.vocab = set(words)\n",
    "        self.unk = '<unk>'\n",
    "        self.bos = '<bos>'\n",
    "        self.eos = '<eos>'\n",
    "        self.vocab.add(self.unk)\n",
    "        self.vocab.add(self.bos)\n",
    "        self.vocab.add(self.eos)\n",
    "        self.vocab = sorted(self.vocab)\n",
    "        \n",
    "    def add(self, word):\n",
    "        if word not in self.vocab:\n",
    "            self.vocab.append(word)\n",
    "        \n",
    "    def process(self, sentence):\n",
    "        assert isinstance(sentence, list) or isinstance(sentence, tuple)\n",
    "        assert all(isinstance(x, str) for x in sentence)\n",
    "        for word in sentence:\n",
    "            self.add(word)\n",
    "        \n",
    "    def size(self):\n",
    "        return len(self.vocab)\n",
    "\n",
    "    def word_to_int(self, word):\n",
    "        assert isinstance(word, str)\n",
    "        if word in self.vocab:\n",
    "            key = word\n",
    "        else:\n",
    "            key = self.unk\n",
    "        return self.vocab.index(key)\n",
    "\n",
    "    def sentence_to_int(self, sentence):\n",
    "        output = [None for _ in sentence]\n",
    "        for ii, token in enumerate(sentence):\n",
    "            output[ii] = self.word_to_int(token)\n",
    "        return output\n",
    "        \n",
    "class RNNLM(nn.Module):\n",
    "    def __init__(self, vocab=None, n_layers=2, n_units=512):\n",
    "        super(RNNLM, self).__init__()\n",
    "        assert isinstance(n_layers, int)\n",
    "        assert n_layers > 0\n",
    "        self.n_layers = n_layers\n",
    "        assert isinstance(n_units, int)\n",
    "        assert n_units > 0\n",
    "        self.n_units = n_units\n",
    "        assert isinstance(vocab, Vocabulary)\n",
    "        self.vocab = vocab\n",
    "        self.padding = self.vocab.size()\n",
    "        # model parameters\n",
    "        # dense word embeddings\n",
    "        self.embeddings = nn.Embedding(self.vocab.size()+1, self.n_units, padding_idx=self.padding)\n",
    "        # recurrent neural network\n",
    "        self.rnn = nn.LSTM(self.n_units, self.n_units, num_layers=self.n_layers, batch_first=True)\n",
    "        # final projection layer\n",
    "        self.projection = nn.Sequential(\n",
    "            nn.Linear(self.n_units, self.vocab.size()),\n",
    "            nn.LogSoftmax(2)\n",
    "        )\n",
    "\n",
    "    def forward(self, batch):\n",
    "        assert isinstance(batch, list), batch\n",
    "        assert all(isinstance(x, list) for x in batch), batch\n",
    "        assert all(all(isinstance(x, str) for x in sentence) for sentence in batch)\n",
    "        assert all(x[0] == self.vocab.bos for x in batch)\n",
    "        assert all(x[-1] == self.vocab.eos for x in batch)        \n",
    "        # turn into indices\n",
    "        indices = [self.vocab.sentence_to_int(x) for x in batch]\n",
    "        # pad\n",
    "        max_len = max(len(x) for x in indices)\n",
    "        indices = [x if len(x) == max_len else x+[self.padding]*(max_len-len(x)) for x in indices]\n",
    "        # turn into tensor\n",
    "        indices = torch.tensor(indices)\n",
    "        # feed through model\n",
    "        word_embeddings = self.embeddings(indices)\n",
    "        rnn_outputs, _ = self.rnn(word_embeddings)\n",
    "        logits = self.projection(rnn_outputs)\n",
    "        return logits, indices\n",
    "\n",
    "    def perplexity(self, sentence):\n",
    "        assert isinstance(sentence, list), sentence\n",
    "        assert all(isinstance(x, str) for x in sentence)\n",
    "        assert sentence[0] == self.vocab.bos, sentence\n",
    "        assert sentence[-1] == self.vocab.eos, sentence\n",
    "        logits, indices = self.forward([sentence])\n",
    "        logits = logits[0,:-1,:]\n",
    "        indices = indices[0,1:]\n",
    "        # there is probably a better way for the following\n",
    "        perplexity = 0\n",
    "        for tt, index in enumerate(indices.numpy().tolist()):\n",
    "            perplexity += logits[tt,index].item()\n",
    "        perplexity = -perplexity/len(sentence)\n",
    "        return perplexity\n",
    "\n",
    "    def batch_perplexity(self, batch):\n",
    "        assert isinstance(batch, list), batch\n",
    "        assert all(isinstance(x, list) for x in batch), batch\n",
    "        assert len(batch) > 0\n",
    "        perplexities = [ self.perplexity(sentence) for sentence in batch ]\n",
    "        return sum(perplexities)/len(perplexities)\n",
    "            \n",
    "    def number_parameters(self):\n",
    "        return sum(p.numel() for p in self.parameters() if p.requires_grad)\n",
    "\n",
    "class Trainer:\n",
    "    def __init__(self, model, data, batch_size=128):\n",
    "        self.model = model\n",
    "        self.data = data\n",
    "        self.optimizer = torch.optim.Adam(self.model.parameters())\n",
    "        assert isinstance(batch_size, int)\n",
    "        assert batch_size>0\n",
    "        self.batch_size = batch_size\n",
    "        self.loss_function = nn.CrossEntropyLoss(ignore_index=self.model.padding, size_average=True)\n",
    "\n",
    "    def step(self, split, position, grad=False):\n",
    "        start = position\n",
    "        end = min(start + self.batch_size, len(self.data[split]))\n",
    "        batch = self.data[split][start:end]\n",
    "        logits, indices = self.model.forward(batch)\n",
    "        targets = indices[:,1:]\n",
    "        logits = logits[:,:-1,:]\n",
    "        assert logits.size(0) == targets.size(0)\n",
    "        assert logits.size(1) == targets.size(1)\n",
    "        logits = torch.reshape(logits, (-1, self.model.vocab.size()))\n",
    "        targets = torch.reshape(targets, (-1,))\n",
    "        loss = self.loss_function(logits, targets)\n",
    "        if grad:\n",
    "            self.optimizer.zero_grad()\n",
    "            loss.backward()\n",
    "            nn.utils.clip_grad_norm_(self.model.parameters(), 5)\n",
    "            self.optimizer.step()\n",
    "        return loss\n",
    "\n",
    "    def train(self, num_epochs, verbose=False):\n",
    "        for epoch in range(num_epochs):\n",
    "            train_loss = 0\n",
    "            num_steps = 0\n",
    "            it = tqdm(range(0, len(self.data['train']), self.batch_size)) if verbose \\\n",
    "                else range(0, len(self.data['train']), self.batch_size)\n",
    "            for position in it:\n",
    "                loss_ = self.step('train', position, grad=True)\n",
    "                train_loss += loss_.item()\n",
    "                num_steps += 1\n",
    "            train_loss /= num_steps\n",
    "            dev_loss = 0\n",
    "            num_steps = 0\n",
    "            it = tqdm(range(0, len(self.data['dev']), self.batch_size)) if verbose \\\n",
    "                else range(0, len(self.data['dev']), self.batch_size)\n",
    "            for position in it:\n",
    "                loss_ = self.step('dev', position, grad=False)\n",
    "                dev_loss += loss_\n",
    "                num_steps += 1\n",
    "            dev_loss /= num_steps\n",
    "            print('epoch {}/{}; train loss {}; dev loss {}'.format(epoch+1, num_epochs, train_loss, dev_loss))"
   ],
   "outputs": [],
   "execution_count": 44
  },
  {
   "metadata": {
    "ExecuteTime": {
     "end_time": "2025-02-03T16:15:37.650402Z",
     "start_time": "2025-02-03T16:15:37.643521Z"
    }
   },
   "cell_type": "code",
   "source": [
    "display_answer(\n",
    "    \"Q10\",\n",
    "    \"The RNN LM deals with words outside of its vocabulary by mapping them to a special '<unk>' token.\"\n",
    ")"
   ],
   "id": "f011fe6f0c676b94",
   "outputs": [
    {
     "data": {
      "text/plain": [
       "<IPython.core.display.HTML object>"
      ],
      "text/html": [
       "<div class=\"alert alert-block alert-success\"> <h1>Q10:</h1>The RNN LM deals with words outside of its vocabulary by mapping them to a special '<unk>' token. </div>"
      ]
     },
     "metadata": {},
     "output_type": "display_data"
    }
   ],
   "execution_count": 37
  },
  {
   "cell_type": "code",
   "id": "0234259c-716f-447c-9d0e-087ddd303aea",
   "metadata": {
    "ExecuteTime": {
     "end_time": "2025-02-03T16:35:26.654182Z",
     "start_time": "2025-02-03T16:28:47.657014Z"
    }
   },
   "source": [
    "# Cell O\n",
    "# Train RNN LM\n",
    "vocabulary = Vocabulary()\n",
    "for sentence in tokens['train']:\n",
    "    vocabulary.process(sentence)\n",
    "rnn_lm = RNNLM(vocab=vocabulary, n_layers=1, n_units=7)\n",
    "print(rnn_lm)\n",
    "print('number of parameters: {}'.format(rnn_lm.number_parameters()))\n",
    "trainer = Trainer(rnn_lm, tokens)\n",
    "print('get up and stretch your legs while this runs')\n",
    "trainer.train(100)\n",
    "# Q11: How do the number of parameters of this model compare to the number of parameters of the best ngram model?"
   ],
   "outputs": [
    {
     "name": "stdout",
     "output_type": "stream",
     "text": [
      "RNNLM(\n",
      "  (embeddings): Embedding(745, 7, padding_idx=744)\n",
      "  (rnn): LSTM(7, 7, batch_first=True)\n",
      "  (projection): Sequential(\n",
      "    (0): Linear(in_features=7, out_features=744, bias=True)\n",
      "    (1): LogSoftmax(dim=2)\n",
      "  )\n",
      ")\n",
      "number of parameters: 11615\n",
      "get up and stretch your legs while this runs\n",
      "epoch 1/100; train loss 6.091866962493412; dev loss 5.046941757202148\n",
      "epoch 2/100; train loss 4.410419655855371; dev loss 4.13668966293335\n",
      "epoch 3/100; train loss 4.057725382860376; dev loss 3.9980876445770264\n",
      "epoch 4/100; train loss 3.91999030365515; dev loss 3.855720281600952\n",
      "epoch 5/100; train loss 3.7844774521217146; dev loss 3.7277815341949463\n",
      "epoch 6/100; train loss 3.6552150123333806; dev loss 3.595290422439575\n",
      "epoch 7/100; train loss 3.5147655565271934; dev loss 3.441870927810669\n",
      "epoch 8/100; train loss 3.3367638840246454; dev loss 3.254112482070923\n",
      "epoch 9/100; train loss 3.1569398231607266; dev loss 3.0827343463897705\n",
      "epoch 10/100; train loss 2.997158480699731; dev loss 2.9384686946868896\n",
      "epoch 11/100; train loss 2.872243734894606; dev loss 2.831226110458374\n",
      "epoch 12/100; train loss 2.7790337756828025; dev loss 2.7477285861968994\n",
      "epoch 13/100; train loss 2.702326142598712; dev loss 2.6771926879882812\n",
      "epoch 14/100; train loss 2.639146339325678; dev loss 2.620748281478882\n",
      "epoch 15/100; train loss 2.5856670059224287; dev loss 2.5615620613098145\n",
      "epoch 16/100; train loss 2.520642468538234; dev loss 2.50028395652771\n",
      "epoch 17/100; train loss 2.469666140420096; dev loss 2.4572625160217285\n",
      "epoch 18/100; train loss 2.432100808178937; dev loss 2.4230194091796875\n",
      "epoch 19/100; train loss 2.3999642909519254; dev loss 2.392742872238159\n",
      "epoch 20/100; train loss 2.371541086328093; dev loss 2.3661677837371826\n",
      "epoch 21/100; train loss 2.3464116331130738; dev loss 2.341731548309326\n",
      "epoch 22/100; train loss 2.323218198049636; dev loss 2.3199234008789062\n",
      "epoch 23/100; train loss 2.303632254323001; dev loss 2.301717519760132\n",
      "epoch 24/100; train loss 2.2865540337941; dev loss 2.2856273651123047\n",
      "epoch 25/100; train loss 2.271320361939688; dev loss 2.2712528705596924\n",
      "epoch 26/100; train loss 2.2575808681508223; dev loss 2.2582852840423584\n",
      "epoch 27/100; train loss 2.245079548901351; dev loss 2.2465648651123047\n",
      "epoch 28/100; train loss 2.233737208855846; dev loss 2.235886573791504\n",
      "epoch 29/100; train loss 2.2232496801507535; dev loss 2.2259600162506104\n",
      "epoch 30/100; train loss 2.2134822260135065; dev loss 2.216869592666626\n",
      "epoch 31/100; train loss 2.2045750201694547; dev loss 2.2085254192352295\n",
      "epoch 32/100; train loss 2.196385809984157; dev loss 2.200792074203491\n",
      "epoch 33/100; train loss 2.188779215333323; dev loss 2.193615674972534\n",
      "epoch 34/100; train loss 2.1817099720081954; dev loss 2.1869945526123047\n",
      "epoch 35/100; train loss 2.1751648698534285; dev loss 2.1808724403381348\n",
      "epoch 36/100; train loss 2.1690839068599477; dev loss 2.1751902103424072\n",
      "epoch 37/100; train loss 2.1634142133924694; dev loss 2.1698992252349854\n",
      "epoch 38/100; train loss 2.1581172526828825; dev loss 2.1649558544158936\n",
      "epoch 39/100; train loss 2.1531585171109153; dev loss 2.160320520401001\n",
      "epoch 40/100; train loss 2.148504055366314; dev loss 2.1559574604034424\n",
      "epoch 41/100; train loss 2.1441119991282305; dev loss 2.1518056392669678\n",
      "epoch 42/100; train loss 2.1396660514609525; dev loss 2.147242307662964\n",
      "epoch 43/100; train loss 2.1352840138490867; dev loss 2.143315553665161\n",
      "epoch 44/100; train loss 2.131418929528938; dev loss 2.1397149562835693\n",
      "epoch 45/100; train loss 2.1277871144511713; dev loss 2.1363070011138916\n",
      "epoch 46/100; train loss 2.124313474332214; dev loss 2.133056879043579\n",
      "epoch 47/100; train loss 2.121005905999078; dev loss 2.129992723464966\n",
      "epoch 48/100; train loss 2.1178673726541026; dev loss 2.1270902156829834\n",
      "epoch 49/100; train loss 2.1148764683456016; dev loss 2.1243324279785156\n",
      "epoch 50/100; train loss 2.1120172354279374; dev loss 2.1216962337493896\n",
      "epoch 51/100; train loss 2.1092749865597518; dev loss 2.119166135787964\n",
      "epoch 52/100; train loss 2.1066370010375977; dev loss 2.1167280673980713\n",
      "epoch 53/100; train loss 2.1040930571379484; dev loss 2.1143734455108643\n",
      "epoch 54/100; train loss 2.1016340861244807; dev loss 2.112091302871704\n",
      "epoch 55/100; train loss 2.099249732557428; dev loss 2.1098709106445312\n",
      "epoch 56/100; train loss 2.0969276068702576; dev loss 2.1077029705047607\n",
      "epoch 57/100; train loss 2.094656193067157; dev loss 2.1055805683135986\n",
      "epoch 58/100; train loss 2.0924301670972634; dev loss 2.1034951210021973\n",
      "epoch 59/100; train loss 2.090246249128271; dev loss 2.1014366149902344\n",
      "epoch 60/100; train loss 2.0880958655523876; dev loss 2.0994036197662354\n",
      "epoch 61/100; train loss 2.0859740884215743; dev loss 2.0974016189575195\n",
      "epoch 62/100; train loss 2.0838812261662154; dev loss 2.0954411029815674\n",
      "epoch 63/100; train loss 2.081821432820073; dev loss 2.093531847000122\n",
      "epoch 64/100; train loss 2.0797999176398787; dev loss 2.0916788578033447\n",
      "epoch 65/100; train loss 2.077822726239603; dev loss 2.089887857437134\n",
      "epoch 66/100; train loss 2.0758960518256697; dev loss 2.088160991668701\n",
      "epoch 67/100; train loss 2.074028179128334; dev loss 2.08650279045105\n",
      "epoch 68/100; train loss 2.072228989903889; dev loss 2.0849156379699707\n",
      "epoch 69/100; train loss 2.0705058480065968; dev loss 2.0834009647369385\n",
      "epoch 70/100; train loss 2.068860158718452; dev loss 2.081956148147583\n",
      "epoch 71/100; train loss 2.067290110562844; dev loss 2.080580472946167\n",
      "epoch 72/100; train loss 2.0657922130413158; dev loss 2.079270124435425\n",
      "epoch 73/100; train loss 2.0643627252528276; dev loss 2.078021764755249\n",
      "epoch 74/100; train loss 2.0629975991274314; dev loss 2.0768320560455322\n",
      "epoch 75/100; train loss 2.0616931820672657; dev loss 2.075697660446167\n",
      "epoch 76/100; train loss 2.0604459318534407; dev loss 2.0746142864227295\n",
      "epoch 77/100; train loss 2.0592524589054166; dev loss 2.0735795497894287\n",
      "epoch 78/100; train loss 2.058109333906224; dev loss 2.0725884437561035\n",
      "epoch 79/100; train loss 2.05701340190948; dev loss 2.0716395378112793\n",
      "epoch 80/100; train loss 2.0559611787240972; dev loss 2.0707285404205322\n",
      "epoch 81/100; train loss 2.05494926972364; dev loss 2.069852352142334\n",
      "epoch 82/100; train loss 2.0539740424938304; dev loss 2.069007396697998\n",
      "epoch 83/100; train loss 2.053031731534887; dev loss 2.068189859390259\n",
      "epoch 84/100; train loss 2.052118004314483; dev loss 2.067394971847534\n",
      "epoch 85/100; train loss 2.0512278420584544; dev loss 2.066617965698242\n",
      "epoch 86/100; train loss 2.050355491184053; dev loss 2.0658504962921143\n",
      "epoch 87/100; train loss 2.049494009169321; dev loss 2.0650851726531982\n",
      "epoch 88/100; train loss 2.0486372387598433; dev loss 2.064314126968384\n",
      "epoch 89/100; train loss 2.047781751269386; dev loss 2.063537359237671\n",
      "epoch 90/100; train loss 2.046928922966044; dev loss 2.0627593994140625\n",
      "epoch 91/100; train loss 2.046081479264315; dev loss 2.0619843006134033\n",
      "epoch 92/100; train loss 2.045210944912421; dev loss 2.061169147491455\n",
      "epoch 93/100; train loss 2.044339163593514; dev loss 2.0603840351104736\n",
      "epoch 94/100; train loss 2.043503442138591; dev loss 2.0595977306365967\n",
      "epoch 95/100; train loss 2.042659563362283; dev loss 2.058784008026123\n",
      "epoch 96/100; train loss 2.041786331348318; dev loss 2.057917594909668\n",
      "epoch 97/100; train loss 2.0408660949222623; dev loss 2.0569961071014404\n",
      "epoch 98/100; train loss 2.039902224111809; dev loss 2.0560731887817383\n",
      "epoch 99/100; train loss 2.038954423848914; dev loss 2.0552103519439697\n",
      "epoch 100/100; train loss 2.038075913827886; dev loss 2.0544068813323975\n"
     ]
    }
   ],
   "execution_count": 45
  },
  {
   "metadata": {
    "ExecuteTime": {
     "end_time": "2025-02-03T16:35:26.735176Z",
     "start_time": "2025-02-03T16:35:26.724457Z"
    }
   },
   "cell_type": "code",
   "source": [
    "display_answer(\n",
    "    \"Q11\",\n",
    "    f\"The number of parameters of this model is slightly smaller than the number of parameters of the best ngram model. It has {rnn_lm.number_parameters():,d} parameters.\".replace(\",\", \" \")\n",
    ")"
   ],
   "id": "f1dbf5c9a72c2f44",
   "outputs": [
    {
     "data": {
      "text/plain": [
       "<IPython.core.display.HTML object>"
      ],
      "text/html": [
       "<div class=\"alert alert-block alert-success\"> <h1>Q11:</h1>The number of parameters of this model is slightly smaller than the number of parameters of the best ngram model. It has 11 615 parameters. </div>"
      ]
     },
     "metadata": {},
     "output_type": "display_data"
    }
   ],
   "execution_count": 46
  },
  {
   "cell_type": "code",
   "id": "049f5242-b956-4b8b-9726-bffc0810c965",
   "metadata": {
    "ExecuteTime": {
     "end_time": "2025-02-03T16:35:56.627544Z",
     "start_time": "2025-02-03T16:35:26.829466Z"
    }
   },
   "source": [
    "# Cell P\n",
    "# Q12: How does the following compare to the best ngram model?\n",
    "for split in ['train', 'dev', 'test', 'gen']:\n",
    "    perplexity = dataset_perplexity(rnn_lm, tokens[split], progress=True)\n",
    "    print('{}: {}'.format(split, perplexity))"
   ],
   "outputs": [
    {
     "name": "stderr",
     "output_type": "stream",
     "text": [
      "100%|██████████| 24155/24155 [00:13<00:00, 1798.35it/s]\n"
     ]
    },
    {
     "name": "stdout",
     "output_type": "stream",
     "text": [
      "train: 1.843258685676084\n"
     ]
    },
    {
     "name": "stderr",
     "output_type": "stream",
     "text": [
      "100%|██████████| 3000/3000 [00:01<00:00, 1789.82it/s]\n"
     ]
    },
    {
     "name": "stdout",
     "output_type": "stream",
     "text": [
      "dev: 1.8473412793388297\n"
     ]
    },
    {
     "name": "stderr",
     "output_type": "stream",
     "text": [
      "100%|██████████| 3000/3000 [00:01<00:00, 1867.24it/s]\n"
     ]
    },
    {
     "name": "stdout",
     "output_type": "stream",
     "text": [
      "test: 1.8427308465471246\n"
     ]
    },
    {
     "name": "stderr",
     "output_type": "stream",
     "text": [
      "100%|██████████| 21000/21000 [00:13<00:00, 1607.85it/s]"
     ]
    },
    {
     "name": "stdout",
     "output_type": "stream",
     "text": [
      "gen: 3.2101710679603115\n"
     ]
    },
    {
     "name": "stderr",
     "output_type": "stream",
     "text": [
      "\n"
     ]
    }
   ],
   "execution_count": 47
  },
  {
   "metadata": {
    "ExecuteTime": {
     "end_time": "2025-02-03T16:45:00.283963Z",
     "start_time": "2025-02-03T16:45:00.277453Z"
    }
   },
   "cell_type": "code",
   "source": [
    "display_answer(\n",
    "    \"Q12\",\n",
    "    [\n",
    "        \"The perplexity of the RNN LM is lower than that of the best ngram model on all splits, indicating that the RNN LM performs better than the ngram model.\",\n",
    "        \"The results are significantly better on the 'train', 'dev' and 'test' splits, but also slightly on 'gen' which suggests that the RNN LM generalizes better than the ngram model.\"\n",
    "    ]\n",
    ")"
   ],
   "id": "c38f073b9c931fbe",
   "outputs": [
    {
     "data": {
      "text/plain": [
       "<IPython.core.display.HTML object>"
      ],
      "text/html": [
       "<div class=\"alert alert-block alert-success\"> <h1>Q12:</h1><ul><li>The perplexity of the RNN LM is lower than that of the best ngram model on all splits, indicating that the RNN LM performs better than the ngram model.</li><li>The results are significantly better on the 'train', 'dev' and 'test' splits, but also slightly on 'gen' which suggests that the RNN LM generalizes better than the ngram model.</li></ul></div>"
      ]
     },
     "metadata": {},
     "output_type": "display_data"
    }
   ],
   "execution_count": 49
  },
  {
   "cell_type": "code",
   "execution_count": null,
   "id": "a766cbea-af09-4fa8-a11e-1c9e8047e51e",
   "metadata": {},
   "outputs": [],
   "source": [
    "# Cell Q\n",
    "# Note that we underexploited at least 3 things:\n",
    "# 1. The training time. The dev loss keeps decreasing, even after 200 epochs of training.\n",
    "# See this by running trainer.train(100)\n",
    "# 2. The RNN size. This RNN is *tiny* compared to what you'd use in practice. Here we just made it comparable to the best ngram model.\n",
    "# 3. The data. Once we know at what epoch our RNN converges, we can train on train+dev, using the optimal epoch number as our stopping criterion.\n",
    "# Q13: What else could we have done to further push the dev loss down?"
   ]
  },
  {
   "metadata": {
    "ExecuteTime": {
     "end_time": "2025-02-03T16:53:49.156772Z",
     "start_time": "2025-02-03T16:53:49.143885Z"
    }
   },
   "cell_type": "code",
   "source": [
    "display_answer(\n",
    "    \"Q13\",\n",
    "    [\n",
    "        \"4. Regularization Techniques: We could implement regularization techniques such as dropout or L2 regularization, in order to limit overfitting in our model.\",\n",
    "        \"5. Hyperparameter Tuning: We could also experiment with different hyperparameters (learning rate, batch size, number of layers, ...)\"\n",
    "    ]\n",
    ")"
   ],
   "id": "96398fab0352c256",
   "outputs": [
    {
     "data": {
      "text/plain": [
       "<IPython.core.display.HTML object>"
      ],
      "text/html": [
       "<div class=\"alert alert-block alert-success\"> <h1>Q13:</h1><ul><li>4. Regularization Techniques: We could implement regularization techniques such as dropout or L2 regularization, in order to limit overfitting in our model.</li><li>5. Hyperparameter Tuning: We could also experiment with different hyperparameters (learning rate, batch size, number of layers, ...)</li></ul></div>"
      ]
     },
     "metadata": {},
     "output_type": "display_data"
    }
   ],
   "execution_count": 50
  },
  {
   "cell_type": "code",
   "id": "2dc6865e-7e2c-466a-9c9e-eb68b8d46a50",
   "metadata": {
    "ExecuteTime": {
     "end_time": "2025-02-03T17:00:44.012066Z",
     "start_time": "2025-02-03T16:54:17.463274Z"
    }
   },
   "source": [
    "# Cell R\n",
    "# Train larger RNN LM\n",
    "vocabulary = Vocabulary()\n",
    "for sentence in tokens['train']:\n",
    "    vocabulary.process(sentence)\n",
    "rnn_lm_large = RNNLM(vocab=vocabulary, n_layers=2, n_units=512)\n",
    "print(rnn_lm_large)\n",
    "print('number of parameters: {}'.format(rnn_lm_large.number_parameters()))\n",
    "trainer_large = Trainer(rnn_lm_large, tokens)\n",
    "print('get up and stretch your legs while this runs')\n",
    "trainer_large.train(5)"
   ],
   "outputs": [
    {
     "name": "stdout",
     "output_type": "stream",
     "text": [
      "RNNLM(\n",
      "  (embeddings): Embedding(745, 512, padding_idx=744)\n",
      "  (rnn): LSTM(512, 512, num_layers=2, batch_first=True)\n",
      "  (projection): Sequential(\n",
      "    (0): Linear(in_features=512, out_features=744, bias=True)\n",
      "    (1): LogSoftmax(dim=2)\n",
      "  )\n",
      ")\n",
      "number of parameters: 4965608\n",
      "get up and stretch your legs while this runs\n",
      "epoch 1/5; train loss 2.5779025567271723; dev loss 2.0649921894073486\n",
      "epoch 2/5; train loss 2.03600033313509; dev loss 2.021497964859009\n",
      "epoch 3/5; train loss 2.011355488388627; dev loss 2.013841152191162\n",
      "epoch 4/5; train loss 2.0007866419181624; dev loss 2.011286973953247\n",
      "epoch 5/5; train loss 1.9932712322820432; dev loss 2.010087251663208\n"
     ]
    }
   ],
   "execution_count": 51
  },
  {
   "cell_type": "code",
   "id": "905d36f9-ef30-42bd-8a52-2ecb292e005a",
   "metadata": {
    "scrolled": true,
    "ExecuteTime": {
     "end_time": "2025-02-03T17:04:46.984070Z",
     "start_time": "2025-02-03T17:00:44.099457Z"
    }
   },
   "source": [
    "# Cell S\n",
    "# Q14: How does the following compare to the other models?\n",
    "for split in ['train', 'dev', 'test', 'gen']:\n",
    "    perplexity = dataset_perplexity(rnn_lm_large, tokens[split], progress=True)\n",
    "    print('{}: {}'.format(split, perplexity))"
   ],
   "outputs": [
    {
     "name": "stderr",
     "output_type": "stream",
     "text": [
      "100%|██████████| 24155/24155 [01:50<00:00, 218.74it/s]\n"
     ]
    },
    {
     "name": "stdout",
     "output_type": "stream",
     "text": [
      "train: 1.8006862929427256\n"
     ]
    },
    {
     "name": "stderr",
     "output_type": "stream",
     "text": [
      "100%|██████████| 3000/3000 [00:13<00:00, 225.95it/s]\n"
     ]
    },
    {
     "name": "stdout",
     "output_type": "stream",
     "text": [
      "dev: 1.8166657139161784\n"
     ]
    },
    {
     "name": "stderr",
     "output_type": "stream",
     "text": [
      "100%|██████████| 3000/3000 [00:13<00:00, 224.07it/s]\n"
     ]
    },
    {
     "name": "stdout",
     "output_type": "stream",
     "text": [
      "test: 1.8102643273096337\n"
     ]
    },
    {
     "name": "stderr",
     "output_type": "stream",
     "text": [
      "100%|██████████| 21000/21000 [01:45<00:00, 198.58it/s]"
     ]
    },
    {
     "name": "stdout",
     "output_type": "stream",
     "text": [
      "gen: 2.966597021900037\n"
     ]
    },
    {
     "name": "stderr",
     "output_type": "stream",
     "text": [
      "\n"
     ]
    }
   ],
   "execution_count": 52
  },
  {
   "metadata": {
    "ExecuteTime": {
     "end_time": "2025-02-03T17:08:37.550320Z",
     "start_time": "2025-02-03T17:08:37.542521Z"
    }
   },
   "cell_type": "code",
   "source": [
    "display_answer(\n",
    "    \"Q14\",\n",
    "    [\n",
    "        \"The perplexity of the larger RNN LM is quite the same than that of the smaller RNN LM on 'train', 'dev' and 'test' splits\",\n",
    "        \"However, the perplexity on the 'gen' split is lower, indicating that the larger RNN LM generalize even better as the smaller RNN LM did.\"\n",
    "    ]\n",
    ")"
   ],
   "id": "d480efeb86642f9b",
   "outputs": [
    {
     "data": {
      "text/plain": [
       "<IPython.core.display.HTML object>"
      ],
      "text/html": [
       "<div class=\"alert alert-block alert-success\"> <h1>Q14:</h1><ul><li>The perplexity of the larger RNN LM is quite the same than that of the smaller RNN LM on 'train', 'dev' and 'test' splits</li><li>However, the perplexity on the 'gen' split is lower, indicating that the larger RNN LM generalize even better as the smaller RNN LM did.</li></ul></div>"
      ]
     },
     "metadata": {},
     "output_type": "display_data"
    }
   ],
   "execution_count": 53
  },
  {
   "cell_type": "code",
   "id": "762d8e78-cc7b-4523-ae19-ce446affa1f8",
   "metadata": {
    "ExecuteTime": {
     "end_time": "2025-02-03T17:10:53.731589Z",
     "start_time": "2025-02-03T17:08:45.938826Z"
    }
   },
   "source": [
    "# Cell T\n",
    "# Look at some high and low perplexity samples\n",
    "# Look at overall distribution of perplexity\n",
    "# Q15: What do you notice? Is there a phrase that describes this mismatch between distributions?\n",
    "fig, ax = plt.subplots(1,3)\n",
    "for ii, (name, model) in enumerate([('ngram', ngram_model), ('rnn', rnn_lm), ('rnn large', rnn_lm_large)]):\n",
    "    for split in ['gen', 'test']:\n",
    "        perplexity, samples = dataset_perplexity(model, tokens[split], progress=True, details=True)\n",
    "        print('{} on {}:'.format(name, split))\n",
    "        print('  perplexity: {}'.format(perplexity))\n",
    "        print('  low perplexity:')\n",
    "        low_p = ('    '+' '.join(x[0]) + ' -- {}'.format(x[1]) for x in samples[:5])\n",
    "        print('\\n'.join(low_p))\n",
    "        print('  high perplexity:')\n",
    "        high_p = ('    '+' '.join(x[0]) + ' -- {}'.format(x[1]) for x in samples[-5:])\n",
    "        print('\\n'.join(high_p))\n",
    "        y = sorted((x[1] for x in samples), reverse=True)\n",
    "        assert all(z>0 for z in y)\n",
    "        x = np.arange(len(y))\n",
    "        #ax.plot(x, y, label='{}-{}'.format(name,split))\n",
    "        ax[ii].hist(y, bins=100, density=True, label='{}-{}'.format(name,split))\n",
    "for ii,_ in enumerate(ax):\n",
    "    ax[ii].legend()"
   ],
   "outputs": [
    {
     "name": "stderr",
     "output_type": "stream",
     "text": [
      "100%|██████████| 21000/21000 [00:10<00:00, 2005.61it/s]\n"
     ]
    },
    {
     "name": "stdout",
     "output_type": "stream",
     "text": [
      "ngram on gen:\n",
      "  perplexity: 3.770502495632339\n",
      "  low perplexity:\n",
      "    <bos> the girl in a box was given a cake . <eos> -- 1.9547718504713487\n",
      "    <bos> the donut on the box was eaten by the girl on a table . <eos> -- 2.0409767526976643\n",
      "    <bos> the donut beside the table was given to emma . <eos> -- 2.32142372733305\n",
      "    <bos> a girl on the box was lended the balloon beside a table . <eos> -- 2.3282984587208677\n",
      "    <bos> the cake in the room was given to liam . <eos> -- 2.377783496726387\n",
      "  high perplexity:\n",
      "    <bos> charlie awarded matthew a jigsaw . <eos> -- 5.434826022015368\n",
      "    <bos> charlie brought hazel the weapon . <eos> -- 5.443434029267842\n",
      "    <bos> lily gave grayson a hedgehog . <eos> -- 5.459891409819\n",
      "    <bos> david forwarded noah a shark . <eos> -- 5.4757450021315535\n",
      "    <bos> lily gave grayson a shark . <eos> -- 5.546534807388993\n"
     ]
    },
    {
     "name": "stderr",
     "output_type": "stream",
     "text": [
      "100%|██████████| 3000/3000 [00:01<00:00, 2033.82it/s]\n"
     ]
    },
    {
     "name": "stdout",
     "output_type": "stream",
     "text": [
      "ngram on test:\n",
      "  perplexity: 2.835451687996139\n",
      "  low perplexity:\n",
      "    <bos> a donut was given to emma . <eos> -- 1.5535016266099089\n",
      "    <bos> the cake was rolled by emma . <eos> -- 1.6013388855308628\n",
      "    <bos> the cake was rolled . <eos> -- 1.6088758526911702\n",
      "    <bos> a cake was liked by the girl . <eos> -- 1.6210054267492218\n",
      "    <bos> the cookie was given to emma . <eos> -- 1.6313994763531092\n",
      "  high perplexity:\n",
      "    <bos> joseph studied gabriel . <eos> -- 4.396597636527191\n",
      "    <bos> mateo lended the princess the flag . <eos> -- 4.484398557443335\n",
      "    <bos> the monkey served a penguin a leaf beside the baron . <eos> -- 4.503364231821037\n",
      "    <bos> brooklyn gave a plate beside a machine to bella . <eos> -- 4.560904332255828\n",
      "    <bos> stella gave david the sweetcorn . <eos> -- 4.998960534214915\n"
     ]
    },
    {
     "name": "stderr",
     "output_type": "stream",
     "text": [
      "100%|██████████| 21000/21000 [00:09<00:00, 2105.31it/s]\n"
     ]
    },
    {
     "name": "stdout",
     "output_type": "stream",
     "text": [
      "rnn on gen:\n",
      "  perplexity: 3.2101710679603115\n",
      "  low perplexity:\n",
      "    <bos> the girl gave a cake on the rock beside a table on a bed to a boy . <eos> -- 1.6584359584921913\n",
      "    <bos> emma teleported the cake beside a table to the girl . <eos> -- 1.7902598638241984\n",
      "    <bos> the girl gave a cake on a stage in the house beside a table to a baby . <eos> -- 1.8052162237618177\n",
      "    <bos> a girl liked that liam liked that a cat hoped that the cookie was adored . <eos> -- 1.8126476936805476\n",
      "    <bos> a cat teleported the cake beside the table to a girl . <eos> -- 1.815169229408119\n",
      "  high perplexity:\n",
      "    <bos> elijah passed lina to sofia . <eos> -- 6.329251224560721\n",
      "    <bos> mia slipped lina to a fish . <eos> -- 6.430815254076151\n",
      "    <bos> oliver slipped lina to caleb . <eos> -- 6.470261955302703\n",
      "    <bos> paula loved to run . <eos> -- 6.815376508344863\n",
      "    <bos> paula loved to talk . <eos> -- 7.197095988073021\n"
     ]
    },
    {
     "name": "stderr",
     "output_type": "stream",
     "text": [
      "100%|██████████| 3000/3000 [00:01<00:00, 2379.56it/s]\n"
     ]
    },
    {
     "name": "stdout",
     "output_type": "stream",
     "text": [
      "rnn on test:\n",
      "  perplexity: 1.8427308465471246\n",
      "  low perplexity:\n",
      "    <bos> a cake was given to emma by the girl . <eos> -- 0.8720754918225188\n",
      "    <bos> a cake was liked by the girl . <eos> -- 0.8858712126020691\n",
      "    <bos> the cake was given to a boy by a girl . <eos> -- 0.9106264383926128\n",
      "    <bos> the cake was rolled by emma . <eos> -- 0.9216514491021776\n",
      "    <bos> a cake was lended to emma by the girl . <eos> -- 0.9285156899337986\n",
      "  high perplexity:\n",
      "    <bos> aria crumpled the chicken in the cart beside the stage . <eos> -- 3.139635930096399\n",
      "    <bos> the chief worshipped aubrey . <eos> -- 3.1532197664969965\n",
      "    <bos> emma served a block beside the sphere to anthony . <eos> -- 3.2748955241277145\n",
      "    <bos> samuel was promised the cake beside a gardner by emma . <eos> -- 3.385974250849708\n",
      "    <bos> joseph studied gabriel . <eos> -- 3.6065002964169253\n"
     ]
    },
    {
     "name": "stderr",
     "output_type": "stream",
     "text": [
      "100%|██████████| 21000/21000 [01:31<00:00, 230.20it/s]\n"
     ]
    },
    {
     "name": "stdout",
     "output_type": "stream",
     "text": [
      "rnn large on gen:\n",
      "  perplexity: 2.966597021900037\n",
      "  low perplexity:\n",
      "    <bos> the girl gave a cake on a stage in the house beside a table to a baby . <eos> -- 1.4029841099050828\n",
      "    <bos> the girl gave a cake on the rock beside a table on a bed to a boy . <eos> -- 1.4988182809222053\n",
      "    <bos> a girl fed a box in the room in a cup on the table to the boy . <eos> -- 1.7068311630497193\n",
      "    <bos> emma teleported a cake in the house to the girl . <eos> -- 1.7188242800201317\n",
      "    <bos> a cat teleported the cake beside the table to a girl . <eos> -- 1.7292732293821504\n",
      "  high perplexity:\n",
      "    <bos> theodore gave claire lina . <eos> -- 5.86390296726105\n",
      "    <bos> leo rented lincoln paula . <eos> -- 5.889794444395063\n",
      "    <bos> daniel promised ellie lina . <eos> -- 5.89500592917154\n",
      "    <bos> jackson slipped zoey lina . <eos> -- 6.038066152466594\n",
      "    <bos> leo rented lincoln lina . <eos> -- 6.257360069172656\n"
     ]
    },
    {
     "name": "stderr",
     "output_type": "stream",
     "text": [
      "100%|██████████| 3000/3000 [00:11<00:00, 253.77it/s]\n"
     ]
    },
    {
     "name": "stdout",
     "output_type": "stream",
     "text": [
      "rnn large on test:\n",
      "  perplexity: 1.8102643273096337\n",
      "  low perplexity:\n",
      "    <bos> the cake was given to a boy by a girl . <eos> -- 0.8784662530009743\n",
      "    <bos> a cake was given to emma by the girl . <eos> -- 0.8900936400756715\n",
      "    <bos> a donut was given to a girl by emma . <eos> -- 0.9329544086000775\n",
      "    <bos> the cake was frozen by the girl . <eos> -- 0.9449064000735234\n",
      "    <bos> a cake was liked by the girl . <eos> -- 0.948038620375155\n",
      "  high perplexity:\n",
      "    <bos> leah scoffed . <eos> -- 3.087176422183984\n",
      "    <bos> nora pierced a doll . <eos> -- 3.1170491456640383\n",
      "    <bos> elijah admired camila . <eos> -- 3.1554177702128072\n",
      "    <bos> stella gave david the sweetcorn . <eos> -- 3.1566595485037396\n",
      "    <bos> joseph studied gabriel . <eos> -- 3.9332051007683426\n"
     ]
    },
    {
     "data": {
      "text/plain": [
       "Canvas(toolbar=Toolbar(toolitems=[('Home', 'Reset original view', 'home', 'home'), ('Back', 'Back to previous …"
      ],
      "image/png": "[encoded data removed]",
      "text/html": [
       "\n",
       "            <div style=\"display: inline-block;\">\n",
       "                <div class=\"jupyter-widgets widget-label\" style=\"text-align: center;\">\n",
       "                    Figure\n",
       "                </div>\n",
       "                <img src='data:image/png;base64,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' width=640.0/>\n",
       "            </div>\n",
       "        "
      ],
      "application/vnd.jupyter.widget-view+json": {
       "version_major": 2,
       "version_minor": 0,
       "model_id": "f9cd276efa184a83be304f506fffceea"
      }
     },
     "metadata": {},
     "output_type": "display_data"
    }
   ],
   "execution_count": 54
  },
  {
   "metadata": {
    "ExecuteTime": {
     "end_time": "2025-02-03T17:20:37.053217Z",
     "start_time": "2025-02-03T17:20:37.047637Z"
    }
   },
   "cell_type": "code",
   "source": [
    "display_answer(\n",
    "    \"Q15\",\n",
    "    [\n",
    "        \"We notice that sentences with low perplexity are generally simpler and follow common patterns, while sentences with high perplexity are more complex or contain rare words, making them harder for the models to predict accurately.\",\n",
    "        \"The mismatch between distributions can be described as a domain shift, where the 'test' data and the 'gen' data come from different distributions, leading to poorer model performance on the 'gen' data that is not well-represented by the training data.\"\n",
    "    ]\n",
    ")"
   ],
   "id": "9ac3f84cadd20274",
   "outputs": [
    {
     "data": {
      "text/plain": [
       "<IPython.core.display.HTML object>"
      ],
      "text/html": [
       "<div class=\"alert alert-block alert-success\"> <h1>Q15:</h1><ul><li>We notice that sentences with low perplexity are generally simpler and follow common patterns, while sentences with high perplexity are more complex or contain rare words, making them harder for the models to predict accurately.</li><li>The mismatch between distributions can be described as a domain shift, where the 'test' data and the 'gen' data come from different distributions, leading to poorer model performance on the 'gen' data that is not well-represented by the training data.</li></ul></div>"
      ]
     },
     "metadata": {},
     "output_type": "display_data"
    }
   ],
   "execution_count": 55
  }
 ],
 "metadata": {
  "kernelspec": {
   "display_name": "Python 3 (ipykernel)",
   "language": "python",
   "name": "python3"
  },
  "language_info": {
   "codemirror_mode": {
    "name": "ipython",
    "version": 3
   },
   "file_extension": ".py",
   "mimetype": "text/x-python",
   "name": "python",
   "nbconvert_exporter": "python",
   "pygments_lexer": "ipython3",
   "version": "3.11.7"
  }
 },
 "nbformat": 4,
 "nbformat_minor": 5
}
